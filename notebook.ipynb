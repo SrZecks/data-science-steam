{
  "nbformat": 4,
  "nbformat_minor": 0,
  "metadata": {
    "colab": {
      "name": "atividade.ipynb",
      "provenance": [],
      "collapsed_sections": [
        "TYzNm51-VgMJ",
        "6b1f_1KZH2H8",
        "sXRD2wp8S0ru",
        "j-vt0RKYBXnX",
        "RT6U2JboBT6U",
        "fRH5QaYbERB4",
        "IS9fZWN2EZMJ",
        "Z8qx_TIpJilo",
        "rC1cRqL1JmYt",
        "C_bJVa3fJpOx"
      ]
    },
    "kernelspec": {
      "name": "python3",
      "display_name": "Python 3"
    },
    "language_info": {
      "name": "python"
    }
  },
  "cells": [
    {
      "cell_type": "markdown",
      "metadata": {
        "id": "sKYeU3s1Jx_z"
      },
      "source": [
        "# **Análise de dados (Pandas)**\n",
        "\n",
        "---\n",
        "\n",
        "\n",
        "**Atividade análise de dados 7º Semestre** \n",
        "\n",
        "Universidade 9 de Julho"
      ]
    },
    {
      "cell_type": "markdown",
      "metadata": {
        "id": "TYzNm51-VgMJ"
      },
      "source": [
        "# **Nomes e RAs**"
      ]
    },
    {
      "cell_type": "markdown",
      "metadata": {
        "id": "vl4FC7nfJw0p"
      },
      "source": [
        "Gustavo Borges Galdino da Silva - 317203137\n",
        "\n",
        "Lucas da Rocha Gomes - 418104311\n",
        "\n",
        "Rodrigo Takeshi Shimizu - 418107522\n",
        "\n",
        "Vinicius do Santos Andrade - 418104967\n",
        "\n",
        "Yuri Santana Cordeiro - 3018101849"
      ]
    },
    {
      "cell_type": "markdown",
      "metadata": {
        "id": "6b1f_1KZH2H8"
      },
      "source": [
        "# **Importando o Pandas**"
      ]
    },
    {
      "cell_type": "code",
      "metadata": {
        "id": "HEH6YDpnBzmD"
      },
      "source": [
        "import pandas as pd"
      ],
      "execution_count": null,
      "outputs": []
    },
    {
      "cell_type": "markdown",
      "metadata": {
        "id": "sXRD2wp8S0ru"
      },
      "source": [
        "# **Importação e Verificação dos dados**"
      ]
    },
    {
      "cell_type": "code",
      "metadata": {
        "id": "DeOBhFd-CQkY"
      },
      "source": [
        "steam_games = pd.read_csv('SteamCharts.csv', encoding= 'unicode_escape')"
      ],
      "execution_count": null,
      "outputs": []
    },
    {
      "cell_type": "code",
      "metadata": {
        "id": "3GKD2zWCS4l7",
        "colab": {
          "base_uri": "https://localhost:8080/"
        },
        "outputId": "2b060639-200e-4f4b-d274-ec2833dd71d4"
      },
      "source": [
        "type(steam_games)"
      ],
      "execution_count": null,
      "outputs": [
        {
          "output_type": "execute_result",
          "data": {
            "text/plain": [
              "pandas.core.frame.DataFrame"
            ]
          },
          "metadata": {
            "tags": []
          },
          "execution_count": 3
        }
      ]
    },
    {
      "cell_type": "code",
      "metadata": {
        "id": "h1xyvbw1S7MT",
        "colab": {
          "base_uri": "https://localhost:8080/"
        },
        "outputId": "d4e1efa7-69a9-4267-928c-f87409e67389"
      },
      "source": [
        "steam_games.info"
      ],
      "execution_count": null,
      "outputs": [
        {
          "output_type": "execute_result",
          "data": {
            "text/plain": [
              "<bound method DataFrame.info of                                gamename  year  ...     peak  avg_peak_perc\n",
              "0      Counter-Strike: Global Offensive  2021  ...  1123485       65.9567%\n",
              "1      Counter-Strike: Global Offensive  2021  ...  1124553       66.0893%\n",
              "2      Counter-Strike: Global Offensive  2020  ...  1164396        61.646%\n",
              "3      Counter-Strike: Global Offensive  2020  ...  1037464       64.4605%\n",
              "4      Counter-Strike: Global Offensive  2020  ...   943876       65.0156%\n",
              "...                                 ...   ...  ...      ...            ...\n",
              "83784       Steel Division: Normandy 44  2017  ...      987       42.7153%\n",
              "83785       Steel Division: Normandy 44  2017  ...     2584       35.0906%\n",
              "83786       Steel Division: Normandy 44  2017  ...     4606       24.7212%\n",
              "83787       Steel Division: Normandy 44  2017  ...     1911       37.8362%\n",
              "83788       Steel Division: Normandy 44  2017  ...       14       20.2857%\n",
              "\n",
              "[83789 rows x 7 columns]>"
            ]
          },
          "metadata": {
            "tags": []
          },
          "execution_count": 4
        }
      ]
    },
    {
      "cell_type": "code",
      "metadata": {
        "id": "GUiSXRFnWZDR",
        "colab": {
          "base_uri": "https://localhost:8080/"
        },
        "outputId": "c2c3579f-3af2-462b-8a48-b21cf0d9c7c1"
      },
      "source": [
        "steam_games.shape"
      ],
      "execution_count": null,
      "outputs": [
        {
          "output_type": "execute_result",
          "data": {
            "text/plain": [
              "(83789, 7)"
            ]
          },
          "metadata": {
            "tags": []
          },
          "execution_count": 5
        }
      ]
    },
    {
      "cell_type": "code",
      "metadata": {
        "id": "yHUQryZzSxPY",
        "colab": {
          "base_uri": "https://localhost:8080/"
        },
        "outputId": "4d83f0b7-f432-4537-a283-ec3d4376a000"
      },
      "source": [
        "steam_games.columns"
      ],
      "execution_count": null,
      "outputs": [
        {
          "output_type": "execute_result",
          "data": {
            "text/plain": [
              "Index(['gamename', 'year', 'month', 'avg', 'gain', 'peak', 'avg_peak_perc'], dtype='object')"
            ]
          },
          "metadata": {
            "tags": []
          },
          "execution_count": 6
        }
      ]
    },
    {
      "cell_type": "code",
      "metadata": {
        "id": "iJgDaWmkWmDw",
        "colab": {
          "base_uri": "https://localhost:8080/"
        },
        "outputId": "d7786c3f-1c5e-4bb7-ae34-66dfac2f92d4"
      },
      "source": [
        "steam_games.head(3)"
      ],
      "execution_count": null,
      "outputs": [
        {
          "output_type": "execute_result",
          "data": {
            "text/html": [
              "<div>\n",
              "<style scoped>\n",
              "    .dataframe tbody tr th:only-of-type {\n",
              "        vertical-align: middle;\n",
              "    }\n",
              "\n",
              "    .dataframe tbody tr th {\n",
              "        vertical-align: top;\n",
              "    }\n",
              "\n",
              "    .dataframe thead th {\n",
              "        text-align: right;\n",
              "    }\n",
              "</style>\n",
              "<table border=\"1\" class=\"dataframe\">\n",
              "  <thead>\n",
              "    <tr style=\"text-align: right;\">\n",
              "      <th></th>\n",
              "      <th>gamename</th>\n",
              "      <th>year</th>\n",
              "      <th>month</th>\n",
              "      <th>avg</th>\n",
              "      <th>gain</th>\n",
              "      <th>peak</th>\n",
              "      <th>avg_peak_perc</th>\n",
              "    </tr>\n",
              "  </thead>\n",
              "  <tbody>\n",
              "    <tr>\n",
              "      <th>0</th>\n",
              "      <td>Counter-Strike: Global Offensive</td>\n",
              "      <td>2021</td>\n",
              "      <td>February</td>\n",
              "      <td>741013.24</td>\n",
              "      <td>-2196.42</td>\n",
              "      <td>1123485</td>\n",
              "      <td>65.9567%</td>\n",
              "    </tr>\n",
              "    <tr>\n",
              "      <th>1</th>\n",
              "      <td>Counter-Strike: Global Offensive</td>\n",
              "      <td>2021</td>\n",
              "      <td>January</td>\n",
              "      <td>743209.66</td>\n",
              "      <td>25405.91</td>\n",
              "      <td>1124553</td>\n",
              "      <td>66.0893%</td>\n",
              "    </tr>\n",
              "    <tr>\n",
              "      <th>2</th>\n",
              "      <td>Counter-Strike: Global Offensive</td>\n",
              "      <td>2020</td>\n",
              "      <td>December</td>\n",
              "      <td>717803.75</td>\n",
              "      <td>49049.17</td>\n",
              "      <td>1164396</td>\n",
              "      <td>61.646%</td>\n",
              "    </tr>\n",
              "  </tbody>\n",
              "</table>\n",
              "</div>"
            ],
            "text/plain": [
              "                           gamename  year  ...     peak  avg_peak_perc\n",
              "0  Counter-Strike: Global Offensive  2021  ...  1123485       65.9567%\n",
              "1  Counter-Strike: Global Offensive  2021  ...  1124553       66.0893%\n",
              "2  Counter-Strike: Global Offensive  2020  ...  1164396        61.646%\n",
              "\n",
              "[3 rows x 7 columns]"
            ]
          },
          "metadata": {
            "tags": []
          },
          "execution_count": 7
        }
      ]
    },
    {
      "cell_type": "code",
      "metadata": {
        "id": "yWgy1gsdWrSN",
        "colab": {
          "base_uri": "https://localhost:8080/"
        },
        "outputId": "bc6af9c4-3b6c-4e7e-ad01-19fe6f5c3387"
      },
      "source": [
        "steam_games.tail(3)"
      ],
      "execution_count": null,
      "outputs": [
        {
          "output_type": "execute_result",
          "data": {
            "text/html": [
              "<div>\n",
              "<style scoped>\n",
              "    .dataframe tbody tr th:only-of-type {\n",
              "        vertical-align: middle;\n",
              "    }\n",
              "\n",
              "    .dataframe tbody tr th {\n",
              "        vertical-align: top;\n",
              "    }\n",
              "\n",
              "    .dataframe thead th {\n",
              "        text-align: right;\n",
              "    }\n",
              "</style>\n",
              "<table border=\"1\" class=\"dataframe\">\n",
              "  <thead>\n",
              "    <tr style=\"text-align: right;\">\n",
              "      <th></th>\n",
              "      <th>gamename</th>\n",
              "      <th>year</th>\n",
              "      <th>month</th>\n",
              "      <th>avg</th>\n",
              "      <th>gain</th>\n",
              "      <th>peak</th>\n",
              "      <th>avg_peak_perc</th>\n",
              "    </tr>\n",
              "  </thead>\n",
              "  <tbody>\n",
              "    <tr>\n",
              "      <th>83786</th>\n",
              "      <td>Steel Division: Normandy 44</td>\n",
              "      <td>2017</td>\n",
              "      <td>May</td>\n",
              "      <td>1138.66</td>\n",
              "      <td>415.61</td>\n",
              "      <td>4606</td>\n",
              "      <td>24.7212%</td>\n",
              "    </tr>\n",
              "    <tr>\n",
              "      <th>83787</th>\n",
              "      <td>Steel Division: Normandy 44</td>\n",
              "      <td>2017</td>\n",
              "      <td>April</td>\n",
              "      <td>723.05</td>\n",
              "      <td>720.21</td>\n",
              "      <td>1911</td>\n",
              "      <td>37.8362%</td>\n",
              "    </tr>\n",
              "    <tr>\n",
              "      <th>83788</th>\n",
              "      <td>Steel Division: Normandy 44</td>\n",
              "      <td>2017</td>\n",
              "      <td>March</td>\n",
              "      <td>2.84</td>\n",
              "      <td>NaN</td>\n",
              "      <td>14</td>\n",
              "      <td>20.2857%</td>\n",
              "    </tr>\n",
              "  </tbody>\n",
              "</table>\n",
              "</div>"
            ],
            "text/plain": [
              "                          gamename  year   month  ...    gain  peak  avg_peak_perc\n",
              "83786  Steel Division: Normandy 44  2017    May   ...  415.61  4606       24.7212%\n",
              "83787  Steel Division: Normandy 44  2017  April   ...  720.21  1911       37.8362%\n",
              "83788  Steel Division: Normandy 44  2017  March   ...     NaN    14       20.2857%\n",
              "\n",
              "[3 rows x 7 columns]"
            ]
          },
          "metadata": {
            "tags": []
          },
          "execution_count": 8
        }
      ]
    },
    {
      "cell_type": "markdown",
      "metadata": {
        "id": "tk9_OItESuoV"
      },
      "source": [
        "# **Manipulação de dados não utilizáveis**\n",
        "\n",
        "Este dataset possui um campo de porcentagem representativa do pico de jogadores em relação à média de jogadores. Em análise do grupo, foi decidido tirar essa coluna já que acreditamos que não terá valor representativo dentro do projeto."
      ]
    },
    {
      "cell_type": "code",
      "metadata": {
        "id": "qs2zgcxovYu-"
      },
      "source": [
        "steam_games = steam_games.fillna(0)"
      ],
      "execution_count": null,
      "outputs": []
    },
    {
      "cell_type": "code",
      "metadata": {
        "id": "LAB0Bfv1rQNh",
        "colab": {
          "base_uri": "https://localhost:8080/"
        },
        "outputId": "5781c4ac-3b3b-4c18-b48b-4a4287516043"
      },
      "source": [
        "steam_games.shape"
      ],
      "execution_count": null,
      "outputs": [
        {
          "output_type": "execute_result",
          "data": {
            "text/plain": [
              "(83789, 7)"
            ]
          },
          "metadata": {
            "tags": []
          },
          "execution_count": 10
        }
      ]
    },
    {
      "cell_type": "code",
      "metadata": {
        "id": "XXsPuSPSrRSY"
      },
      "source": [
        "steam_games.drop('avg_peak_perc', axis=1, inplace=True)"
      ],
      "execution_count": null,
      "outputs": []
    },
    {
      "cell_type": "code",
      "metadata": {
        "id": "GX-YiVCRsNUf",
        "colab": {
          "base_uri": "https://localhost:8080/"
        },
        "outputId": "a9ca3912-4456-4983-85c9-d9214fd96ec2"
      },
      "source": [
        "steam_games.shape"
      ],
      "execution_count": null,
      "outputs": [
        {
          "output_type": "execute_result",
          "data": {
            "text/plain": [
              "(83789, 6)"
            ]
          },
          "metadata": {
            "tags": []
          },
          "execution_count": 12
        }
      ]
    },
    {
      "cell_type": "code",
      "metadata": {
        "id": "yZAywOuUEdG3",
        "colab": {
          "base_uri": "https://localhost:8080/"
        },
        "outputId": "d67503aa-5339-4f7a-89b2-49ed6a617d3b"
      },
      "source": [
        "steam_games.columns"
      ],
      "execution_count": null,
      "outputs": [
        {
          "output_type": "execute_result",
          "data": {
            "text/plain": [
              "Index(['gamename', 'year', 'month', 'avg', 'gain', 'peak'], dtype='object')"
            ]
          },
          "metadata": {
            "tags": []
          },
          "execution_count": 13
        }
      ]
    },
    {
      "cell_type": "markdown",
      "metadata": {
        "id": "Dr65zBFvHQhw"
      },
      "source": [
        "# **Ordenação dos dados**\n",
        "\n",
        "Uma vez com os dados limpos, salvamos uma cópia do mesmo e ordenamos eles decrescentemente de ganho de jogadores no mês. Foram feitas mudanças na parte do mês (\"month\") onde renomeados para facilitar ordenação. "
      ]
    },
    {
      "cell_type": "code",
      "metadata": {
        "id": "_KmsDHmcFXgm",
        "colab": {
          "base_uri": "https://localhost:8080/",
          "height": 419
        },
        "outputId": "2aebdd7f-9968-4eee-bfb2-12e4e02500e8"
      },
      "source": [
        "steam_games.sort_values(by='gain',ascending=False)"
      ],
      "execution_count": null,
      "outputs": [
        {
          "output_type": "execute_result",
          "data": {
            "text/html": [
              "<div>\n",
              "<style scoped>\n",
              "    .dataframe tbody tr th:only-of-type {\n",
              "        vertical-align: middle;\n",
              "    }\n",
              "\n",
              "    .dataframe tbody tr th {\n",
              "        vertical-align: top;\n",
              "    }\n",
              "\n",
              "    .dataframe thead th {\n",
              "        text-align: right;\n",
              "    }\n",
              "</style>\n",
              "<table border=\"1\" class=\"dataframe\">\n",
              "  <thead>\n",
              "    <tr style=\"text-align: right;\">\n",
              "      <th></th>\n",
              "      <th>gamename</th>\n",
              "      <th>year</th>\n",
              "      <th>month</th>\n",
              "      <th>avg</th>\n",
              "      <th>gain</th>\n",
              "      <th>peak</th>\n",
              "    </tr>\n",
              "  </thead>\n",
              "  <tbody>\n",
              "    <tr>\n",
              "      <th>248</th>\n",
              "      <td>PLAYERUNKNOWN'S BATTLEGROUNDS</td>\n",
              "      <td>2017</td>\n",
              "      <td>October</td>\n",
              "      <td>1086638.87</td>\n",
              "      <td>426446.12</td>\n",
              "      <td>2390946</td>\n",
              "    </tr>\n",
              "    <tr>\n",
              "      <th>249</th>\n",
              "      <td>PLAYERUNKNOWN'S BATTLEGROUNDS</td>\n",
              "      <td>2017</td>\n",
              "      <td>September</td>\n",
              "      <td>660192.74</td>\n",
              "      <td>270665.33</td>\n",
              "      <td>1550463</td>\n",
              "    </tr>\n",
              "    <tr>\n",
              "      <th>247</th>\n",
              "      <td>PLAYERUNKNOWN'S BATTLEGROUNDS</td>\n",
              "      <td>2017</td>\n",
              "      <td>November</td>\n",
              "      <td>1334170.09</td>\n",
              "      <td>247531.23</td>\n",
              "      <td>2915723</td>\n",
              "    </tr>\n",
              "    <tr>\n",
              "      <th>10</th>\n",
              "      <td>Counter-Strike: Global Offensive</td>\n",
              "      <td>2020</td>\n",
              "      <td>April</td>\n",
              "      <td>857604.22</td>\n",
              "      <td>186570.94</td>\n",
              "      <td>1305714</td>\n",
              "    </tr>\n",
              "    <tr>\n",
              "      <th>250</th>\n",
              "      <td>PLAYERUNKNOWN'S BATTLEGROUNDS</td>\n",
              "      <td>2017</td>\n",
              "      <td>August</td>\n",
              "      <td>389527.42</td>\n",
              "      <td>159825.72</td>\n",
              "      <td>874171</td>\n",
              "    </tr>\n",
              "    <tr>\n",
              "      <th>...</th>\n",
              "      <td>...</td>\n",
              "      <td>...</td>\n",
              "      <td>...</td>\n",
              "      <td>...</td>\n",
              "      <td>...</td>\n",
              "      <td>...</td>\n",
              "    </tr>\n",
              "    <tr>\n",
              "      <th>3334</th>\n",
              "      <td>Fallout 4</td>\n",
              "      <td>2015</td>\n",
              "      <td>December</td>\n",
              "      <td>94136.37</td>\n",
              "      <td>-132161.46</td>\n",
              "      <td>201635</td>\n",
              "    </tr>\n",
              "    <tr>\n",
              "      <th>242</th>\n",
              "      <td>PLAYERUNKNOWN'S BATTLEGROUNDS</td>\n",
              "      <td>2018</td>\n",
              "      <td>April</td>\n",
              "      <td>1107181.80</td>\n",
              "      <td>-188226.79</td>\n",
              "      <td>2456361</td>\n",
              "    </tr>\n",
              "    <tr>\n",
              "      <th>244</th>\n",
              "      <td>PLAYERUNKNOWN'S BATTLEGROUNDS</td>\n",
              "      <td>2018</td>\n",
              "      <td>February</td>\n",
              "      <td>1391015.30</td>\n",
              "      <td>-193871.48</td>\n",
              "      <td>2934761</td>\n",
              "    </tr>\n",
              "    <tr>\n",
              "      <th>241</th>\n",
              "      <td>PLAYERUNKNOWN'S BATTLEGROUNDS</td>\n",
              "      <td>2018</td>\n",
              "      <td>May</td>\n",
              "      <td>876180.64</td>\n",
              "      <td>-231001.16</td>\n",
              "      <td>2175704</td>\n",
              "    </tr>\n",
              "    <tr>\n",
              "      <th>1562</th>\n",
              "      <td>Cyberpunk 2077</td>\n",
              "      <td>2021</td>\n",
              "      <td>January</td>\n",
              "      <td>82146.66</td>\n",
              "      <td>-250248.99</td>\n",
              "      <td>225670</td>\n",
              "    </tr>\n",
              "  </tbody>\n",
              "</table>\n",
              "<p>83789 rows × 6 columns</p>\n",
              "</div>"
            ],
            "text/plain": [
              "                              gamename  year  ...       gain     peak\n",
              "248      PLAYERUNKNOWN'S BATTLEGROUNDS  2017  ...  426446.12  2390946\n",
              "249      PLAYERUNKNOWN'S BATTLEGROUNDS  2017  ...  270665.33  1550463\n",
              "247      PLAYERUNKNOWN'S BATTLEGROUNDS  2017  ...  247531.23  2915723\n",
              "10    Counter-Strike: Global Offensive  2020  ...  186570.94  1305714\n",
              "250      PLAYERUNKNOWN'S BATTLEGROUNDS  2017  ...  159825.72   874171\n",
              "...                                ...   ...  ...        ...      ...\n",
              "3334                         Fallout 4  2015  ... -132161.46   201635\n",
              "242      PLAYERUNKNOWN'S BATTLEGROUNDS  2018  ... -188226.79  2456361\n",
              "244      PLAYERUNKNOWN'S BATTLEGROUNDS  2018  ... -193871.48  2934761\n",
              "241      PLAYERUNKNOWN'S BATTLEGROUNDS  2018  ... -231001.16  2175704\n",
              "1562                    Cyberpunk 2077  2021  ... -250248.99   225670\n",
              "\n",
              "[83789 rows x 6 columns]"
            ]
          },
          "metadata": {
            "tags": []
          },
          "execution_count": 14
        }
      ]
    },
    {
      "cell_type": "code",
      "metadata": {
        "id": "d1MnDMhmKO1Y"
      },
      "source": [
        "steam_games.to_csv('steamgames_limpo.csv', index=None)"
      ],
      "execution_count": null,
      "outputs": []
    },
    {
      "cell_type": "code",
      "metadata": {
        "id": "p6Ba75iWIq9r"
      },
      "source": [
        "steam_games_clean = pd.read_csv('steamgames_limpo.csv', encoding= 'unicode_escape')"
      ],
      "execution_count": null,
      "outputs": []
    },
    {
      "cell_type": "code",
      "metadata": {
        "id": "Ffwg3azEI6-q",
        "colab": {
          "base_uri": "https://localhost:8080/"
        },
        "outputId": "67065830-5171-487b-d13a-ec8b43890633"
      },
      "source": [
        "steam_games_clean.shape"
      ],
      "execution_count": null,
      "outputs": [
        {
          "output_type": "execute_result",
          "data": {
            "text/plain": [
              "(83789, 6)"
            ]
          },
          "metadata": {
            "tags": []
          },
          "execution_count": 17
        }
      ]
    },
    {
      "cell_type": "code",
      "metadata": {
        "id": "WtI4b7VwEJJO"
      },
      "source": [
        "steam_games_clean['month'] = steam_games_clean['month'].str.replace('January', '01 (January)')\n",
        "steam_games_clean['month'] = steam_games_clean['month'].str.replace('February', '02 (February)')\n",
        "steam_games_clean['month'] = steam_games_clean['month'].str.replace('March', '03 (March)')\n",
        "steam_games_clean['month'] = steam_games_clean['month'].str.replace('April', '04 (April)')\n",
        "steam_games_clean['month'] = steam_games_clean['month'].str.replace('May', '05 (May)')\n",
        "steam_games_clean['month'] = steam_games_clean['month'].str.replace('June', '06 (June)')\n",
        "steam_games_clean['month'] = steam_games_clean['month'].str.replace('July', '07 (July)')\n",
        "steam_games_clean['month'] = steam_games_clean['month'].str.replace('August', '08 (August)')\n",
        "steam_games_clean['month'] = steam_games_clean['month'].str.replace('September', '09 (September)')\n",
        "steam_games_clean['month'] = steam_games_clean['month'].str.replace('October', '10 (October)')\n",
        "steam_games_clean['month'] = steam_games_clean['month'].str.replace('November', '11 (November)')\n",
        "steam_games_clean['month'] = steam_games_clean['month'].str.replace('December', '12 (December)')"
      ],
      "execution_count": null,
      "outputs": []
    },
    {
      "cell_type": "code",
      "metadata": {
        "id": "ekR4Yj59-MZp",
        "colab": {
          "base_uri": "https://localhost:8080/"
        },
        "outputId": "cc842951-e008-413b-fe73-7fd5d25f7996"
      },
      "source": [
        "steam_games_clean['month'].head(10)"
      ],
      "execution_count": null,
      "outputs": [
        {
          "output_type": "execute_result",
          "data": {
            "text/plain": [
              "0     02 (February) \n",
              "1      01 (January) \n",
              "2     12 (December) \n",
              "3     11 (November) \n",
              "4      10 (October) \n",
              "5    09 (September) \n",
              "6       08 (August) \n",
              "7         07 (July) \n",
              "8         06 (June) \n",
              "9          05 (May) \n",
              "Name: month, dtype: object"
            ]
          },
          "metadata": {
            "tags": []
          },
          "execution_count": 19
        }
      ]
    },
    {
      "cell_type": "code",
      "metadata": {
        "id": "3-14WiF5Le_G"
      },
      "source": [
        "steam_games_clean['gamename'] = steam_games_clean['gamename'].str.replace(\"PLAYERUNKNOWN'S BATTLEGROUNDS\", 'PUBG')\n",
        "steam_games_clean['gamename'] = steam_games_clean['gamename'].str.replace(\"Counter-Strike: Global Offensive\", 'CSGO')\n",
        "steam_games_clean['gamename'] = steam_games_clean['gamename'].str.replace(\"Grand Theft Auto V\", 'GTAV')"
      ],
      "execution_count": null,
      "outputs": []
    },
    {
      "cell_type": "code",
      "metadata": {
        "id": "xpjC5kJ3LoYx",
        "colab": {
          "base_uri": "https://localhost:8080/",
          "height": 419
        },
        "outputId": "7afa8331-db62-4a3f-ac04-e09844bf3a2d"
      },
      "source": [
        "steam_games_clean.sort_values(by='gain',ascending=False)"
      ],
      "execution_count": null,
      "outputs": [
        {
          "output_type": "execute_result",
          "data": {
            "text/html": [
              "<div>\n",
              "<style scoped>\n",
              "    .dataframe tbody tr th:only-of-type {\n",
              "        vertical-align: middle;\n",
              "    }\n",
              "\n",
              "    .dataframe tbody tr th {\n",
              "        vertical-align: top;\n",
              "    }\n",
              "\n",
              "    .dataframe thead th {\n",
              "        text-align: right;\n",
              "    }\n",
              "</style>\n",
              "<table border=\"1\" class=\"dataframe\">\n",
              "  <thead>\n",
              "    <tr style=\"text-align: right;\">\n",
              "      <th></th>\n",
              "      <th>gamename</th>\n",
              "      <th>year</th>\n",
              "      <th>month</th>\n",
              "      <th>avg</th>\n",
              "      <th>gain</th>\n",
              "      <th>peak</th>\n",
              "    </tr>\n",
              "  </thead>\n",
              "  <tbody>\n",
              "    <tr>\n",
              "      <th>248</th>\n",
              "      <td>PUBG</td>\n",
              "      <td>2017</td>\n",
              "      <td>10 (October)</td>\n",
              "      <td>1086638.87</td>\n",
              "      <td>426446.12</td>\n",
              "      <td>2390946</td>\n",
              "    </tr>\n",
              "    <tr>\n",
              "      <th>249</th>\n",
              "      <td>PUBG</td>\n",
              "      <td>2017</td>\n",
              "      <td>09 (September)</td>\n",
              "      <td>660192.74</td>\n",
              "      <td>270665.33</td>\n",
              "      <td>1550463</td>\n",
              "    </tr>\n",
              "    <tr>\n",
              "      <th>247</th>\n",
              "      <td>PUBG</td>\n",
              "      <td>2017</td>\n",
              "      <td>11 (November)</td>\n",
              "      <td>1334170.09</td>\n",
              "      <td>247531.23</td>\n",
              "      <td>2915723</td>\n",
              "    </tr>\n",
              "    <tr>\n",
              "      <th>10</th>\n",
              "      <td>CSGO</td>\n",
              "      <td>2020</td>\n",
              "      <td>04 (April)</td>\n",
              "      <td>857604.22</td>\n",
              "      <td>186570.94</td>\n",
              "      <td>1305714</td>\n",
              "    </tr>\n",
              "    <tr>\n",
              "      <th>250</th>\n",
              "      <td>PUBG</td>\n",
              "      <td>2017</td>\n",
              "      <td>08 (August)</td>\n",
              "      <td>389527.42</td>\n",
              "      <td>159825.72</td>\n",
              "      <td>874171</td>\n",
              "    </tr>\n",
              "    <tr>\n",
              "      <th>...</th>\n",
              "      <td>...</td>\n",
              "      <td>...</td>\n",
              "      <td>...</td>\n",
              "      <td>...</td>\n",
              "      <td>...</td>\n",
              "      <td>...</td>\n",
              "    </tr>\n",
              "    <tr>\n",
              "      <th>3334</th>\n",
              "      <td>Fallout 4</td>\n",
              "      <td>2015</td>\n",
              "      <td>12 (December)</td>\n",
              "      <td>94136.37</td>\n",
              "      <td>-132161.46</td>\n",
              "      <td>201635</td>\n",
              "    </tr>\n",
              "    <tr>\n",
              "      <th>242</th>\n",
              "      <td>PUBG</td>\n",
              "      <td>2018</td>\n",
              "      <td>04 (April)</td>\n",
              "      <td>1107181.80</td>\n",
              "      <td>-188226.79</td>\n",
              "      <td>2456361</td>\n",
              "    </tr>\n",
              "    <tr>\n",
              "      <th>244</th>\n",
              "      <td>PUBG</td>\n",
              "      <td>2018</td>\n",
              "      <td>02 (February)</td>\n",
              "      <td>1391015.30</td>\n",
              "      <td>-193871.48</td>\n",
              "      <td>2934761</td>\n",
              "    </tr>\n",
              "    <tr>\n",
              "      <th>241</th>\n",
              "      <td>PUBG</td>\n",
              "      <td>2018</td>\n",
              "      <td>05 (May)</td>\n",
              "      <td>876180.64</td>\n",
              "      <td>-231001.16</td>\n",
              "      <td>2175704</td>\n",
              "    </tr>\n",
              "    <tr>\n",
              "      <th>1562</th>\n",
              "      <td>Cyberpunk 2077</td>\n",
              "      <td>2021</td>\n",
              "      <td>01 (January)</td>\n",
              "      <td>82146.66</td>\n",
              "      <td>-250248.99</td>\n",
              "      <td>225670</td>\n",
              "    </tr>\n",
              "  </tbody>\n",
              "</table>\n",
              "<p>83789 rows × 6 columns</p>\n",
              "</div>"
            ],
            "text/plain": [
              "            gamename  year            month         avg       gain     peak\n",
              "248             PUBG  2017    10 (October)   1086638.87  426446.12  2390946\n",
              "249             PUBG  2017  09 (September)    660192.74  270665.33  1550463\n",
              "247             PUBG  2017   11 (November)   1334170.09  247531.23  2915723\n",
              "10              CSGO  2020      04 (April)    857604.22  186570.94  1305714\n",
              "250             PUBG  2017     08 (August)    389527.42  159825.72   874171\n",
              "...              ...   ...              ...         ...        ...      ...\n",
              "3334       Fallout 4  2015   12 (December)     94136.37 -132161.46   201635\n",
              "242             PUBG  2018      04 (April)   1107181.80 -188226.79  2456361\n",
              "244             PUBG  2018   02 (February)   1391015.30 -193871.48  2934761\n",
              "241             PUBG  2018        05 (May)    876180.64 -231001.16  2175704\n",
              "1562  Cyberpunk 2077  2021    01 (January)     82146.66 -250248.99   225670\n",
              "\n",
              "[83789 rows x 6 columns]"
            ]
          },
          "metadata": {
            "tags": []
          },
          "execution_count": 21
        }
      ]
    },
    {
      "cell_type": "code",
      "metadata": {
        "id": "cGwDMvak9YOe"
      },
      "source": [
        "steam_games_clean.to_csv('steamgames_limpo.csv', index=None)"
      ],
      "execution_count": null,
      "outputs": []
    },
    {
      "cell_type": "markdown",
      "metadata": {
        "id": "NJoQ5bLvJWWD"
      },
      "source": [
        "# **Insights**"
      ]
    },
    {
      "cell_type": "markdown",
      "metadata": {
        "id": "pHgQAKFaJxYf"
      },
      "source": [
        "# **Exploração de dados**"
      ]
    },
    {
      "cell_type": "code",
      "metadata": {
        "id": "T1KhPq6YLIt-"
      },
      "source": [
        "steam_games_clean = steam_games_clean.sort_values(by='year',ascending=False)"
      ],
      "execution_count": null,
      "outputs": []
    },
    {
      "cell_type": "code",
      "metadata": {
        "id": "x7HhNhlcJzmS",
        "colab": {
          "base_uri": "https://localhost:8080/"
        },
        "outputId": "a3a5594e-6411-414d-8afe-8cefc46976ec"
      },
      "source": [
        "steam_games_clean['year'].unique()"
      ],
      "execution_count": null,
      "outputs": [
        {
          "output_type": "execute_result",
          "data": {
            "text/plain": [
              "array([2021, 2020, 2019, 2018, 2017, 2016, 2015, 2014, 2013, 2012])"
            ]
          },
          "metadata": {
            "tags": []
          },
          "execution_count": 24
        }
      ]
    },
    {
      "cell_type": "markdown",
      "metadata": {
        "id": "yOoU7IkKZRVb"
      },
      "source": [
        "Verificamos que os dados contém dados de todos os anos desde 2012 a 2021"
      ]
    },
    {
      "cell_type": "code",
      "metadata": {
        "id": "8e0IZZ83JZ2F",
        "colab": {
          "base_uri": "https://localhost:8080/"
        },
        "outputId": "53f3bace-823a-49e2-c37a-51e41241540b"
      },
      "source": [
        "steam_games_clean['gamename'].value_counts()"
      ],
      "execution_count": null,
      "outputs": [
        {
          "output_type": "execute_result",
          "data": {
            "text/plain": [
              "Far Cry                                                                     104\n",
              "Age of EmpiresÂ® III (2007)                                                 104\n",
              "Botanicula                                                                  104\n",
              "Mount & Blade                                                               104\n",
              "Braid                                                                       104\n",
              "                                                                           ... \n",
              "Timberborn Demo                                                               2\n",
              "Home Behind 2                                                                 2\n",
              "CosmicBreak Universal                                                         2\n",
              "Dyson Sphere Program                                                          2\n",
              "<U+4E09><U+56FD><U+7FA4><U+82F1><U+4F20>8 Heroes of the Three Kingdoms 8      2\n",
              "Name: gamename, Length: 1260, dtype: int64"
            ]
          },
          "metadata": {
            "tags": []
          },
          "execution_count": 25
        }
      ]
    },
    {
      "cell_type": "markdown",
      "metadata": {
        "id": "2negtcP1ZRun"
      },
      "source": [
        "Aqui vemos quantas vezes os jogos apareceram na lista"
      ]
    },
    {
      "cell_type": "code",
      "metadata": {
        "id": "y5pyskZUJZzn",
        "colab": {
          "base_uri": "https://localhost:8080/",
          "height": 297
        },
        "outputId": "4077e406-6778-46ea-b36e-aea295aaa110"
      },
      "source": [
        "steam_games_clean.describe()"
      ],
      "execution_count": null,
      "outputs": [
        {
          "output_type": "execute_result",
          "data": {
            "text/html": [
              "<div>\n",
              "<style scoped>\n",
              "    .dataframe tbody tr th:only-of-type {\n",
              "        vertical-align: middle;\n",
              "    }\n",
              "\n",
              "    .dataframe tbody tr th {\n",
              "        vertical-align: top;\n",
              "    }\n",
              "\n",
              "    .dataframe thead th {\n",
              "        text-align: right;\n",
              "    }\n",
              "</style>\n",
              "<table border=\"1\" class=\"dataframe\">\n",
              "  <thead>\n",
              "    <tr style=\"text-align: right;\">\n",
              "      <th></th>\n",
              "      <th>year</th>\n",
              "      <th>avg</th>\n",
              "      <th>gain</th>\n",
              "      <th>peak</th>\n",
              "    </tr>\n",
              "  </thead>\n",
              "  <tbody>\n",
              "    <tr>\n",
              "      <th>count</th>\n",
              "      <td>83789.000000</td>\n",
              "      <td>8.378900e+04</td>\n",
              "      <td>83789.000000</td>\n",
              "      <td>8.378900e+04</td>\n",
              "    </tr>\n",
              "    <tr>\n",
              "      <th>mean</th>\n",
              "      <td>2017.338708</td>\n",
              "      <td>2.792017e+03</td>\n",
              "      <td>-10.091488</td>\n",
              "      <td>5.518877e+03</td>\n",
              "    </tr>\n",
              "    <tr>\n",
              "      <th>std</th>\n",
              "      <td>2.237587</td>\n",
              "      <td>2.648480e+04</td>\n",
              "      <td>3761.339767</td>\n",
              "      <td>5.015571e+04</td>\n",
              "    </tr>\n",
              "    <tr>\n",
              "      <th>min</th>\n",
              "      <td>2012.000000</td>\n",
              "      <td>0.000000e+00</td>\n",
              "      <td>-250248.990000</td>\n",
              "      <td>0.000000e+00</td>\n",
              "    </tr>\n",
              "    <tr>\n",
              "      <th>25%</th>\n",
              "      <td>2016.000000</td>\n",
              "      <td>5.325000e+01</td>\n",
              "      <td>-37.060000</td>\n",
              "      <td>1.380000e+02</td>\n",
              "    </tr>\n",
              "    <tr>\n",
              "      <th>50%</th>\n",
              "      <td>2018.000000</td>\n",
              "      <td>2.042700e+02</td>\n",
              "      <td>-1.310000</td>\n",
              "      <td>5.020000e+02</td>\n",
              "    </tr>\n",
              "    <tr>\n",
              "      <th>75%</th>\n",
              "      <td>2019.000000</td>\n",
              "      <td>7.716500e+02</td>\n",
              "      <td>21.280000</td>\n",
              "      <td>1.741000e+03</td>\n",
              "    </tr>\n",
              "    <tr>\n",
              "      <th>max</th>\n",
              "      <td>2021.000000</td>\n",
              "      <td>1.584887e+06</td>\n",
              "      <td>426446.120000</td>\n",
              "      <td>3.236027e+06</td>\n",
              "    </tr>\n",
              "  </tbody>\n",
              "</table>\n",
              "</div>"
            ],
            "text/plain": [
              "               year           avg           gain          peak\n",
              "count  83789.000000  8.378900e+04   83789.000000  8.378900e+04\n",
              "mean    2017.338708  2.792017e+03     -10.091488  5.518877e+03\n",
              "std        2.237587  2.648480e+04    3761.339767  5.015571e+04\n",
              "min     2012.000000  0.000000e+00 -250248.990000  0.000000e+00\n",
              "25%     2016.000000  5.325000e+01     -37.060000  1.380000e+02\n",
              "50%     2018.000000  2.042700e+02      -1.310000  5.020000e+02\n",
              "75%     2019.000000  7.716500e+02      21.280000  1.741000e+03\n",
              "max     2021.000000  1.584887e+06  426446.120000  3.236027e+06"
            ]
          },
          "metadata": {
            "tags": []
          },
          "execution_count": 26
        }
      ]
    },
    {
      "cell_type": "markdown",
      "metadata": {
        "id": "0yQBV1ZNZTc9"
      },
      "source": [
        "A visão geral dos dados. Uma curiosidade que ele nos trás é que a média de ganho de jogadores é negativa, o que indica que em média os jogos perdem mais jogadores do que ganham."
      ]
    },
    {
      "cell_type": "code",
      "metadata": {
        "id": "LTZajVyAJZxM",
        "colab": {
          "base_uri": "https://localhost:8080/",
          "height": 979
        },
        "outputId": "e009b9b5-5456-4fc2-ccd6-799350b30dd5"
      },
      "source": [
        "steam_games_clean.sort_values(by='gain',ascending=True).head(30)"
      ],
      "execution_count": null,
      "outputs": [
        {
          "output_type": "execute_result",
          "data": {
            "text/html": [
              "<div>\n",
              "<style scoped>\n",
              "    .dataframe tbody tr th:only-of-type {\n",
              "        vertical-align: middle;\n",
              "    }\n",
              "\n",
              "    .dataframe tbody tr th {\n",
              "        vertical-align: top;\n",
              "    }\n",
              "\n",
              "    .dataframe thead th {\n",
              "        text-align: right;\n",
              "    }\n",
              "</style>\n",
              "<table border=\"1\" class=\"dataframe\">\n",
              "  <thead>\n",
              "    <tr style=\"text-align: right;\">\n",
              "      <th></th>\n",
              "      <th>gamename</th>\n",
              "      <th>year</th>\n",
              "      <th>month</th>\n",
              "      <th>avg</th>\n",
              "      <th>gain</th>\n",
              "      <th>peak</th>\n",
              "    </tr>\n",
              "  </thead>\n",
              "  <tbody>\n",
              "    <tr>\n",
              "      <th>1562</th>\n",
              "      <td>Cyberpunk 2077</td>\n",
              "      <td>2021</td>\n",
              "      <td>01 (January)</td>\n",
              "      <td>82146.66</td>\n",
              "      <td>-250248.99</td>\n",
              "      <td>225670</td>\n",
              "    </tr>\n",
              "    <tr>\n",
              "      <th>241</th>\n",
              "      <td>PUBG</td>\n",
              "      <td>2018</td>\n",
              "      <td>05 (May)</td>\n",
              "      <td>876180.64</td>\n",
              "      <td>-231001.16</td>\n",
              "      <td>2175704</td>\n",
              "    </tr>\n",
              "    <tr>\n",
              "      <th>244</th>\n",
              "      <td>PUBG</td>\n",
              "      <td>2018</td>\n",
              "      <td>02 (February)</td>\n",
              "      <td>1391015.30</td>\n",
              "      <td>-193871.48</td>\n",
              "      <td>2934761</td>\n",
              "    </tr>\n",
              "    <tr>\n",
              "      <th>242</th>\n",
              "      <td>PUBG</td>\n",
              "      <td>2018</td>\n",
              "      <td>04 (April)</td>\n",
              "      <td>1107181.80</td>\n",
              "      <td>-188226.79</td>\n",
              "      <td>2456361</td>\n",
              "    </tr>\n",
              "    <tr>\n",
              "      <th>3334</th>\n",
              "      <td>Fallout 4</td>\n",
              "      <td>2015</td>\n",
              "      <td>12 (December)</td>\n",
              "      <td>94136.37</td>\n",
              "      <td>-132161.46</td>\n",
              "      <td>201635</td>\n",
              "    </tr>\n",
              "    <tr>\n",
              "      <th>239</th>\n",
              "      <td>PUBG</td>\n",
              "      <td>2018</td>\n",
              "      <td>07 (July)</td>\n",
              "      <td>688620.42</td>\n",
              "      <td>-112047.81</td>\n",
              "      <td>1350463</td>\n",
              "    </tr>\n",
              "    <tr>\n",
              "      <th>26046</th>\n",
              "      <td>Monster Hunter: World</td>\n",
              "      <td>2018</td>\n",
              "      <td>09 (September)</td>\n",
              "      <td>88575.17</td>\n",
              "      <td>-99716.06</td>\n",
              "      <td>227644</td>\n",
              "    </tr>\n",
              "    <tr>\n",
              "      <th>520</th>\n",
              "      <td>GTAV</td>\n",
              "      <td>2015</td>\n",
              "      <td>05 (May)</td>\n",
              "      <td>93361.62</td>\n",
              "      <td>-99352.39</td>\n",
              "      <td>215966</td>\n",
              "    </tr>\n",
              "    <tr>\n",
              "      <th>169</th>\n",
              "      <td>Dota 2</td>\n",
              "      <td>2015</td>\n",
              "      <td>09 (September)</td>\n",
              "      <td>508156.85</td>\n",
              "      <td>-98787.12</td>\n",
              "      <td>888728</td>\n",
              "    </tr>\n",
              "    <tr>\n",
              "      <th>8</th>\n",
              "      <td>CSGO</td>\n",
              "      <td>2020</td>\n",
              "      <td>06 (June)</td>\n",
              "      <td>671647.46</td>\n",
              "      <td>-97147.79</td>\n",
              "      <td>1009467</td>\n",
              "    </tr>\n",
              "    <tr>\n",
              "      <th>243</th>\n",
              "      <td>PUBG</td>\n",
              "      <td>2018</td>\n",
              "      <td>03 (March)</td>\n",
              "      <td>1295408.59</td>\n",
              "      <td>-95606.71</td>\n",
              "      <td>2799269</td>\n",
              "    </tr>\n",
              "    <tr>\n",
              "      <th>9</th>\n",
              "      <td>CSGO</td>\n",
              "      <td>2020</td>\n",
              "      <td>05 (May)</td>\n",
              "      <td>768795.25</td>\n",
              "      <td>-88808.97</td>\n",
              "      <td>1193359</td>\n",
              "    </tr>\n",
              "    <tr>\n",
              "      <th>3707</th>\n",
              "      <td>Mount &amp; Blade II: Bannerlord</td>\n",
              "      <td>2020</td>\n",
              "      <td>05 (May)</td>\n",
              "      <td>31529.86</td>\n",
              "      <td>-81963.14</td>\n",
              "      <td>77878</td>\n",
              "    </tr>\n",
              "    <tr>\n",
              "      <th>237</th>\n",
              "      <td>PUBG</td>\n",
              "      <td>2018</td>\n",
              "      <td>09 (September)</td>\n",
              "      <td>542607.05</td>\n",
              "      <td>-76713.44</td>\n",
              "      <td>1125229</td>\n",
              "    </tr>\n",
              "    <tr>\n",
              "      <th>240</th>\n",
              "      <td>PUBG</td>\n",
              "      <td>2018</td>\n",
              "      <td>06 (June)</td>\n",
              "      <td>800668.23</td>\n",
              "      <td>-75512.41</td>\n",
              "      <td>1750216</td>\n",
              "    </tr>\n",
              "    <tr>\n",
              "      <th>236</th>\n",
              "      <td>PUBG</td>\n",
              "      <td>2018</td>\n",
              "      <td>10 (October)</td>\n",
              "      <td>469141.74</td>\n",
              "      <td>-73465.31</td>\n",
              "      <td>1048662</td>\n",
              "    </tr>\n",
              "    <tr>\n",
              "      <th>238</th>\n",
              "      <td>PUBG</td>\n",
              "      <td>2018</td>\n",
              "      <td>08 (August)</td>\n",
              "      <td>619320.48</td>\n",
              "      <td>-69299.93</td>\n",
              "      <td>1260894</td>\n",
              "    </tr>\n",
              "    <tr>\n",
              "      <th>126</th>\n",
              "      <td>Dota 2</td>\n",
              "      <td>2019</td>\n",
              "      <td>04 (April)</td>\n",
              "      <td>520218.98</td>\n",
              "      <td>-66286.87</td>\n",
              "      <td>971545</td>\n",
              "    </tr>\n",
              "    <tr>\n",
              "      <th>34</th>\n",
              "      <td>CSGO</td>\n",
              "      <td>2018</td>\n",
              "      <td>04 (April)</td>\n",
              "      <td>289076.70</td>\n",
              "      <td>-65193.64</td>\n",
              "      <td>523262</td>\n",
              "    </tr>\n",
              "    <tr>\n",
              "      <th>145</th>\n",
              "      <td>Dota 2</td>\n",
              "      <td>2017</td>\n",
              "      <td>09 (September)</td>\n",
              "      <td>491450.16</td>\n",
              "      <td>-65046.14</td>\n",
              "      <td>829555</td>\n",
              "    </tr>\n",
              "    <tr>\n",
              "      <th>232</th>\n",
              "      <td>PUBG</td>\n",
              "      <td>2019</td>\n",
              "      <td>02 (February)</td>\n",
              "      <td>437959.10</td>\n",
              "      <td>-59844.15</td>\n",
              "      <td>931754</td>\n",
              "    </tr>\n",
              "    <tr>\n",
              "      <th>3610</th>\n",
              "      <td>Fall Guys: Ultimate Knockout</td>\n",
              "      <td>2020</td>\n",
              "      <td>09 (September)</td>\n",
              "      <td>66899.48</td>\n",
              "      <td>-57579.87</td>\n",
              "      <td>150587</td>\n",
              "    </tr>\n",
              "    <tr>\n",
              "      <th>1561</th>\n",
              "      <td>Cyberpunk 2077</td>\n",
              "      <td>2021</td>\n",
              "      <td>02 (February)</td>\n",
              "      <td>24704.84</td>\n",
              "      <td>-57441.83</td>\n",
              "      <td>47115</td>\n",
              "    </tr>\n",
              "    <tr>\n",
              "      <th>832</th>\n",
              "      <td>Destiny 2</td>\n",
              "      <td>2019</td>\n",
              "      <td>11 (November)</td>\n",
              "      <td>107955.77</td>\n",
              "      <td>-57352.05</td>\n",
              "      <td>195407</td>\n",
              "    </tr>\n",
              "    <tr>\n",
              "      <th>175</th>\n",
              "      <td>Dota 2</td>\n",
              "      <td>2015</td>\n",
              "      <td>03 (March)</td>\n",
              "      <td>571713.15</td>\n",
              "      <td>-57257.26</td>\n",
              "      <td>1213940</td>\n",
              "    </tr>\n",
              "    <tr>\n",
              "      <th>147</th>\n",
              "      <td>Dota 2</td>\n",
              "      <td>2017</td>\n",
              "      <td>07 (July)</td>\n",
              "      <td>498444.38</td>\n",
              "      <td>-56844.70</td>\n",
              "      <td>824297</td>\n",
              "    </tr>\n",
              "    <tr>\n",
              "      <th>3762</th>\n",
              "      <td>Total War: THREE KINGDOMS</td>\n",
              "      <td>2019</td>\n",
              "      <td>06 (June)</td>\n",
              "      <td>46259.95</td>\n",
              "      <td>-56459.12</td>\n",
              "      <td>119246</td>\n",
              "    </tr>\n",
              "    <tr>\n",
              "      <th>155</th>\n",
              "      <td>Dota 2</td>\n",
              "      <td>2016</td>\n",
              "      <td>11 (November)</td>\n",
              "      <td>584251.33</td>\n",
              "      <td>-55103.82</td>\n",
              "      <td>1007270</td>\n",
              "    </tr>\n",
              "    <tr>\n",
              "      <th>25434</th>\n",
              "      <td>Terraria</td>\n",
              "      <td>2020</td>\n",
              "      <td>06 (June)</td>\n",
              "      <td>75803.88</td>\n",
              "      <td>-54004.75</td>\n",
              "      <td>157919</td>\n",
              "    </tr>\n",
              "    <tr>\n",
              "      <th>235</th>\n",
              "      <td>PUBG</td>\n",
              "      <td>2018</td>\n",
              "      <td>11 (November)</td>\n",
              "      <td>418159.48</td>\n",
              "      <td>-50982.25</td>\n",
              "      <td>895650</td>\n",
              "    </tr>\n",
              "  </tbody>\n",
              "</table>\n",
              "</div>"
            ],
            "text/plain": [
              "                           gamename  year  ...       gain     peak\n",
              "1562                 Cyberpunk 2077  2021  ... -250248.99   225670\n",
              "241                            PUBG  2018  ... -231001.16  2175704\n",
              "244                            PUBG  2018  ... -193871.48  2934761\n",
              "242                            PUBG  2018  ... -188226.79  2456361\n",
              "3334                      Fallout 4  2015  ... -132161.46   201635\n",
              "239                            PUBG  2018  ... -112047.81  1350463\n",
              "26046         Monster Hunter: World  2018  ...  -99716.06   227644\n",
              "520                            GTAV  2015  ...  -99352.39   215966\n",
              "169                          Dota 2  2015  ...  -98787.12   888728\n",
              "8                              CSGO  2020  ...  -97147.79  1009467\n",
              "243                            PUBG  2018  ...  -95606.71  2799269\n",
              "9                              CSGO  2020  ...  -88808.97  1193359\n",
              "3707   Mount & Blade II: Bannerlord  2020  ...  -81963.14    77878\n",
              "237                            PUBG  2018  ...  -76713.44  1125229\n",
              "240                            PUBG  2018  ...  -75512.41  1750216\n",
              "236                            PUBG  2018  ...  -73465.31  1048662\n",
              "238                            PUBG  2018  ...  -69299.93  1260894\n",
              "126                          Dota 2  2019  ...  -66286.87   971545\n",
              "34                             CSGO  2018  ...  -65193.64   523262\n",
              "145                          Dota 2  2017  ...  -65046.14   829555\n",
              "232                            PUBG  2019  ...  -59844.15   931754\n",
              "3610   Fall Guys: Ultimate Knockout  2020  ...  -57579.87   150587\n",
              "1561                 Cyberpunk 2077  2021  ...  -57441.83    47115\n",
              "832                       Destiny 2  2019  ...  -57352.05   195407\n",
              "175                          Dota 2  2015  ...  -57257.26  1213940\n",
              "147                          Dota 2  2017  ...  -56844.70   824297\n",
              "3762      Total War: THREE KINGDOMS  2019  ...  -56459.12   119246\n",
              "155                          Dota 2  2016  ...  -55103.82  1007270\n",
              "25434                      Terraria  2020  ...  -54004.75   157919\n",
              "235                            PUBG  2018  ...  -50982.25   895650\n",
              "\n",
              "[30 rows x 6 columns]"
            ]
          },
          "metadata": {
            "tags": []
          },
          "execution_count": 27
        }
      ]
    },
    {
      "cell_type": "markdown",
      "metadata": {
        "id": "GELJCAlZZTBO"
      },
      "source": [
        "Podemos ver que muitos jogos perdem jogadores de forma massiva quando eles os perdem."
      ]
    },
    {
      "cell_type": "code",
      "metadata": {
        "id": "bKtKwKul2aaa",
        "colab": {
          "base_uri": "https://localhost:8080/",
          "height": 979
        },
        "outputId": "fde00042-0694-4b04-db4d-e2c64ae0abf8"
      },
      "source": [
        "steam_games_clean.sort_values(by='gain',ascending=False).head(30)"
      ],
      "execution_count": null,
      "outputs": [
        {
          "output_type": "execute_result",
          "data": {
            "text/html": [
              "<div>\n",
              "<style scoped>\n",
              "    .dataframe tbody tr th:only-of-type {\n",
              "        vertical-align: middle;\n",
              "    }\n",
              "\n",
              "    .dataframe tbody tr th {\n",
              "        vertical-align: top;\n",
              "    }\n",
              "\n",
              "    .dataframe thead th {\n",
              "        text-align: right;\n",
              "    }\n",
              "</style>\n",
              "<table border=\"1\" class=\"dataframe\">\n",
              "  <thead>\n",
              "    <tr style=\"text-align: right;\">\n",
              "      <th></th>\n",
              "      <th>gamename</th>\n",
              "      <th>year</th>\n",
              "      <th>month</th>\n",
              "      <th>avg</th>\n",
              "      <th>gain</th>\n",
              "      <th>peak</th>\n",
              "    </tr>\n",
              "  </thead>\n",
              "  <tbody>\n",
              "    <tr>\n",
              "      <th>248</th>\n",
              "      <td>PUBG</td>\n",
              "      <td>2017</td>\n",
              "      <td>10 (October)</td>\n",
              "      <td>1086638.87</td>\n",
              "      <td>426446.12</td>\n",
              "      <td>2390946</td>\n",
              "    </tr>\n",
              "    <tr>\n",
              "      <th>249</th>\n",
              "      <td>PUBG</td>\n",
              "      <td>2017</td>\n",
              "      <td>09 (September)</td>\n",
              "      <td>660192.74</td>\n",
              "      <td>270665.33</td>\n",
              "      <td>1550463</td>\n",
              "    </tr>\n",
              "    <tr>\n",
              "      <th>247</th>\n",
              "      <td>PUBG</td>\n",
              "      <td>2017</td>\n",
              "      <td>11 (November)</td>\n",
              "      <td>1334170.09</td>\n",
              "      <td>247531.23</td>\n",
              "      <td>2915723</td>\n",
              "    </tr>\n",
              "    <tr>\n",
              "      <th>10</th>\n",
              "      <td>CSGO</td>\n",
              "      <td>2020</td>\n",
              "      <td>04 (April)</td>\n",
              "      <td>857604.22</td>\n",
              "      <td>186570.94</td>\n",
              "      <td>1305714</td>\n",
              "    </tr>\n",
              "    <tr>\n",
              "      <th>250</th>\n",
              "      <td>PUBG</td>\n",
              "      <td>2017</td>\n",
              "      <td>08 (August)</td>\n",
              "      <td>389527.42</td>\n",
              "      <td>159825.72</td>\n",
              "      <td>874171</td>\n",
              "    </tr>\n",
              "    <tr>\n",
              "      <th>245</th>\n",
              "      <td>PUBG</td>\n",
              "      <td>2018</td>\n",
              "      <td>01 (January)</td>\n",
              "      <td>1584886.77</td>\n",
              "      <td>148728.26</td>\n",
              "      <td>3236027</td>\n",
              "    </tr>\n",
              "    <tr>\n",
              "      <th>11</th>\n",
              "      <td>CSGO</td>\n",
              "      <td>2020</td>\n",
              "      <td>03 (March)</td>\n",
              "      <td>671033.29</td>\n",
              "      <td>127054.13</td>\n",
              "      <td>1145972</td>\n",
              "    </tr>\n",
              "    <tr>\n",
              "      <th>3708</th>\n",
              "      <td>Mount &amp; Blade II: Bannerlord</td>\n",
              "      <td>2020</td>\n",
              "      <td>04 (April)</td>\n",
              "      <td>113492.99</td>\n",
              "      <td>113492.74</td>\n",
              "      <td>248034</td>\n",
              "    </tr>\n",
              "    <tr>\n",
              "      <th>3763</th>\n",
              "      <td>Total War: THREE KINGDOMS</td>\n",
              "      <td>2019</td>\n",
              "      <td>05 (May)</td>\n",
              "      <td>102719.07</td>\n",
              "      <td>102719.01</td>\n",
              "      <td>191816</td>\n",
              "    </tr>\n",
              "    <tr>\n",
              "      <th>246</th>\n",
              "      <td>PUBG</td>\n",
              "      <td>2017</td>\n",
              "      <td>12 (December)</td>\n",
              "      <td>1436158.51</td>\n",
              "      <td>101988.42</td>\n",
              "      <td>3080769</td>\n",
              "    </tr>\n",
              "    <tr>\n",
              "      <th>164</th>\n",
              "      <td>Dota 2</td>\n",
              "      <td>2016</td>\n",
              "      <td>02 (February)</td>\n",
              "      <td>709178.26</td>\n",
              "      <td>97003.48</td>\n",
              "      <td>1248394</td>\n",
              "    </tr>\n",
              "    <tr>\n",
              "      <th>194</th>\n",
              "      <td>Dota 2</td>\n",
              "      <td>2013</td>\n",
              "      <td>08 (August)</td>\n",
              "      <td>330720.07</td>\n",
              "      <td>92919.98</td>\n",
              "      <td>520532</td>\n",
              "    </tr>\n",
              "    <tr>\n",
              "      <th>251</th>\n",
              "      <td>PUBG</td>\n",
              "      <td>2017</td>\n",
              "      <td>07 (July)</td>\n",
              "      <td>229701.70</td>\n",
              "      <td>89799.46</td>\n",
              "      <td>481291</td>\n",
              "    </tr>\n",
              "    <tr>\n",
              "      <th>128</th>\n",
              "      <td>Dota 2</td>\n",
              "      <td>2019</td>\n",
              "      <td>02 (February)</td>\n",
              "      <td>564909.67</td>\n",
              "      <td>89162.67</td>\n",
              "      <td>964921</td>\n",
              "    </tr>\n",
              "    <tr>\n",
              "      <th>26</th>\n",
              "      <td>CSGO</td>\n",
              "      <td>2018</td>\n",
              "      <td>12 (December)</td>\n",
              "      <td>395509.26</td>\n",
              "      <td>85423.83</td>\n",
              "      <td>746548</td>\n",
              "    </tr>\n",
              "    <tr>\n",
              "      <th>26030</th>\n",
              "      <td>Monster Hunter: World</td>\n",
              "      <td>2020</td>\n",
              "      <td>01 (January)</td>\n",
              "      <td>113236.24</td>\n",
              "      <td>82737.26</td>\n",
              "      <td>284090</td>\n",
              "    </tr>\n",
              "    <tr>\n",
              "      <th>261</th>\n",
              "      <td>Rust</td>\n",
              "      <td>2021</td>\n",
              "      <td>01 (January)</td>\n",
              "      <td>142117.25</td>\n",
              "      <td>80945.60</td>\n",
              "      <td>244394</td>\n",
              "    </tr>\n",
              "    <tr>\n",
              "      <th>25435</th>\n",
              "      <td>Terraria</td>\n",
              "      <td>2020</td>\n",
              "      <td>05 (May)</td>\n",
              "      <td>129808.62</td>\n",
              "      <td>78493.53</td>\n",
              "      <td>486918</td>\n",
              "    </tr>\n",
              "    <tr>\n",
              "      <th>931</th>\n",
              "      <td>PAYDAY 2</td>\n",
              "      <td>2017</td>\n",
              "      <td>06 (June)</td>\n",
              "      <td>80779.88</td>\n",
              "      <td>71820.89</td>\n",
              "      <td>247628</td>\n",
              "    </tr>\n",
              "    <tr>\n",
              "      <th>176</th>\n",
              "      <td>Dota 2</td>\n",
              "      <td>2015</td>\n",
              "      <td>02 (February)</td>\n",
              "      <td>628970.41</td>\n",
              "      <td>70466.07</td>\n",
              "      <td>1262612</td>\n",
              "    </tr>\n",
              "    <tr>\n",
              "      <th>185</th>\n",
              "      <td>Dota 2</td>\n",
              "      <td>2014</td>\n",
              "      <td>05 (May)</td>\n",
              "      <td>482387.24</td>\n",
              "      <td>60677.03</td>\n",
              "      <td>843024</td>\n",
              "    </tr>\n",
              "    <tr>\n",
              "      <th>25493</th>\n",
              "      <td>Terraria</td>\n",
              "      <td>2015</td>\n",
              "      <td>07 (July)</td>\n",
              "      <td>72132.59</td>\n",
              "      <td>58951.85</td>\n",
              "      <td>149316</td>\n",
              "    </tr>\n",
              "    <tr>\n",
              "      <th>146</th>\n",
              "      <td>Dota 2</td>\n",
              "      <td>2017</td>\n",
              "      <td>08 (August)</td>\n",
              "      <td>556496.30</td>\n",
              "      <td>58051.92</td>\n",
              "      <td>876395</td>\n",
              "    </tr>\n",
              "    <tr>\n",
              "      <th>114</th>\n",
              "      <td>Dota 2</td>\n",
              "      <td>2020</td>\n",
              "      <td>04 (April)</td>\n",
              "      <td>493300.27</td>\n",
              "      <td>56152.91</td>\n",
              "      <td>801121</td>\n",
              "    </tr>\n",
              "    <tr>\n",
              "      <th>234</th>\n",
              "      <td>PUBG</td>\n",
              "      <td>2018</td>\n",
              "      <td>12 (December)</td>\n",
              "      <td>473541.26</td>\n",
              "      <td>55381.78</td>\n",
              "      <td>1109766</td>\n",
              "    </tr>\n",
              "    <tr>\n",
              "      <th>3</th>\n",
              "      <td>CSGO</td>\n",
              "      <td>2020</td>\n",
              "      <td>11 (November)</td>\n",
              "      <td>668754.58</td>\n",
              "      <td>55087.89</td>\n",
              "      <td>1037464</td>\n",
              "    </tr>\n",
              "    <tr>\n",
              "      <th>173</th>\n",
              "      <td>Dota 2</td>\n",
              "      <td>2015</td>\n",
              "      <td>05 (May)</td>\n",
              "      <td>580348.42</td>\n",
              "      <td>54286.70</td>\n",
              "      <td>967674</td>\n",
              "    </tr>\n",
              "    <tr>\n",
              "      <th>254</th>\n",
              "      <td>PUBG</td>\n",
              "      <td>2017</td>\n",
              "      <td>04 (April)</td>\n",
              "      <td>69794.98</td>\n",
              "      <td>52243.84</td>\n",
              "      <td>140104</td>\n",
              "    </tr>\n",
              "    <tr>\n",
              "      <th>170</th>\n",
              "      <td>Dota 2</td>\n",
              "      <td>2015</td>\n",
              "      <td>08 (August)</td>\n",
              "      <td>606943.98</td>\n",
              "      <td>51952.97</td>\n",
              "      <td>933942</td>\n",
              "    </tr>\n",
              "    <tr>\n",
              "      <th>49</th>\n",
              "      <td>CSGO</td>\n",
              "      <td>2017</td>\n",
              "      <td>01 (January)</td>\n",
              "      <td>393109.53</td>\n",
              "      <td>50913.83</td>\n",
              "      <td>814616</td>\n",
              "    </tr>\n",
              "  </tbody>\n",
              "</table>\n",
              "</div>"
            ],
            "text/plain": [
              "                           gamename  year  ...       gain     peak\n",
              "248                            PUBG  2017  ...  426446.12  2390946\n",
              "249                            PUBG  2017  ...  270665.33  1550463\n",
              "247                            PUBG  2017  ...  247531.23  2915723\n",
              "10                             CSGO  2020  ...  186570.94  1305714\n",
              "250                            PUBG  2017  ...  159825.72   874171\n",
              "245                            PUBG  2018  ...  148728.26  3236027\n",
              "11                             CSGO  2020  ...  127054.13  1145972\n",
              "3708   Mount & Blade II: Bannerlord  2020  ...  113492.74   248034\n",
              "3763      Total War: THREE KINGDOMS  2019  ...  102719.01   191816\n",
              "246                            PUBG  2017  ...  101988.42  3080769\n",
              "164                          Dota 2  2016  ...   97003.48  1248394\n",
              "194                          Dota 2  2013  ...   92919.98   520532\n",
              "251                            PUBG  2017  ...   89799.46   481291\n",
              "128                          Dota 2  2019  ...   89162.67   964921\n",
              "26                             CSGO  2018  ...   85423.83   746548\n",
              "26030         Monster Hunter: World  2020  ...   82737.26   284090\n",
              "261                            Rust  2021  ...   80945.60   244394\n",
              "25435                      Terraria  2020  ...   78493.53   486918\n",
              "931                        PAYDAY 2  2017  ...   71820.89   247628\n",
              "176                          Dota 2  2015  ...   70466.07  1262612\n",
              "185                          Dota 2  2014  ...   60677.03   843024\n",
              "25493                      Terraria  2015  ...   58951.85   149316\n",
              "146                          Dota 2  2017  ...   58051.92   876395\n",
              "114                          Dota 2  2020  ...   56152.91   801121\n",
              "234                            PUBG  2018  ...   55381.78  1109766\n",
              "3                              CSGO  2020  ...   55087.89  1037464\n",
              "173                          Dota 2  2015  ...   54286.70   967674\n",
              "254                            PUBG  2017  ...   52243.84   140104\n",
              "170                          Dota 2  2015  ...   51952.97   933942\n",
              "49                             CSGO  2017  ...   50913.83   814616\n",
              "\n",
              "[30 rows x 6 columns]"
            ]
          },
          "metadata": {
            "tags": []
          },
          "execution_count": 28
        }
      ]
    },
    {
      "cell_type": "markdown",
      "metadata": {
        "id": "-WVF-Z5EZUvj"
      },
      "source": [
        "O ganho de jogadores tende a favorecer jogos que tem uma base de jogadores que já é grande."
      ]
    },
    {
      "cell_type": "code",
      "metadata": {
        "colab": {
          "base_uri": "https://localhost:8080/",
          "height": 1000
        },
        "id": "b60ZofVoktlt",
        "outputId": "a68d2a50-114c-4c6f-9747-b20fb7b2bd73"
      },
      "source": [
        "steam_games_clean.groupby('gamename').median().sort_values(by='gain',ascending=False).head(30)"
      ],
      "execution_count": null,
      "outputs": [
        {
          "output_type": "execute_result",
          "data": {
            "text/html": [
              "<div>\n",
              "<style scoped>\n",
              "    .dataframe tbody tr th:only-of-type {\n",
              "        vertical-align: middle;\n",
              "    }\n",
              "\n",
              "    .dataframe tbody tr th {\n",
              "        vertical-align: top;\n",
              "    }\n",
              "\n",
              "    .dataframe thead th {\n",
              "        text-align: right;\n",
              "    }\n",
              "</style>\n",
              "<table border=\"1\" class=\"dataframe\">\n",
              "  <thead>\n",
              "    <tr style=\"text-align: right;\">\n",
              "      <th></th>\n",
              "      <th>year</th>\n",
              "      <th>avg</th>\n",
              "      <th>gain</th>\n",
              "      <th>peak</th>\n",
              "    </tr>\n",
              "    <tr>\n",
              "      <th>gamename</th>\n",
              "      <th></th>\n",
              "      <th></th>\n",
              "      <th></th>\n",
              "      <th></th>\n",
              "    </tr>\n",
              "  </thead>\n",
              "  <tbody>\n",
              "    <tr>\n",
              "      <th>Dota 2</th>\n",
              "      <td>2016.0</td>\n",
              "      <td>475924.040</td>\n",
              "      <td>7884.170</td>\n",
              "      <td>826109.5</td>\n",
              "    </tr>\n",
              "    <tr>\n",
              "      <th>CSGO</th>\n",
              "      <td>2016.0</td>\n",
              "      <td>342028.480</td>\n",
              "      <td>3779.315</td>\n",
              "      <td>612511.0</td>\n",
              "    </tr>\n",
              "    <tr>\n",
              "      <th>Apex Legends</th>\n",
              "      <td>2020.5</td>\n",
              "      <td>73362.000</td>\n",
              "      <td>3648.495</td>\n",
              "      <td>123560.5</td>\n",
              "    </tr>\n",
              "    <tr>\n",
              "      <th>Dyson Sphere Program</th>\n",
              "      <td>2021.0</td>\n",
              "      <td>28667.720</td>\n",
              "      <td>3142.785</td>\n",
              "      <td>59291.0</td>\n",
              "    </tr>\n",
              "    <tr>\n",
              "      <th>Football Manager 2021</th>\n",
              "      <td>2020.5</td>\n",
              "      <td>52569.590</td>\n",
              "      <td>2207.975</td>\n",
              "      <td>90592.0</td>\n",
              "    </tr>\n",
              "    <tr>\n",
              "      <th>Tom Clancy's Rainbow Six Siege</th>\n",
              "      <td>2018.0</td>\n",
              "      <td>63092.810</td>\n",
              "      <td>1518.100</td>\n",
              "      <td>116054.0</td>\n",
              "    </tr>\n",
              "    <tr>\n",
              "      <th>NBA 2K21</th>\n",
              "      <td>2020.0</td>\n",
              "      <td>9476.800</td>\n",
              "      <td>964.820</td>\n",
              "      <td>17402.0</td>\n",
              "    </tr>\n",
              "    <tr>\n",
              "      <th>Gunfire Reborn</th>\n",
              "      <td>2020.0</td>\n",
              "      <td>3555.645</td>\n",
              "      <td>759.330</td>\n",
              "      <td>7453.0</td>\n",
              "    </tr>\n",
              "    <tr>\n",
              "      <th>Dead by Daylight</th>\n",
              "      <td>2018.0</td>\n",
              "      <td>19176.790</td>\n",
              "      <td>479.350</td>\n",
              "      <td>38177.0</td>\n",
              "    </tr>\n",
              "    <tr>\n",
              "      <th>BattlefieldÂ V</th>\n",
              "      <td>2020.0</td>\n",
              "      <td>2278.780</td>\n",
              "      <td>456.350</td>\n",
              "      <td>7021.0</td>\n",
              "    </tr>\n",
              "    <tr>\n",
              "      <th>Wallpaper Engine</th>\n",
              "      <td>2018.0</td>\n",
              "      <td>9152.540</td>\n",
              "      <td>388.055</td>\n",
              "      <td>14861.0</td>\n",
              "    </tr>\n",
              "    <tr>\n",
              "      <th>Battlefield 1 Â</th>\n",
              "      <td>2020.0</td>\n",
              "      <td>1098.260</td>\n",
              "      <td>384.660</td>\n",
              "      <td>3626.0</td>\n",
              "    </tr>\n",
              "    <tr>\n",
              "      <th>EA SPORTSÂ FIFA 21</th>\n",
              "      <td>2020.0</td>\n",
              "      <td>16396.180</td>\n",
              "      <td>329.840</td>\n",
              "      <td>30568.0</td>\n",
              "    </tr>\n",
              "    <tr>\n",
              "      <th>The Elder Scrolls V: Skyrim Special Edition</th>\n",
              "      <td>2018.0</td>\n",
              "      <td>11688.415</td>\n",
              "      <td>305.945</td>\n",
              "      <td>20810.5</td>\n",
              "    </tr>\n",
              "    <tr>\n",
              "      <th>YoloMouse</th>\n",
              "      <td>2020.0</td>\n",
              "      <td>1203.470</td>\n",
              "      <td>274.635</td>\n",
              "      <td>1730.5</td>\n",
              "    </tr>\n",
              "    <tr>\n",
              "      <th>World of Tanks Blitz</th>\n",
              "      <td>2018.0</td>\n",
              "      <td>8813.960</td>\n",
              "      <td>258.680</td>\n",
              "      <td>21327.0</td>\n",
              "    </tr>\n",
              "    <tr>\n",
              "      <th>tModLoader</th>\n",
              "      <td>2020.0</td>\n",
              "      <td>9376.880</td>\n",
              "      <td>248.985</td>\n",
              "      <td>13074.0</td>\n",
              "    </tr>\n",
              "    <tr>\n",
              "      <th>Farming Simulator 19</th>\n",
              "      <td>2019.5</td>\n",
              "      <td>12446.305</td>\n",
              "      <td>178.765</td>\n",
              "      <td>25964.0</td>\n",
              "    </tr>\n",
              "    <tr>\n",
              "      <th>Hearts of Iron IV</th>\n",
              "      <td>2018.0</td>\n",
              "      <td>13706.550</td>\n",
              "      <td>164.520</td>\n",
              "      <td>24593.0</td>\n",
              "    </tr>\n",
              "    <tr>\n",
              "      <th>eFootball PES 2021 SEASON UPDATE</th>\n",
              "      <td>2020.0</td>\n",
              "      <td>8398.470</td>\n",
              "      <td>150.745</td>\n",
              "      <td>15340.0</td>\n",
              "    </tr>\n",
              "    <tr>\n",
              "      <th>Don't Starve Together</th>\n",
              "      <td>2018.0</td>\n",
              "      <td>7648.340</td>\n",
              "      <td>137.010</td>\n",
              "      <td>16546.0</td>\n",
              "    </tr>\n",
              "    <tr>\n",
              "      <th>Shadowverse</th>\n",
              "      <td>2018.0</td>\n",
              "      <td>3959.670</td>\n",
              "      <td>125.740</td>\n",
              "      <td>11725.0</td>\n",
              "    </tr>\n",
              "    <tr>\n",
              "      <th>Garry's Mod</th>\n",
              "      <td>2016.0</td>\n",
              "      <td>26656.355</td>\n",
              "      <td>112.910</td>\n",
              "      <td>51259.0</td>\n",
              "    </tr>\n",
              "    <tr>\n",
              "      <th>Hollow Knight</th>\n",
              "      <td>2019.0</td>\n",
              "      <td>2197.740</td>\n",
              "      <td>111.960</td>\n",
              "      <td>4776.0</td>\n",
              "    </tr>\n",
              "    <tr>\n",
              "      <th>SCP: Secret Laboratory</th>\n",
              "      <td>2019.0</td>\n",
              "      <td>2591.970</td>\n",
              "      <td>106.910</td>\n",
              "      <td>4525.0</td>\n",
              "    </tr>\n",
              "    <tr>\n",
              "      <th>People Playground</th>\n",
              "      <td>2020.0</td>\n",
              "      <td>624.365</td>\n",
              "      <td>100.880</td>\n",
              "      <td>1435.5</td>\n",
              "    </tr>\n",
              "    <tr>\n",
              "      <th>Soundpad</th>\n",
              "      <td>2019.0</td>\n",
              "      <td>1536.050</td>\n",
              "      <td>100.430</td>\n",
              "      <td>2320.0</td>\n",
              "    </tr>\n",
              "    <tr>\n",
              "      <th>NGU IDLE</th>\n",
              "      <td>2020.0</td>\n",
              "      <td>6162.090</td>\n",
              "      <td>97.870</td>\n",
              "      <td>7312.0</td>\n",
              "    </tr>\n",
              "    <tr>\n",
              "      <th>World of Warships</th>\n",
              "      <td>2019.0</td>\n",
              "      <td>4536.040</td>\n",
              "      <td>95.510</td>\n",
              "      <td>8471.0</td>\n",
              "    </tr>\n",
              "    <tr>\n",
              "      <th>Lords Mobile</th>\n",
              "      <td>2020.0</td>\n",
              "      <td>3384.810</td>\n",
              "      <td>93.160</td>\n",
              "      <td>5071.0</td>\n",
              "    </tr>\n",
              "  </tbody>\n",
              "</table>\n",
              "</div>"
            ],
            "text/plain": [
              "                                               year  ...      peak\n",
              "gamename                                             ...          \n",
              "Dota 2                                       2016.0  ...  826109.5\n",
              "CSGO                                         2016.0  ...  612511.0\n",
              "Apex Legends                                 2020.5  ...  123560.5\n",
              "Dyson Sphere Program                         2021.0  ...   59291.0\n",
              "Football Manager 2021                        2020.5  ...   90592.0\n",
              "Tom Clancy's Rainbow Six Siege               2018.0  ...  116054.0\n",
              "NBA 2K21                                     2020.0  ...   17402.0\n",
              "Gunfire Reborn                               2020.0  ...    7453.0\n",
              "Dead by Daylight                             2018.0  ...   38177.0\n",
              "BattlefieldÂ V                              2020.0  ...    7021.0\n",
              "Wallpaper Engine                             2018.0  ...   14861.0\n",
              "Battlefield 1 Â                             2020.0  ...    3626.0\n",
              "EA SPORTSÂ FIFA 21                          2020.0  ...   30568.0\n",
              "The Elder Scrolls V: Skyrim Special Edition  2018.0  ...   20810.5\n",
              "YoloMouse                                    2020.0  ...    1730.5\n",
              "World of Tanks Blitz                         2018.0  ...   21327.0\n",
              "tModLoader                                   2020.0  ...   13074.0\n",
              "Farming Simulator 19                         2019.5  ...   25964.0\n",
              "Hearts of Iron IV                            2018.0  ...   24593.0\n",
              "eFootball PES 2021 SEASON UPDATE             2020.0  ...   15340.0\n",
              "Don't Starve Together                        2018.0  ...   16546.0\n",
              "Shadowverse                                  2018.0  ...   11725.0\n",
              "Garry's Mod                                  2016.0  ...   51259.0\n",
              "Hollow Knight                                2019.0  ...    4776.0\n",
              "SCP: Secret Laboratory                       2019.0  ...    4525.0\n",
              "People Playground                            2020.0  ...    1435.5\n",
              "Soundpad                                     2019.0  ...    2320.0\n",
              "NGU IDLE                                     2020.0  ...    7312.0\n",
              "World of Warships                            2019.0  ...    8471.0\n",
              "Lords Mobile                                 2020.0  ...    5071.0\n",
              "\n",
              "[30 rows x 4 columns]"
            ]
          },
          "metadata": {
            "tags": []
          },
          "execution_count": 29
        }
      ]
    },
    {
      "cell_type": "code",
      "metadata": {
        "id": "lZJ6jPGbJZcd",
        "colab": {
          "base_uri": "https://localhost:8080/",
          "height": 1000
        },
        "outputId": "2cffa3af-a854-4655-bb93-a5fde0f341d9"
      },
      "source": [
        "steam_games_clean.groupby('gamename').median().sort_values(by='avg',ascending=False).head(30)"
      ],
      "execution_count": null,
      "outputs": [
        {
          "output_type": "execute_result",
          "data": {
            "text/html": [
              "<div>\n",
              "<style scoped>\n",
              "    .dataframe tbody tr th:only-of-type {\n",
              "        vertical-align: middle;\n",
              "    }\n",
              "\n",
              "    .dataframe tbody tr th {\n",
              "        vertical-align: top;\n",
              "    }\n",
              "\n",
              "    .dataframe thead th {\n",
              "        text-align: right;\n",
              "    }\n",
              "</style>\n",
              "<table border=\"1\" class=\"dataframe\">\n",
              "  <thead>\n",
              "    <tr style=\"text-align: right;\">\n",
              "      <th></th>\n",
              "      <th>year</th>\n",
              "      <th>avg</th>\n",
              "      <th>gain</th>\n",
              "      <th>peak</th>\n",
              "    </tr>\n",
              "    <tr>\n",
              "      <th>gamename</th>\n",
              "      <th></th>\n",
              "      <th></th>\n",
              "      <th></th>\n",
              "      <th></th>\n",
              "    </tr>\n",
              "  </thead>\n",
              "  <tbody>\n",
              "    <tr>\n",
              "      <th>Dota 2</th>\n",
              "      <td>2016.0</td>\n",
              "      <td>475924.040</td>\n",
              "      <td>7884.170</td>\n",
              "      <td>826109.5</td>\n",
              "    </tr>\n",
              "    <tr>\n",
              "      <th>PUBG</th>\n",
              "      <td>2019.0</td>\n",
              "      <td>355709.920</td>\n",
              "      <td>-8351.275</td>\n",
              "      <td>748450.5</td>\n",
              "    </tr>\n",
              "    <tr>\n",
              "      <th>CSGO</th>\n",
              "      <td>2016.0</td>\n",
              "      <td>342028.480</td>\n",
              "      <td>3779.315</td>\n",
              "      <td>612511.0</td>\n",
              "    </tr>\n",
              "    <tr>\n",
              "      <th>Cyberpunk 2077</th>\n",
              "      <td>2021.0</td>\n",
              "      <td>82146.660</td>\n",
              "      <td>-57441.830</td>\n",
              "      <td>225670.0</td>\n",
              "    </tr>\n",
              "    <tr>\n",
              "      <th>Apex Legends</th>\n",
              "      <td>2020.5</td>\n",
              "      <td>73362.000</td>\n",
              "      <td>3648.495</td>\n",
              "      <td>123560.5</td>\n",
              "    </tr>\n",
              "    <tr>\n",
              "      <th>Destiny 2</th>\n",
              "      <td>2020.0</td>\n",
              "      <td>66219.640</td>\n",
              "      <td>-9110.480</td>\n",
              "      <td>122236.0</td>\n",
              "    </tr>\n",
              "    <tr>\n",
              "      <th>Tom Clancy's Rainbow Six Siege</th>\n",
              "      <td>2018.0</td>\n",
              "      <td>63092.810</td>\n",
              "      <td>1518.100</td>\n",
              "      <td>116054.0</td>\n",
              "    </tr>\n",
              "    <tr>\n",
              "      <th>GTAV</th>\n",
              "      <td>2018.0</td>\n",
              "      <td>55410.520</td>\n",
              "      <td>-500.100</td>\n",
              "      <td>112074.0</td>\n",
              "    </tr>\n",
              "    <tr>\n",
              "      <th>Football Manager 2021</th>\n",
              "      <td>2020.5</td>\n",
              "      <td>52569.590</td>\n",
              "      <td>2207.975</td>\n",
              "      <td>90592.0</td>\n",
              "    </tr>\n",
              "    <tr>\n",
              "      <th>Team Fortress 2</th>\n",
              "      <td>2016.0</td>\n",
              "      <td>51584.135</td>\n",
              "      <td>-40.555</td>\n",
              "      <td>79458.5</td>\n",
              "    </tr>\n",
              "    <tr>\n",
              "      <th>Football Manager 2020</th>\n",
              "      <td>2020.0</td>\n",
              "      <td>47769.140</td>\n",
              "      <td>-1108.930</td>\n",
              "      <td>83271.0</td>\n",
              "    </tr>\n",
              "    <tr>\n",
              "      <th>ARK: Survival Evolved</th>\n",
              "      <td>2018.0</td>\n",
              "      <td>40763.145</td>\n",
              "      <td>-1112.940</td>\n",
              "      <td>70435.0</td>\n",
              "    </tr>\n",
              "    <tr>\n",
              "      <th>Monster Hunter: World</th>\n",
              "      <td>2019.0</td>\n",
              "      <td>34336.660</td>\n",
              "      <td>-5407.790</td>\n",
              "      <td>74252.0</td>\n",
              "    </tr>\n",
              "    <tr>\n",
              "      <th>Rocket League</th>\n",
              "      <td>2018.0</td>\n",
              "      <td>32689.190</td>\n",
              "      <td>-405.100</td>\n",
              "      <td>65384.0</td>\n",
              "    </tr>\n",
              "    <tr>\n",
              "      <th>Warframe</th>\n",
              "      <td>2017.0</td>\n",
              "      <td>31229.280</td>\n",
              "      <td>-209.155</td>\n",
              "      <td>56277.5</td>\n",
              "    </tr>\n",
              "    <tr>\n",
              "      <th>Rust</th>\n",
              "      <td>2017.0</td>\n",
              "      <td>29285.430</td>\n",
              "      <td>-133.760</td>\n",
              "      <td>53885.0</td>\n",
              "    </tr>\n",
              "    <tr>\n",
              "      <th>Dyson Sphere Program</th>\n",
              "      <td>2021.0</td>\n",
              "      <td>28667.720</td>\n",
              "      <td>3142.785</td>\n",
              "      <td>59291.0</td>\n",
              "    </tr>\n",
              "    <tr>\n",
              "      <th>Garry's Mod</th>\n",
              "      <td>2016.0</td>\n",
              "      <td>26656.355</td>\n",
              "      <td>112.910</td>\n",
              "      <td>51259.0</td>\n",
              "    </tr>\n",
              "    <tr>\n",
              "      <th>Sid Meier's Civilization V</th>\n",
              "      <td>2016.0</td>\n",
              "      <td>26630.500</td>\n",
              "      <td>-191.495</td>\n",
              "      <td>47711.0</td>\n",
              "    </tr>\n",
              "    <tr>\n",
              "      <th>Sid Meier's Civilization VI</th>\n",
              "      <td>2018.0</td>\n",
              "      <td>24275.050</td>\n",
              "      <td>-726.340</td>\n",
              "      <td>42773.0</td>\n",
              "    </tr>\n",
              "    <tr>\n",
              "      <th>Phasmophobia</th>\n",
              "      <td>2020.0</td>\n",
              "      <td>21998.040</td>\n",
              "      <td>-6640.370</td>\n",
              "      <td>45537.0</td>\n",
              "    </tr>\n",
              "    <tr>\n",
              "      <th>The Elder Scrolls V: Skyrim</th>\n",
              "      <td>2016.0</td>\n",
              "      <td>20527.585</td>\n",
              "      <td>-270.585</td>\n",
              "      <td>38589.5</td>\n",
              "    </tr>\n",
              "    <tr>\n",
              "      <th>Dead by Daylight</th>\n",
              "      <td>2018.0</td>\n",
              "      <td>19176.790</td>\n",
              "      <td>479.350</td>\n",
              "      <td>38177.0</td>\n",
              "    </tr>\n",
              "    <tr>\n",
              "      <th>Unturned</th>\n",
              "      <td>2017.0</td>\n",
              "      <td>17095.730</td>\n",
              "      <td>0.000</td>\n",
              "      <td>31354.0</td>\n",
              "    </tr>\n",
              "    <tr>\n",
              "      <th>Fallout 4</th>\n",
              "      <td>2018.0</td>\n",
              "      <td>17059.335</td>\n",
              "      <td>-221.065</td>\n",
              "      <td>31660.5</td>\n",
              "    </tr>\n",
              "    <tr>\n",
              "      <th>Terraria</th>\n",
              "      <td>2016.0</td>\n",
              "      <td>16417.505</td>\n",
              "      <td>54.015</td>\n",
              "      <td>28993.5</td>\n",
              "    </tr>\n",
              "    <tr>\n",
              "      <th>EA SPORTSÂ FIFA 21</th>\n",
              "      <td>2020.0</td>\n",
              "      <td>16396.180</td>\n",
              "      <td>329.840</td>\n",
              "      <td>30568.0</td>\n",
              "    </tr>\n",
              "    <tr>\n",
              "      <th>Total War: WARHAMMER II</th>\n",
              "      <td>2019.0</td>\n",
              "      <td>15780.070</td>\n",
              "      <td>0.000</td>\n",
              "      <td>32412.0</td>\n",
              "    </tr>\n",
              "    <tr>\n",
              "      <th>Arma 3</th>\n",
              "      <td>2017.0</td>\n",
              "      <td>15252.700</td>\n",
              "      <td>7.105</td>\n",
              "      <td>31836.5</td>\n",
              "    </tr>\n",
              "    <tr>\n",
              "      <th>Paladins</th>\n",
              "      <td>2018.0</td>\n",
              "      <td>14949.270</td>\n",
              "      <td>-189.525</td>\n",
              "      <td>28512.5</td>\n",
              "    </tr>\n",
              "  </tbody>\n",
              "</table>\n",
              "</div>"
            ],
            "text/plain": [
              "                                  year         avg       gain      peak\n",
              "gamename                                                               \n",
              "Dota 2                          2016.0  475924.040   7884.170  826109.5\n",
              "PUBG                            2019.0  355709.920  -8351.275  748450.5\n",
              "CSGO                            2016.0  342028.480   3779.315  612511.0\n",
              "Cyberpunk 2077                  2021.0   82146.660 -57441.830  225670.0\n",
              "Apex Legends                    2020.5   73362.000   3648.495  123560.5\n",
              "Destiny 2                       2020.0   66219.640  -9110.480  122236.0\n",
              "Tom Clancy's Rainbow Six Siege  2018.0   63092.810   1518.100  116054.0\n",
              "GTAV                            2018.0   55410.520   -500.100  112074.0\n",
              "Football Manager 2021           2020.5   52569.590   2207.975   90592.0\n",
              "Team Fortress 2                 2016.0   51584.135    -40.555   79458.5\n",
              "Football Manager 2020           2020.0   47769.140  -1108.930   83271.0\n",
              "ARK: Survival Evolved           2018.0   40763.145  -1112.940   70435.0\n",
              "Monster Hunter: World           2019.0   34336.660  -5407.790   74252.0\n",
              "Rocket League                   2018.0   32689.190   -405.100   65384.0\n",
              "Warframe                        2017.0   31229.280   -209.155   56277.5\n",
              "Rust                            2017.0   29285.430   -133.760   53885.0\n",
              "Dyson Sphere Program            2021.0   28667.720   3142.785   59291.0\n",
              "Garry's Mod                     2016.0   26656.355    112.910   51259.0\n",
              "Sid Meier's Civilization V      2016.0   26630.500   -191.495   47711.0\n",
              "Sid Meier's Civilization VI     2018.0   24275.050   -726.340   42773.0\n",
              "Phasmophobia                    2020.0   21998.040  -6640.370   45537.0\n",
              "The Elder Scrolls V: Skyrim     2016.0   20527.585   -270.585   38589.5\n",
              "Dead by Daylight                2018.0   19176.790    479.350   38177.0\n",
              "Unturned                        2017.0   17095.730      0.000   31354.0\n",
              "Fallout 4                       2018.0   17059.335   -221.065   31660.5\n",
              "Terraria                        2016.0   16417.505     54.015   28993.5\n",
              "EA SPORTSÂ FIFA 21             2020.0   16396.180    329.840   30568.0\n",
              "Total War: WARHAMMER II         2019.0   15780.070      0.000   32412.0\n",
              "Arma 3                          2017.0   15252.700      7.105   31836.5\n",
              "Paladins                        2018.0   14949.270   -189.525   28512.5"
            ]
          },
          "metadata": {
            "tags": []
          },
          "execution_count": 30
        }
      ]
    },
    {
      "cell_type": "markdown",
      "metadata": {
        "id": "CTDEfmEsZUdx"
      },
      "source": [
        "As medianas de média de jogadores e ganho de jogadores não possuem muita relação. A mediana de ganhos pode indicar que jogos menos "
      ]
    },
    {
      "cell_type": "markdown",
      "metadata": {
        "id": "hx2_Qx5JrnRj"
      },
      "source": [
        "# **Verificando médias dos anos**"
      ]
    },
    {
      "cell_type": "code",
      "metadata": {
        "id": "A64PLaYIJZsJ",
        "colab": {
          "base_uri": "https://localhost:8080/",
          "height": 390
        },
        "outputId": "0b8d0328-76b2-480a-85df-6ef389315444"
      },
      "source": [
        "steam_games_clean.groupby('year').mean()"
      ],
      "execution_count": null,
      "outputs": [
        {
          "output_type": "execute_result",
          "data": {
            "text/html": [
              "<div>\n",
              "<style scoped>\n",
              "    .dataframe tbody tr th:only-of-type {\n",
              "        vertical-align: middle;\n",
              "    }\n",
              "\n",
              "    .dataframe tbody tr th {\n",
              "        vertical-align: top;\n",
              "    }\n",
              "\n",
              "    .dataframe thead th {\n",
              "        text-align: right;\n",
              "    }\n",
              "</style>\n",
              "<table border=\"1\" class=\"dataframe\">\n",
              "  <thead>\n",
              "    <tr style=\"text-align: right;\">\n",
              "      <th></th>\n",
              "      <th>avg</th>\n",
              "      <th>gain</th>\n",
              "      <th>peak</th>\n",
              "    </tr>\n",
              "    <tr>\n",
              "      <th>year</th>\n",
              "      <th></th>\n",
              "      <th></th>\n",
              "      <th></th>\n",
              "    </tr>\n",
              "  </thead>\n",
              "  <tbody>\n",
              "    <tr>\n",
              "      <th>2012</th>\n",
              "      <td>1857.176512</td>\n",
              "      <td>-68.521067</td>\n",
              "      <td>3914.659649</td>\n",
              "    </tr>\n",
              "    <tr>\n",
              "      <th>2013</th>\n",
              "      <td>2049.903427</td>\n",
              "      <td>65.856604</td>\n",
              "      <td>4339.295792</td>\n",
              "    </tr>\n",
              "    <tr>\n",
              "      <th>2014</th>\n",
              "      <td>2545.695657</td>\n",
              "      <td>40.149232</td>\n",
              "      <td>5218.345246</td>\n",
              "    </tr>\n",
              "    <tr>\n",
              "      <th>2015</th>\n",
              "      <td>2782.385191</td>\n",
              "      <td>-20.615418</td>\n",
              "      <td>5569.266234</td>\n",
              "    </tr>\n",
              "    <tr>\n",
              "      <th>2016</th>\n",
              "      <td>2629.729685</td>\n",
              "      <td>-41.709884</td>\n",
              "      <td>5153.279176</td>\n",
              "    </tr>\n",
              "    <tr>\n",
              "      <th>2017</th>\n",
              "      <td>2843.182719</td>\n",
              "      <td>117.416406</td>\n",
              "      <td>5635.775299</td>\n",
              "    </tr>\n",
              "    <tr>\n",
              "      <th>2018</th>\n",
              "      <td>3014.045170</td>\n",
              "      <td>-111.800034</td>\n",
              "      <td>6189.291110</td>\n",
              "    </tr>\n",
              "    <tr>\n",
              "      <th>2019</th>\n",
              "      <td>2559.648512</td>\n",
              "      <td>-37.350136</td>\n",
              "      <td>5002.182984</td>\n",
              "    </tr>\n",
              "    <tr>\n",
              "      <th>2020</th>\n",
              "      <td>3158.675927</td>\n",
              "      <td>-3.012723</td>\n",
              "      <td>5988.573398</td>\n",
              "    </tr>\n",
              "    <tr>\n",
              "      <th>2021</th>\n",
              "      <td>3492.561073</td>\n",
              "      <td>-23.117858</td>\n",
              "      <td>6386.627186</td>\n",
              "    </tr>\n",
              "  </tbody>\n",
              "</table>\n",
              "</div>"
            ],
            "text/plain": [
              "              avg        gain         peak\n",
              "year                                      \n",
              "2012  1857.176512  -68.521067  3914.659649\n",
              "2013  2049.903427   65.856604  4339.295792\n",
              "2014  2545.695657   40.149232  5218.345246\n",
              "2015  2782.385191  -20.615418  5569.266234\n",
              "2016  2629.729685  -41.709884  5153.279176\n",
              "2017  2843.182719  117.416406  5635.775299\n",
              "2018  3014.045170 -111.800034  6189.291110\n",
              "2019  2559.648512  -37.350136  5002.182984\n",
              "2020  3158.675927   -3.012723  5988.573398\n",
              "2021  3492.561073  -23.117858  6386.627186"
            ]
          },
          "metadata": {
            "tags": []
          },
          "execution_count": 31
        }
      ]
    },
    {
      "cell_type": "markdown",
      "metadata": {
        "id": "z2D04LGtZX7Z"
      },
      "source": [
        "A média de jogadores por mês indica que o ano de 2020, provavelmente devido à pandemia de COVID-19, viu um crescimento massivo de jogadores comparado ao ano anterior, que teve uma queda consideravel desde 2018."
      ]
    },
    {
      "cell_type": "code",
      "metadata": {
        "id": "tTrPizUtJZpo",
        "colab": {
          "base_uri": "https://localhost:8080/",
          "height": 1000
        },
        "outputId": "46b91c79-1cdf-42c1-c812-86883339b916"
      },
      "source": [
        "steam_games_clean.groupby(['gamename','year']).mean().sort_values(by='avg',ascending=False).head(30)"
      ],
      "execution_count": null,
      "outputs": [
        {
          "output_type": "execute_result",
          "data": {
            "text/html": [
              "<div>\n",
              "<style scoped>\n",
              "    .dataframe tbody tr th:only-of-type {\n",
              "        vertical-align: middle;\n",
              "    }\n",
              "\n",
              "    .dataframe tbody tr th {\n",
              "        vertical-align: top;\n",
              "    }\n",
              "\n",
              "    .dataframe thead th {\n",
              "        text-align: right;\n",
              "    }\n",
              "</style>\n",
              "<table border=\"1\" class=\"dataframe\">\n",
              "  <thead>\n",
              "    <tr style=\"text-align: right;\">\n",
              "      <th></th>\n",
              "      <th></th>\n",
              "      <th>avg</th>\n",
              "      <th>gain</th>\n",
              "      <th>peak</th>\n",
              "    </tr>\n",
              "    <tr>\n",
              "      <th>gamename</th>\n",
              "      <th>year</th>\n",
              "      <th></th>\n",
              "      <th></th>\n",
              "      <th></th>\n",
              "    </tr>\n",
              "  </thead>\n",
              "  <tbody>\n",
              "    <tr>\n",
              "      <th>PUBG</th>\n",
              "      <th>2018</th>\n",
              "      <td>855560.980000</td>\n",
              "      <td>-80218.104167</td>\n",
              "      <td>1.845250e+06</td>\n",
              "    </tr>\n",
              "    <tr>\n",
              "      <th rowspan=\"2\" valign=\"top\">CSGO</th>\n",
              "      <th>2021</th>\n",
              "      <td>742111.450000</td>\n",
              "      <td>11604.745000</td>\n",
              "      <td>1.124019e+06</td>\n",
              "    </tr>\n",
              "    <tr>\n",
              "      <th>2020</th>\n",
              "      <td>657265.765000</td>\n",
              "      <td>21758.515833</td>\n",
              "      <td>1.024596e+06</td>\n",
              "    </tr>\n",
              "    <tr>\n",
              "      <th rowspan=\"2\" valign=\"top\">Dota 2</th>\n",
              "      <th>2016</th>\n",
              "      <td>638267.885000</td>\n",
              "      <td>1714.695000</td>\n",
              "      <td>1.114353e+06</td>\n",
              "    </tr>\n",
              "    <tr>\n",
              "      <th>2015</th>\n",
              "      <td>561580.041667</td>\n",
              "      <td>4116.994167</td>\n",
              "      <td>9.841637e+05</td>\n",
              "    </tr>\n",
              "    <tr>\n",
              "      <th>PUBG</th>\n",
              "      <th>2017</th>\n",
              "      <td>547107.929000</td>\n",
              "      <td>141860.739000</td>\n",
              "      <td>1.195796e+06</td>\n",
              "    </tr>\n",
              "    <tr>\n",
              "      <th rowspan=\"6\" valign=\"top\">Dota 2</th>\n",
              "      <th>2017</th>\n",
              "      <td>533029.240000</td>\n",
              "      <td>-6737.190000</td>\n",
              "      <td>9.092321e+05</td>\n",
              "    </tr>\n",
              "    <tr>\n",
              "      <th>2019</th>\n",
              "      <td>477650.640000</td>\n",
              "      <td>-4599.006667</td>\n",
              "      <td>8.501205e+05</td>\n",
              "    </tr>\n",
              "    <tr>\n",
              "      <th>2014</th>\n",
              "      <td>474744.562500</td>\n",
              "      <td>13111.152500</td>\n",
              "      <td>8.180121e+05</td>\n",
              "    </tr>\n",
              "    <tr>\n",
              "      <th>2018</th>\n",
              "      <td>454786.681667</td>\n",
              "      <td>-6142.209167</td>\n",
              "      <td>7.828986e+05</td>\n",
              "    </tr>\n",
              "    <tr>\n",
              "      <th>2020</th>\n",
              "      <td>433340.379167</td>\n",
              "      <td>3197.713333</td>\n",
              "      <td>7.111618e+05</td>\n",
              "    </tr>\n",
              "    <tr>\n",
              "      <th>2021</th>\n",
              "      <td>418751.890000</td>\n",
              "      <td>-8860.095000</td>\n",
              "      <td>6.731140e+05</td>\n",
              "    </tr>\n",
              "    <tr>\n",
              "      <th rowspan=\"2\" valign=\"top\">CSGO</th>\n",
              "      <th>2019</th>\n",
              "      <td>398361.112500</td>\n",
              "      <td>5099.360000</td>\n",
              "      <td>6.696914e+05</td>\n",
              "    </tr>\n",
              "    <tr>\n",
              "      <th>2017</th>\n",
              "      <td>369258.907500</td>\n",
              "      <td>-109.901667</td>\n",
              "      <td>6.704216e+05</td>\n",
              "    </tr>\n",
              "    <tr>\n",
              "      <th>PUBG</th>\n",
              "      <th>2019</th>\n",
              "      <td>368058.510000</td>\n",
              "      <td>-13757.983333</td>\n",
              "      <td>7.978862e+05</td>\n",
              "    </tr>\n",
              "    <tr>\n",
              "      <th>CSGO</th>\n",
              "      <th>2016</th>\n",
              "      <td>349814.875000</td>\n",
              "      <td>-2937.618333</td>\n",
              "      <td>6.722739e+05</td>\n",
              "    </tr>\n",
              "    <tr>\n",
              "      <th>Cyberpunk 2077</th>\n",
              "      <th>2020</th>\n",
              "      <td>332395.650000</td>\n",
              "      <td>0.000000</td>\n",
              "      <td>8.303870e+05</td>\n",
              "    </tr>\n",
              "    <tr>\n",
              "      <th rowspan=\"2\" valign=\"top\">CSGO</th>\n",
              "      <th>2018</th>\n",
              "      <td>321531.070833</td>\n",
              "      <td>4552.697500</td>\n",
              "      <td>5.662415e+05</td>\n",
              "    </tr>\n",
              "    <tr>\n",
              "      <th>2015</th>\n",
              "      <td>319942.058333</td>\n",
              "      <td>16154.802500</td>\n",
              "      <td>6.483591e+05</td>\n",
              "    </tr>\n",
              "    <tr>\n",
              "      <th>Dota 2</th>\n",
              "      <th>2013</th>\n",
              "      <td>250041.650833</td>\n",
              "      <td>20390.171667</td>\n",
              "      <td>4.418228e+05</td>\n",
              "    </tr>\n",
              "    <tr>\n",
              "      <th rowspan=\"2\" valign=\"top\">PUBG</th>\n",
              "      <th>2020</th>\n",
              "      <td>215206.369167</td>\n",
              "      <td>-9934.323333</td>\n",
              "      <td>5.340012e+05</td>\n",
              "    </tr>\n",
              "    <tr>\n",
              "      <th>2021</th>\n",
              "      <td>200102.355000</td>\n",
              "      <td>4861.970000</td>\n",
              "      <td>4.496940e+05</td>\n",
              "    </tr>\n",
              "    <tr>\n",
              "      <th>Fallout 4</th>\n",
              "      <th>2015</th>\n",
              "      <td>160217.100000</td>\n",
              "      <td>-66080.730000</td>\n",
              "      <td>3.367950e+05</td>\n",
              "    </tr>\n",
              "    <tr>\n",
              "      <th>Rust</th>\n",
              "      <th>2021</th>\n",
              "      <td>129929.760000</td>\n",
              "      <td>28285.310000</td>\n",
              "      <td>2.343350e+05</td>\n",
              "    </tr>\n",
              "    <tr>\n",
              "      <th>Destiny 2</th>\n",
              "      <th>2019</th>\n",
              "      <td>121811.523333</td>\n",
              "      <td>-24378.946667</td>\n",
              "      <td>2.087713e+05</td>\n",
              "    </tr>\n",
              "    <tr>\n",
              "      <th>CSGO</th>\n",
              "      <th>2014</th>\n",
              "      <td>105695.496667</td>\n",
              "      <td>11400.101667</td>\n",
              "      <td>2.127253e+05</td>\n",
              "    </tr>\n",
              "    <tr>\n",
              "      <th>GTAV</th>\n",
              "      <th>2020</th>\n",
              "      <td>102378.855000</td>\n",
              "      <td>761.381667</td>\n",
              "      <td>1.946011e+05</td>\n",
              "    </tr>\n",
              "    <tr>\n",
              "      <th>Apex Legends</th>\n",
              "      <th>2021</th>\n",
              "      <td>96374.690000</td>\n",
              "      <td>28256.445000</td>\n",
              "      <td>1.633635e+05</td>\n",
              "    </tr>\n",
              "    <tr>\n",
              "      <th>GTAV</th>\n",
              "      <th>2021</th>\n",
              "      <td>95949.115000</td>\n",
              "      <td>-8133.315000</td>\n",
              "      <td>1.656895e+05</td>\n",
              "    </tr>\n",
              "    <tr>\n",
              "      <th>Team Fortress 2</th>\n",
              "      <th>2021</th>\n",
              "      <td>92189.540000</td>\n",
              "      <td>9403.700000</td>\n",
              "      <td>1.223610e+05</td>\n",
              "    </tr>\n",
              "  </tbody>\n",
              "</table>\n",
              "</div>"
            ],
            "text/plain": [
              "                                avg           gain          peak\n",
              "gamename        year                                            \n",
              "PUBG            2018  855560.980000  -80218.104167  1.845250e+06\n",
              "CSGO            2021  742111.450000   11604.745000  1.124019e+06\n",
              "                2020  657265.765000   21758.515833  1.024596e+06\n",
              "Dota 2          2016  638267.885000    1714.695000  1.114353e+06\n",
              "                2015  561580.041667    4116.994167  9.841637e+05\n",
              "PUBG            2017  547107.929000  141860.739000  1.195796e+06\n",
              "Dota 2          2017  533029.240000   -6737.190000  9.092321e+05\n",
              "                2019  477650.640000   -4599.006667  8.501205e+05\n",
              "                2014  474744.562500   13111.152500  8.180121e+05\n",
              "                2018  454786.681667   -6142.209167  7.828986e+05\n",
              "                2020  433340.379167    3197.713333  7.111618e+05\n",
              "                2021  418751.890000   -8860.095000  6.731140e+05\n",
              "CSGO            2019  398361.112500    5099.360000  6.696914e+05\n",
              "                2017  369258.907500    -109.901667  6.704216e+05\n",
              "PUBG            2019  368058.510000  -13757.983333  7.978862e+05\n",
              "CSGO            2016  349814.875000   -2937.618333  6.722739e+05\n",
              "Cyberpunk 2077  2020  332395.650000       0.000000  8.303870e+05\n",
              "CSGO            2018  321531.070833    4552.697500  5.662415e+05\n",
              "                2015  319942.058333   16154.802500  6.483591e+05\n",
              "Dota 2          2013  250041.650833   20390.171667  4.418228e+05\n",
              "PUBG            2020  215206.369167   -9934.323333  5.340012e+05\n",
              "                2021  200102.355000    4861.970000  4.496940e+05\n",
              "Fallout 4       2015  160217.100000  -66080.730000  3.367950e+05\n",
              "Rust            2021  129929.760000   28285.310000  2.343350e+05\n",
              "Destiny 2       2019  121811.523333  -24378.946667  2.087713e+05\n",
              "CSGO            2014  105695.496667   11400.101667  2.127253e+05\n",
              "GTAV            2020  102378.855000     761.381667  1.946011e+05\n",
              "Apex Legends    2021   96374.690000   28256.445000  1.633635e+05\n",
              "GTAV            2021   95949.115000   -8133.315000  1.656895e+05\n",
              "Team Fortress 2 2021   92189.540000    9403.700000  1.223610e+05"
            ]
          },
          "metadata": {
            "tags": []
          },
          "execution_count": 75
        }
      ]
    },
    {
      "cell_type": "markdown",
      "metadata": {
        "id": "Qfgpjf_LZYvy"
      },
      "source": [
        "Nessa agrupação percebe-se que PUBG teve um crescimento explosivo e uma queda tão rápida quanto, enquanto outros jogos como Dota 2 e CSGO tem uma certa estabilidade."
      ]
    },
    {
      "cell_type": "code",
      "metadata": {
        "id": "PKH3jeUCT7h2",
        "colab": {
          "base_uri": "https://localhost:8080/",
          "height": 1000
        },
        "outputId": "a38f615d-4dd7-45d4-d015-e3b0f2738734"
      },
      "source": [
        "steam_games_clean.groupby(['gamename','year']).median().sort_values(by='avg',ascending=False).head(30)"
      ],
      "execution_count": null,
      "outputs": [
        {
          "output_type": "execute_result",
          "data": {
            "text/html": [
              "<div>\n",
              "<style scoped>\n",
              "    .dataframe tbody tr th:only-of-type {\n",
              "        vertical-align: middle;\n",
              "    }\n",
              "\n",
              "    .dataframe tbody tr th {\n",
              "        vertical-align: top;\n",
              "    }\n",
              "\n",
              "    .dataframe thead th {\n",
              "        text-align: right;\n",
              "    }\n",
              "</style>\n",
              "<table border=\"1\" class=\"dataframe\">\n",
              "  <thead>\n",
              "    <tr style=\"text-align: right;\">\n",
              "      <th></th>\n",
              "      <th></th>\n",
              "      <th>avg</th>\n",
              "      <th>gain</th>\n",
              "      <th>peak</th>\n",
              "    </tr>\n",
              "    <tr>\n",
              "      <th>gamename</th>\n",
              "      <th>year</th>\n",
              "      <th></th>\n",
              "      <th></th>\n",
              "      <th></th>\n",
              "    </tr>\n",
              "  </thead>\n",
              "  <tbody>\n",
              "    <tr>\n",
              "      <th>PUBG</th>\n",
              "      <th>2018</th>\n",
              "      <td>744644.325</td>\n",
              "      <td>-76112.925</td>\n",
              "      <td>1550339.5</td>\n",
              "    </tr>\n",
              "    <tr>\n",
              "      <th rowspan=\"2\" valign=\"top\">CSGO</th>\n",
              "      <th>2021</th>\n",
              "      <td>742111.450</td>\n",
              "      <td>11604.745</td>\n",
              "      <td>1124019.0</td>\n",
              "    </tr>\n",
              "    <tr>\n",
              "      <th>2020</th>\n",
              "      <td>654356.120</td>\n",
              "      <td>28420.000</td>\n",
              "      <td>993618.0</td>\n",
              "    </tr>\n",
              "    <tr>\n",
              "      <th rowspan=\"8\" valign=\"top\">Dota 2</th>\n",
              "      <th>2016</th>\n",
              "      <td>638783.895</td>\n",
              "      <td>3827.470</td>\n",
              "      <td>1090096.0</td>\n",
              "    </tr>\n",
              "    <tr>\n",
              "      <th>2015</th>\n",
              "      <td>563476.325</td>\n",
              "      <td>15689.740</td>\n",
              "      <td>938788.5</td>\n",
              "    </tr>\n",
              "    <tr>\n",
              "      <th>2017</th>\n",
              "      <td>544356.735</td>\n",
              "      <td>-10197.380</td>\n",
              "      <td>898856.5</td>\n",
              "    </tr>\n",
              "    <tr>\n",
              "      <th>2014</th>\n",
              "      <td>486635.565</td>\n",
              "      <td>20465.095</td>\n",
              "      <td>838084.5</td>\n",
              "    </tr>\n",
              "    <tr>\n",
              "      <th>2019</th>\n",
              "      <td>471447.645</td>\n",
              "      <td>-7695.690</td>\n",
              "      <td>846032.0</td>\n",
              "    </tr>\n",
              "    <tr>\n",
              "      <th>2018</th>\n",
              "      <td>451393.915</td>\n",
              "      <td>-8275.870</td>\n",
              "      <td>778963.0</td>\n",
              "    </tr>\n",
              "    <tr>\n",
              "      <th>2020</th>\n",
              "      <td>427810.975</td>\n",
              "      <td>-4303.420</td>\n",
              "      <td>712217.0</td>\n",
              "    </tr>\n",
              "    <tr>\n",
              "      <th>2021</th>\n",
              "      <td>418751.890</td>\n",
              "      <td>-8860.095</td>\n",
              "      <td>673114.0</td>\n",
              "    </tr>\n",
              "    <tr>\n",
              "      <th rowspan=\"2\" valign=\"top\">CSGO</th>\n",
              "      <th>2019</th>\n",
              "      <td>397574.850</td>\n",
              "      <td>9142.500</td>\n",
              "      <td>667070.0</td>\n",
              "    </tr>\n",
              "    <tr>\n",
              "      <th>2017</th>\n",
              "      <td>374406.865</td>\n",
              "      <td>-302.325</td>\n",
              "      <td>652669.5</td>\n",
              "    </tr>\n",
              "    <tr>\n",
              "      <th>PUBG</th>\n",
              "      <th>2019</th>\n",
              "      <td>360807.165</td>\n",
              "      <td>-15170.535</td>\n",
              "      <td>748450.5</td>\n",
              "    </tr>\n",
              "    <tr>\n",
              "      <th rowspan=\"2\" valign=\"top\">CSGO</th>\n",
              "      <th>2016</th>\n",
              "      <td>344712.475</td>\n",
              "      <td>-3831.140</td>\n",
              "      <td>662222.5</td>\n",
              "    </tr>\n",
              "    <tr>\n",
              "      <th>2015</th>\n",
              "      <td>336844.195</td>\n",
              "      <td>20136.830</td>\n",
              "      <td>644051.0</td>\n",
              "    </tr>\n",
              "    <tr>\n",
              "      <th>Cyberpunk 2077</th>\n",
              "      <th>2020</th>\n",
              "      <td>332395.650</td>\n",
              "      <td>0.000</td>\n",
              "      <td>830387.0</td>\n",
              "    </tr>\n",
              "    <tr>\n",
              "      <th>CSGO</th>\n",
              "      <th>2018</th>\n",
              "      <td>317996.625</td>\n",
              "      <td>2558.965</td>\n",
              "      <td>555999.5</td>\n",
              "    </tr>\n",
              "    <tr>\n",
              "      <th>PUBG</th>\n",
              "      <th>2017</th>\n",
              "      <td>309614.560</td>\n",
              "      <td>95893.940</td>\n",
              "      <td>677731.0</td>\n",
              "    </tr>\n",
              "    <tr>\n",
              "      <th>Dota 2</th>\n",
              "      <th>2013</th>\n",
              "      <td>224012.450</td>\n",
              "      <td>18464.425</td>\n",
              "      <td>374388.5</td>\n",
              "    </tr>\n",
              "    <tr>\n",
              "      <th rowspan=\"2\" valign=\"top\">PUBG</th>\n",
              "      <th>2020</th>\n",
              "      <td>220083.735</td>\n",
              "      <td>-15353.880</td>\n",
              "      <td>507963.5</td>\n",
              "    </tr>\n",
              "    <tr>\n",
              "      <th>2021</th>\n",
              "      <td>200102.355</td>\n",
              "      <td>4861.970</td>\n",
              "      <td>449694.0</td>\n",
              "    </tr>\n",
              "    <tr>\n",
              "      <th>Fallout 4</th>\n",
              "      <th>2015</th>\n",
              "      <td>160217.100</td>\n",
              "      <td>-66080.730</td>\n",
              "      <td>336795.0</td>\n",
              "    </tr>\n",
              "    <tr>\n",
              "      <th>Rust</th>\n",
              "      <th>2021</th>\n",
              "      <td>129929.760</td>\n",
              "      <td>28285.310</td>\n",
              "      <td>234335.0</td>\n",
              "    </tr>\n",
              "    <tr>\n",
              "      <th>Destiny 2</th>\n",
              "      <th>2019</th>\n",
              "      <td>107955.770</td>\n",
              "      <td>-15784.790</td>\n",
              "      <td>195407.0</td>\n",
              "    </tr>\n",
              "    <tr>\n",
              "      <th>GTAV</th>\n",
              "      <th>2020</th>\n",
              "      <td>103333.560</td>\n",
              "      <td>7134.475</td>\n",
              "      <td>194897.5</td>\n",
              "    </tr>\n",
              "    <tr>\n",
              "      <th>Apex Legends</th>\n",
              "      <th>2021</th>\n",
              "      <td>96374.690</td>\n",
              "      <td>28256.445</td>\n",
              "      <td>163363.5</td>\n",
              "    </tr>\n",
              "    <tr>\n",
              "      <th>GTAV</th>\n",
              "      <th>2021</th>\n",
              "      <td>95949.115</td>\n",
              "      <td>-8133.315</td>\n",
              "      <td>165689.5</td>\n",
              "    </tr>\n",
              "    <tr>\n",
              "      <th>CSGO</th>\n",
              "      <th>2014</th>\n",
              "      <td>95531.510</td>\n",
              "      <td>8788.140</td>\n",
              "      <td>181875.0</td>\n",
              "    </tr>\n",
              "    <tr>\n",
              "      <th>Team Fortress 2</th>\n",
              "      <th>2021</th>\n",
              "      <td>92189.540</td>\n",
              "      <td>9403.700</td>\n",
              "      <td>122361.0</td>\n",
              "    </tr>\n",
              "  </tbody>\n",
              "</table>\n",
              "</div>"
            ],
            "text/plain": [
              "                             avg       gain       peak\n",
              "gamename        year                                  \n",
              "PUBG            2018  744644.325 -76112.925  1550339.5\n",
              "CSGO            2021  742111.450  11604.745  1124019.0\n",
              "                2020  654356.120  28420.000   993618.0\n",
              "Dota 2          2016  638783.895   3827.470  1090096.0\n",
              "                2015  563476.325  15689.740   938788.5\n",
              "                2017  544356.735 -10197.380   898856.5\n",
              "                2014  486635.565  20465.095   838084.5\n",
              "                2019  471447.645  -7695.690   846032.0\n",
              "                2018  451393.915  -8275.870   778963.0\n",
              "                2020  427810.975  -4303.420   712217.0\n",
              "                2021  418751.890  -8860.095   673114.0\n",
              "CSGO            2019  397574.850   9142.500   667070.0\n",
              "                2017  374406.865   -302.325   652669.5\n",
              "PUBG            2019  360807.165 -15170.535   748450.5\n",
              "CSGO            2016  344712.475  -3831.140   662222.5\n",
              "                2015  336844.195  20136.830   644051.0\n",
              "Cyberpunk 2077  2020  332395.650      0.000   830387.0\n",
              "CSGO            2018  317996.625   2558.965   555999.5\n",
              "PUBG            2017  309614.560  95893.940   677731.0\n",
              "Dota 2          2013  224012.450  18464.425   374388.5\n",
              "PUBG            2020  220083.735 -15353.880   507963.5\n",
              "                2021  200102.355   4861.970   449694.0\n",
              "Fallout 4       2015  160217.100 -66080.730   336795.0\n",
              "Rust            2021  129929.760  28285.310   234335.0\n",
              "Destiny 2       2019  107955.770 -15784.790   195407.0\n",
              "GTAV            2020  103333.560   7134.475   194897.5\n",
              "Apex Legends    2021   96374.690  28256.445   163363.5\n",
              "GTAV            2021   95949.115  -8133.315   165689.5\n",
              "CSGO            2014   95531.510   8788.140   181875.0\n",
              "Team Fortress 2 2021   92189.540   9403.700   122361.0"
            ]
          },
          "metadata": {
            "tags": []
          },
          "execution_count": 76
        }
      ]
    },
    {
      "cell_type": "markdown",
      "metadata": {
        "id": "nqYr6eu4ZZGv"
      },
      "source": [
        "As médias e a medianas apresentam um resultado muito semelhante."
      ]
    },
    {
      "cell_type": "code",
      "metadata": {
        "id": "uyeogmWSVnVC",
        "colab": {
          "base_uri": "https://localhost:8080/",
          "height": 1000
        },
        "outputId": "d5bf2493-3844-438f-e141-58e9d3feda61"
      },
      "source": [
        "steam_games_clean.groupby(['gamename','year']).std().sort_values(by='gain',ascending=False).head(30)"
      ],
      "execution_count": null,
      "outputs": [
        {
          "output_type": "execute_result",
          "data": {
            "text/html": [
              "<div>\n",
              "<style scoped>\n",
              "    .dataframe tbody tr th:only-of-type {\n",
              "        vertical-align: middle;\n",
              "    }\n",
              "\n",
              "    .dataframe tbody tr th {\n",
              "        vertical-align: top;\n",
              "    }\n",
              "\n",
              "    .dataframe thead th {\n",
              "        text-align: right;\n",
              "    }\n",
              "</style>\n",
              "<table border=\"1\" class=\"dataframe\">\n",
              "  <thead>\n",
              "    <tr style=\"text-align: right;\">\n",
              "      <th></th>\n",
              "      <th></th>\n",
              "      <th>avg</th>\n",
              "      <th>gain</th>\n",
              "      <th>peak</th>\n",
              "    </tr>\n",
              "    <tr>\n",
              "      <th>gamename</th>\n",
              "      <th>year</th>\n",
              "      <th></th>\n",
              "      <th></th>\n",
              "      <th></th>\n",
              "    </tr>\n",
              "  </thead>\n",
              "  <tbody>\n",
              "    <tr>\n",
              "      <th>Cyberpunk 2077</th>\n",
              "      <th>2021</th>\n",
              "      <td>40617.500446</td>\n",
              "      <td>136335.250297</td>\n",
              "      <td>1.262575e+05</td>\n",
              "    </tr>\n",
              "    <tr>\n",
              "      <th rowspan=\"2\" valign=\"top\">PUBG</th>\n",
              "      <th>2017</th>\n",
              "      <td>548403.634878</td>\n",
              "      <td>135135.016261</td>\n",
              "      <td>1.199129e+06</td>\n",
              "    </tr>\n",
              "    <tr>\n",
              "      <th>2018</th>\n",
              "      <td>398524.851815</td>\n",
              "      <td>104631.895775</td>\n",
              "      <td>8.369360e+05</td>\n",
              "    </tr>\n",
              "    <tr>\n",
              "      <th>Fallout 4</th>\n",
              "      <th>2015</th>\n",
              "      <td>93452.264578</td>\n",
              "      <td>93452.264578</td>\n",
              "      <td>1.911451e+05</td>\n",
              "    </tr>\n",
              "    <tr>\n",
              "      <th>CSGO</th>\n",
              "      <th>2020</th>\n",
              "      <td>95196.016433</td>\n",
              "      <td>82725.481080</td>\n",
              "      <td>1.486966e+05</td>\n",
              "    </tr>\n",
              "    <tr>\n",
              "      <th>Rust</th>\n",
              "      <th>2021</th>\n",
              "      <td>17235.713649</td>\n",
              "      <td>74472.896317</td>\n",
              "      <td>1.422557e+04</td>\n",
              "    </tr>\n",
              "    <tr>\n",
              "      <th>Dota 2</th>\n",
              "      <th>2015</th>\n",
              "      <td>34987.576211</td>\n",
              "      <td>51069.934554</td>\n",
              "      <td>1.237305e+05</td>\n",
              "    </tr>\n",
              "    <tr>\n",
              "      <th>Mount &amp; Blade II: Bannerlord</th>\n",
              "      <th>2020</th>\n",
              "      <td>33867.085308</td>\n",
              "      <td>49842.229791</td>\n",
              "      <td>7.619769e+04</td>\n",
              "    </tr>\n",
              "    <tr>\n",
              "      <th>Total War: THREE KINGDOMS</th>\n",
              "      <th>2019</th>\n",
              "      <td>33854.155077</td>\n",
              "      <td>45409.084255</td>\n",
              "      <td>6.590326e+04</td>\n",
              "    </tr>\n",
              "    <tr>\n",
              "      <th>Dota 2</th>\n",
              "      <th>2019</th>\n",
              "      <td>69422.645434</td>\n",
              "      <td>44583.331023</td>\n",
              "      <td>1.200214e+05</td>\n",
              "    </tr>\n",
              "    <tr>\n",
              "      <th>Monster Hunter: World</th>\n",
              "      <th>2018</th>\n",
              "      <td>65430.598807</td>\n",
              "      <td>43911.838786</td>\n",
              "      <td>9.822744e+04</td>\n",
              "    </tr>\n",
              "    <tr>\n",
              "      <th>Dota 2</th>\n",
              "      <th>2016</th>\n",
              "      <td>34834.901637</td>\n",
              "      <td>42543.987326</td>\n",
              "      <td>8.597648e+04</td>\n",
              "    </tr>\n",
              "    <tr>\n",
              "      <th>CSGO</th>\n",
              "      <th>2018</th>\n",
              "      <td>48182.793845</td>\n",
              "      <td>39823.953607</td>\n",
              "      <td>1.164578e+05</td>\n",
              "    </tr>\n",
              "    <tr>\n",
              "      <th>Dota 2</th>\n",
              "      <th>2017</th>\n",
              "      <td>40528.816642</td>\n",
              "      <td>37140.209847</td>\n",
              "      <td>7.284370e+04</td>\n",
              "    </tr>\n",
              "    <tr>\n",
              "      <th>GTAV</th>\n",
              "      <th>2015</th>\n",
              "      <td>53845.873259</td>\n",
              "      <td>35102.202097</td>\n",
              "      <td>1.043896e+05</td>\n",
              "    </tr>\n",
              "    <tr>\n",
              "      <th>Stardew Valley</th>\n",
              "      <th>2021</th>\n",
              "      <td>13337.349112</td>\n",
              "      <td>32815.206440</td>\n",
              "      <td>2.458610e+04</td>\n",
              "    </tr>\n",
              "    <tr>\n",
              "      <th>Terraria</th>\n",
              "      <th>2020</th>\n",
              "      <td>30913.280171</td>\n",
              "      <td>31627.892873</td>\n",
              "      <td>1.279457e+05</td>\n",
              "    </tr>\n",
              "    <tr>\n",
              "      <th>Monster Hunter: World</th>\n",
              "      <th>2020</th>\n",
              "      <td>31272.111455</td>\n",
              "      <td>30681.263708</td>\n",
              "      <td>7.778671e+04</td>\n",
              "    </tr>\n",
              "    <tr>\n",
              "      <th>Apex Legends</th>\n",
              "      <th>2021</th>\n",
              "      <td>34800.896632</td>\n",
              "      <td>29641.145521</td>\n",
              "      <td>4.728494e+04</td>\n",
              "    </tr>\n",
              "    <tr>\n",
              "      <th>Destiny 2</th>\n",
              "      <th>2019</th>\n",
              "      <td>38486.825884</td>\n",
              "      <td>29626.154938</td>\n",
              "      <td>7.772703e+04</td>\n",
              "    </tr>\n",
              "    <tr>\n",
              "      <th rowspan=\"4\" valign=\"top\">Dota 2</th>\n",
              "      <th>2018</th>\n",
              "      <td>20295.992736</td>\n",
              "      <td>29305.756580</td>\n",
              "      <td>4.397522e+04</td>\n",
              "    </tr>\n",
              "    <tr>\n",
              "      <th>2014</th>\n",
              "      <td>50422.020912</td>\n",
              "      <td>28007.151517</td>\n",
              "      <td>9.332875e+04</td>\n",
              "    </tr>\n",
              "    <tr>\n",
              "      <th>2021</th>\n",
              "      <td>19685.513377</td>\n",
              "      <td>26840.960241</td>\n",
              "      <td>3.040418e+04</td>\n",
              "    </tr>\n",
              "    <tr>\n",
              "      <th>2013</th>\n",
              "      <td>81247.723556</td>\n",
              "      <td>26317.900629</td>\n",
              "      <td>1.616368e+05</td>\n",
              "    </tr>\n",
              "    <tr>\n",
              "      <th>Destiny 2</th>\n",
              "      <th>2021</th>\n",
              "      <td>10273.646348</td>\n",
              "      <td>25925.985279</td>\n",
              "      <td>3.701704e+04</td>\n",
              "    </tr>\n",
              "    <tr>\n",
              "      <th>Fall Guys: Ultimate Knockout</th>\n",
              "      <th>2020</th>\n",
              "      <td>47714.811079</td>\n",
              "      <td>25836.042564</td>\n",
              "      <td>6.840270e+04</td>\n",
              "    </tr>\n",
              "    <tr>\n",
              "      <th>Path of Exile</th>\n",
              "      <th>2021</th>\n",
              "      <td>541.438733</td>\n",
              "      <td>25281.676651</td>\n",
              "      <td>4.705937e+04</td>\n",
              "    </tr>\n",
              "    <tr>\n",
              "      <th>PUBG</th>\n",
              "      <th>2019</th>\n",
              "      <td>62190.594389</td>\n",
              "      <td>25051.489332</td>\n",
              "      <td>1.352002e+05</td>\n",
              "    </tr>\n",
              "    <tr>\n",
              "      <th>Dota 2</th>\n",
              "      <th>2020</th>\n",
              "      <td>33415.349572</td>\n",
              "      <td>25020.268222</td>\n",
              "      <td>5.359677e+04</td>\n",
              "    </tr>\n",
              "    <tr>\n",
              "      <th>PAYDAY 2</th>\n",
              "      <th>2017</th>\n",
              "      <td>22439.851531</td>\n",
              "      <td>23738.976496</td>\n",
              "      <td>6.328811e+04</td>\n",
              "    </tr>\n",
              "  </tbody>\n",
              "</table>\n",
              "</div>"
            ],
            "text/plain": [
              "                                             avg           gain          peak\n",
              "gamename                     year                                            \n",
              "Cyberpunk 2077               2021   40617.500446  136335.250297  1.262575e+05\n",
              "PUBG                         2017  548403.634878  135135.016261  1.199129e+06\n",
              "                             2018  398524.851815  104631.895775  8.369360e+05\n",
              "Fallout 4                    2015   93452.264578   93452.264578  1.911451e+05\n",
              "CSGO                         2020   95196.016433   82725.481080  1.486966e+05\n",
              "Rust                         2021   17235.713649   74472.896317  1.422557e+04\n",
              "Dota 2                       2015   34987.576211   51069.934554  1.237305e+05\n",
              "Mount & Blade II: Bannerlord 2020   33867.085308   49842.229791  7.619769e+04\n",
              "Total War: THREE KINGDOMS    2019   33854.155077   45409.084255  6.590326e+04\n",
              "Dota 2                       2019   69422.645434   44583.331023  1.200214e+05\n",
              "Monster Hunter: World        2018   65430.598807   43911.838786  9.822744e+04\n",
              "Dota 2                       2016   34834.901637   42543.987326  8.597648e+04\n",
              "CSGO                         2018   48182.793845   39823.953607  1.164578e+05\n",
              "Dota 2                       2017   40528.816642   37140.209847  7.284370e+04\n",
              "GTAV                         2015   53845.873259   35102.202097  1.043896e+05\n",
              "Stardew Valley               2021   13337.349112   32815.206440  2.458610e+04\n",
              "Terraria                     2020   30913.280171   31627.892873  1.279457e+05\n",
              "Monster Hunter: World        2020   31272.111455   30681.263708  7.778671e+04\n",
              "Apex Legends                 2021   34800.896632   29641.145521  4.728494e+04\n",
              "Destiny 2                    2019   38486.825884   29626.154938  7.772703e+04\n",
              "Dota 2                       2018   20295.992736   29305.756580  4.397522e+04\n",
              "                             2014   50422.020912   28007.151517  9.332875e+04\n",
              "                             2021   19685.513377   26840.960241  3.040418e+04\n",
              "                             2013   81247.723556   26317.900629  1.616368e+05\n",
              "Destiny 2                    2021   10273.646348   25925.985279  3.701704e+04\n",
              "Fall Guys: Ultimate Knockout 2020   47714.811079   25836.042564  6.840270e+04\n",
              "Path of Exile                2021     541.438733   25281.676651  4.705937e+04\n",
              "PUBG                         2019   62190.594389   25051.489332  1.352002e+05\n",
              "Dota 2                       2020   33415.349572   25020.268222  5.359677e+04\n",
              "PAYDAY 2                     2017   22439.851531   23738.976496  6.328811e+04"
            ]
          },
          "metadata": {
            "tags": []
          },
          "execution_count": 81
        }
      ]
    },
    {
      "cell_type": "markdown",
      "metadata": {
        "id": "zkgyCVmLZZxn"
      },
      "source": [
        "Existe grande dispersão de valores de ganho de jogadores"
      ]
    },
    {
      "cell_type": "markdown",
      "metadata": {
        "id": "Gi9RDBr9DDM4"
      },
      "source": [
        "# **Separando dados para melhor analise**\n",
        "Nessa parte do projeto, separamos os 5 jogos mais populares do dataset para gerarmos alguns dados baseado nisso. Foi também feita algumas mudanças nos nomes dos jogos, para o uso popular, como \"Counter strike Global Offensive\" para \"CSGO\" ..."
      ]
    },
    {
      "cell_type": "code",
      "metadata": {
        "id": "TuQZbdB04Q2k",
        "colab": {
          "base_uri": "https://localhost:8080/",
          "height": 359
        },
        "outputId": "71f074f4-c10c-4ee1-d0da-c16cb9fa1499"
      },
      "source": [
        "game_csgo = steam_games_clean.where(steam_games_clean['gamename'] == 'CSGO')\n",
        "game_csgo = game_csgo.sort_values(by='month',ascending=False)\n",
        "game_csgo = game_csgo.dropna()\n",
        "game_csgo = game_csgo.reset_index()\n",
        "game_csgo.drop('index', axis=1, inplace=True)\n",
        "game_csgo.sort_values(by='year',ascending=False)"
      ],
      "execution_count": null,
      "outputs": [
        {
          "output_type": "execute_result",
          "data": {
            "text/html": [
              "<div>\n",
              "<style scoped>\n",
              "    .dataframe tbody tr th:only-of-type {\n",
              "        vertical-align: middle;\n",
              "    }\n",
              "\n",
              "    .dataframe tbody tr th {\n",
              "        vertical-align: top;\n",
              "    }\n",
              "\n",
              "    .dataframe thead th {\n",
              "        text-align: right;\n",
              "    }\n",
              "</style>\n",
              "<table border=\"1\" class=\"dataframe\">\n",
              "  <thead>\n",
              "    <tr style=\"text-align: right;\">\n",
              "      <th></th>\n",
              "      <th>gamename</th>\n",
              "      <th>year</th>\n",
              "      <th>month</th>\n",
              "      <th>avg</th>\n",
              "      <th>gain</th>\n",
              "      <th>peak</th>\n",
              "    </tr>\n",
              "  </thead>\n",
              "  <tbody>\n",
              "    <tr>\n",
              "      <th>88</th>\n",
              "      <td>CSGO</td>\n",
              "      <td>2021.0</td>\n",
              "      <td>02 (February)</td>\n",
              "      <td>741013.24</td>\n",
              "      <td>-2196.42</td>\n",
              "      <td>1123485.0</td>\n",
              "    </tr>\n",
              "    <tr>\n",
              "      <th>101</th>\n",
              "      <td>CSGO</td>\n",
              "      <td>2021.0</td>\n",
              "      <td>01 (January)</td>\n",
              "      <td>743209.66</td>\n",
              "      <td>25405.91</td>\n",
              "      <td>1124553.0</td>\n",
              "    </tr>\n",
              "    <tr>\n",
              "      <th>52</th>\n",
              "      <td>CSGO</td>\n",
              "      <td>2020.0</td>\n",
              "      <td>07 (July)</td>\n",
              "      <td>625900.81</td>\n",
              "      <td>-45746.65</td>\n",
              "      <td>857560.0</td>\n",
              "    </tr>\n",
              "    <tr>\n",
              "      <th>34</th>\n",
              "      <td>CSGO</td>\n",
              "      <td>2020.0</td>\n",
              "      <td>09 (September)</td>\n",
              "      <td>606850.32</td>\n",
              "      <td>-33107.34</td>\n",
              "      <td>977769.0</td>\n",
              "    </tr>\n",
              "    <tr>\n",
              "      <th>78</th>\n",
              "      <td>CSGO</td>\n",
              "      <td>2020.0</td>\n",
              "      <td>03 (March)</td>\n",
              "      <td>671033.29</td>\n",
              "      <td>127054.13</td>\n",
              "      <td>1145972.0</td>\n",
              "    </tr>\n",
              "    <tr>\n",
              "      <th>15</th>\n",
              "      <td>CSGO</td>\n",
              "      <td>2020.0</td>\n",
              "      <td>11 (November)</td>\n",
              "      <td>668754.58</td>\n",
              "      <td>55087.89</td>\n",
              "      <td>1037464.0</td>\n",
              "    </tr>\n",
              "    <tr>\n",
              "      <th>68</th>\n",
              "      <td>CSGO</td>\n",
              "      <td>2020.0</td>\n",
              "      <td>05 (May)</td>\n",
              "      <td>768795.25</td>\n",
              "      <td>-88808.97</td>\n",
              "      <td>1193359.0</td>\n",
              "    </tr>\n",
              "    <tr>\n",
              "      <th>86</th>\n",
              "      <td>CSGO</td>\n",
              "      <td>2020.0</td>\n",
              "      <td>02 (February)</td>\n",
              "      <td>543979.15</td>\n",
              "      <td>42783.15</td>\n",
              "      <td>916996.0</td>\n",
              "    </tr>\n",
              "    <tr>\n",
              "      <th>24</th>\n",
              "      <td>CSGO</td>\n",
              "      <td>2020.0</td>\n",
              "      <td>10 (October)</td>\n",
              "      <td>613666.69</td>\n",
              "      <td>6816.37</td>\n",
              "      <td>943876.0</td>\n",
              "    </tr>\n",
              "    <tr>\n",
              "      <th>61</th>\n",
              "      <td>CSGO</td>\n",
              "      <td>2020.0</td>\n",
              "      <td>06 (June)</td>\n",
              "      <td>671647.46</td>\n",
              "      <td>-97147.79</td>\n",
              "      <td>1009467.0</td>\n",
              "    </tr>\n",
              "  </tbody>\n",
              "</table>\n",
              "</div>"
            ],
            "text/plain": [
              "    gamename    year            month        avg       gain       peak\n",
              "88      CSGO  2021.0   02 (February)   741013.24   -2196.42  1123485.0\n",
              "101     CSGO  2021.0    01 (January)   743209.66   25405.91  1124553.0\n",
              "52      CSGO  2020.0       07 (July)   625900.81  -45746.65   857560.0\n",
              "34      CSGO  2020.0  09 (September)   606850.32  -33107.34   977769.0\n",
              "78      CSGO  2020.0      03 (March)   671033.29  127054.13  1145972.0\n",
              "15      CSGO  2020.0   11 (November)   668754.58   55087.89  1037464.0\n",
              "68      CSGO  2020.0        05 (May)   768795.25  -88808.97  1193359.0\n",
              "86      CSGO  2020.0   02 (February)   543979.15   42783.15   916996.0\n",
              "24      CSGO  2020.0    10 (October)   613666.69    6816.37   943876.0\n",
              "61      CSGO  2020.0       06 (June)   671647.46  -97147.79  1009467.0"
            ]
          },
          "metadata": {
            "tags": []
          },
          "execution_count": 85
        }
      ]
    },
    {
      "cell_type": "code",
      "metadata": {
        "colab": {
          "base_uri": "https://localhost:8080/",
          "height": 452
        },
        "id": "8XvJagB8rRMy",
        "outputId": "24df7bf9-f6ef-4b93-d258-0c0c3eec51c8"
      },
      "source": [
        "game_csgo.groupby('month').mean().sort_values(by='gain')"
      ],
      "execution_count": null,
      "outputs": [
        {
          "output_type": "execute_result",
          "data": {
            "text/html": [
              "<div>\n",
              "<style scoped>\n",
              "    .dataframe tbody tr th:only-of-type {\n",
              "        vertical-align: middle;\n",
              "    }\n",
              "\n",
              "    .dataframe tbody tr th {\n",
              "        vertical-align: top;\n",
              "    }\n",
              "\n",
              "    .dataframe thead th {\n",
              "        text-align: right;\n",
              "    }\n",
              "</style>\n",
              "<table border=\"1\" class=\"dataframe\">\n",
              "  <thead>\n",
              "    <tr style=\"text-align: right;\">\n",
              "      <th></th>\n",
              "      <th>year</th>\n",
              "      <th>avg</th>\n",
              "      <th>gain</th>\n",
              "      <th>peak</th>\n",
              "    </tr>\n",
              "    <tr>\n",
              "      <th>month</th>\n",
              "      <th></th>\n",
              "      <th></th>\n",
              "      <th></th>\n",
              "      <th></th>\n",
              "    </tr>\n",
              "  </thead>\n",
              "  <tbody>\n",
              "    <tr>\n",
              "      <th>05 (May)</th>\n",
              "      <td>2016.5</td>\n",
              "      <td>315859.102500</td>\n",
              "      <td>-15803.542500</td>\n",
              "      <td>562386.000000</td>\n",
              "    </tr>\n",
              "    <tr>\n",
              "      <th>06 (June)</th>\n",
              "      <td>2016.5</td>\n",
              "      <td>310378.123750</td>\n",
              "      <td>-5480.978750</td>\n",
              "      <td>502427.250000</td>\n",
              "    </tr>\n",
              "    <tr>\n",
              "      <th>09 (September)</th>\n",
              "      <td>2016.0</td>\n",
              "      <td>284276.395556</td>\n",
              "      <td>-3767.991111</td>\n",
              "      <td>515680.333333</td>\n",
              "    </tr>\n",
              "    <tr>\n",
              "      <th>07 (July)</th>\n",
              "      <td>2016.0</td>\n",
              "      <td>275716.996667</td>\n",
              "      <td>-278.288889</td>\n",
              "      <td>433547.444444</td>\n",
              "    </tr>\n",
              "    <tr>\n",
              "      <th>10 (October)</th>\n",
              "      <td>2016.0</td>\n",
              "      <td>284272.550000</td>\n",
              "      <td>-3.845556</td>\n",
              "      <td>514061.444444</td>\n",
              "    </tr>\n",
              "    <tr>\n",
              "      <th>02 (February)</th>\n",
              "      <td>2017.0</td>\n",
              "      <td>348286.435556</td>\n",
              "      <td>4714.664444</td>\n",
              "      <td>608342.777778</td>\n",
              "    </tr>\n",
              "    <tr>\n",
              "      <th>11 (November)</th>\n",
              "      <td>2016.0</td>\n",
              "      <td>289708.561111</td>\n",
              "      <td>5436.011111</td>\n",
              "      <td>538716.555556</td>\n",
              "    </tr>\n",
              "    <tr>\n",
              "      <th>08 (August)</th>\n",
              "      <td>2016.0</td>\n",
              "      <td>288044.386667</td>\n",
              "      <td>12327.391111</td>\n",
              "      <td>491324.555556</td>\n",
              "    </tr>\n",
              "    <tr>\n",
              "      <th>04 (April)</th>\n",
              "      <td>2016.5</td>\n",
              "      <td>331662.646250</td>\n",
              "      <td>14665.273750</td>\n",
              "      <td>594245.500000</td>\n",
              "    </tr>\n",
              "    <tr>\n",
              "      <th>03 (March)</th>\n",
              "      <td>2016.5</td>\n",
              "      <td>316997.372500</td>\n",
              "      <td>17801.786250</td>\n",
              "      <td>596325.000000</td>\n",
              "    </tr>\n",
              "    <tr>\n",
              "      <th>01 (January)</th>\n",
              "      <td>2017.0</td>\n",
              "      <td>343571.770000</td>\n",
              "      <td>24128.278889</td>\n",
              "      <td>600091.333333</td>\n",
              "    </tr>\n",
              "    <tr>\n",
              "      <th>12 (December)</th>\n",
              "      <td>2016.0</td>\n",
              "      <td>319443.491111</td>\n",
              "      <td>29734.931111</td>\n",
              "      <td>583783.111111</td>\n",
              "    </tr>\n",
              "  </tbody>\n",
              "</table>\n",
              "</div>"
            ],
            "text/plain": [
              "                   year            avg          gain           peak\n",
              "month                                                              \n",
              "05 (May)         2016.5  315859.102500 -15803.542500  562386.000000\n",
              "06 (June)        2016.5  310378.123750  -5480.978750  502427.250000\n",
              "09 (September)   2016.0  284276.395556  -3767.991111  515680.333333\n",
              "07 (July)        2016.0  275716.996667   -278.288889  433547.444444\n",
              "10 (October)     2016.0  284272.550000     -3.845556  514061.444444\n",
              "02 (February)    2017.0  348286.435556   4714.664444  608342.777778\n",
              "11 (November)    2016.0  289708.561111   5436.011111  538716.555556\n",
              "08 (August)      2016.0  288044.386667  12327.391111  491324.555556\n",
              "04 (April)       2016.5  331662.646250  14665.273750  594245.500000\n",
              "03 (March)       2016.5  316997.372500  17801.786250  596325.000000\n",
              "01 (January)     2017.0  343571.770000  24128.278889  600091.333333\n",
              "12 (December)    2016.0  319443.491111  29734.931111  583783.111111"
            ]
          },
          "metadata": {
            "tags": []
          },
          "execution_count": 88
        }
      ]
    },
    {
      "cell_type": "markdown",
      "metadata": {
        "id": "45dcviQdZcbZ"
      },
      "source": [
        "Notamos que CSGO geralmente ganha jogadores entre o fim e o começo do ano, mas no meio do ano tende a perder jogadores."
      ]
    },
    {
      "cell_type": "code",
      "metadata": {
        "id": "tZfkh-5Zlt-Y",
        "colab": {
          "base_uri": "https://localhost:8080/",
          "height": 1000
        },
        "outputId": "5beaa902-b3b4-4bb9-fee1-b86a817b9811"
      },
      "source": [
        "game_pubg = steam_games_clean.where(steam_games_clean['gamename'] == 'PUBG')\n",
        "game_pubg = game_pubg.sort_values(by='month',ascending=False)\n",
        "game_pubg = game_pubg.dropna()\n",
        "game_pubg = game_pubg.reset_index()\n",
        "game_pubg.drop('index', axis=1, inplace=True)\n",
        "game_pubg.sort_values(by='year',ascending=False)"
      ],
      "execution_count": null,
      "outputs": [
        {
          "output_type": "execute_result",
          "data": {
            "text/html": [
              "<div>\n",
              "<style scoped>\n",
              "    .dataframe tbody tr th:only-of-type {\n",
              "        vertical-align: middle;\n",
              "    }\n",
              "\n",
              "    .dataframe tbody tr th {\n",
              "        vertical-align: top;\n",
              "    }\n",
              "\n",
              "    .dataframe thead th {\n",
              "        text-align: right;\n",
              "    }\n",
              "</style>\n",
              "<table border=\"1\" class=\"dataframe\">\n",
              "  <thead>\n",
              "    <tr style=\"text-align: right;\">\n",
              "      <th></th>\n",
              "      <th>gamename</th>\n",
              "      <th>year</th>\n",
              "      <th>month</th>\n",
              "      <th>avg</th>\n",
              "      <th>gain</th>\n",
              "      <th>peak</th>\n",
              "    </tr>\n",
              "  </thead>\n",
              "  <tbody>\n",
              "    <tr>\n",
              "      <th>45</th>\n",
              "      <td>PUBG</td>\n",
              "      <td>2021.0</td>\n",
              "      <td>01 (January)</td>\n",
              "      <td>201247.19</td>\n",
              "      <td>12013.61</td>\n",
              "      <td>451998.0</td>\n",
              "    </tr>\n",
              "    <tr>\n",
              "      <th>43</th>\n",
              "      <td>PUBG</td>\n",
              "      <td>2021.0</td>\n",
              "      <td>02 (February)</td>\n",
              "      <td>198957.52</td>\n",
              "      <td>-2289.67</td>\n",
              "      <td>447390.0</td>\n",
              "    </tr>\n",
              "    <tr>\n",
              "      <th>47</th>\n",
              "      <td>PUBG</td>\n",
              "      <td>2020.0</td>\n",
              "      <td>01 (January)</td>\n",
              "      <td>275363.04</td>\n",
              "      <td>-33082.41</td>\n",
              "      <td>645414.0</td>\n",
              "    </tr>\n",
              "    <tr>\n",
              "      <th>11</th>\n",
              "      <td>PUBG</td>\n",
              "      <td>2020.0</td>\n",
              "      <td>10 (October)</td>\n",
              "      <td>162585.64</td>\n",
              "      <td>-6508.07</td>\n",
              "      <td>381079.0</td>\n",
              "    </tr>\n",
              "    <tr>\n",
              "      <th>27</th>\n",
              "      <td>PUBG</td>\n",
              "      <td>2020.0</td>\n",
              "      <td>06 (June)</td>\n",
              "      <td>230329.74</td>\n",
              "      <td>-12929.04</td>\n",
              "      <td>546359.0</td>\n",
              "    </tr>\n",
              "    <tr>\n",
              "      <th>33</th>\n",
              "      <td>PUBG</td>\n",
              "      <td>2020.0</td>\n",
              "      <td>04 (April)</td>\n",
              "      <td>242847.28</td>\n",
              "      <td>14380.11</td>\n",
              "      <td>913075.0</td>\n",
              "    </tr>\n",
              "    <tr>\n",
              "      <th>21</th>\n",
              "      <td>PUBG</td>\n",
              "      <td>2020.0</td>\n",
              "      <td>07 (July)</td>\n",
              "      <td>211700.30</td>\n",
              "      <td>-18629.44</td>\n",
              "      <td>469568.0</td>\n",
              "    </tr>\n",
              "    <tr>\n",
              "      <th>17</th>\n",
              "      <td>PUBG</td>\n",
              "      <td>2020.0</td>\n",
              "      <td>08 (August)</td>\n",
              "      <td>192492.61</td>\n",
              "      <td>-19207.70</td>\n",
              "      <td>443390.0</td>\n",
              "    </tr>\n",
              "    <tr>\n",
              "      <th>39</th>\n",
              "      <td>PUBG</td>\n",
              "      <td>2020.0</td>\n",
              "      <td>03 (March)</td>\n",
              "      <td>228467.17</td>\n",
              "      <td>-29117.16</td>\n",
              "      <td>562028.0</td>\n",
              "    </tr>\n",
              "    <tr>\n",
              "      <th>12</th>\n",
              "      <td>PUBG</td>\n",
              "      <td>2020.0</td>\n",
              "      <td>09 (September)</td>\n",
              "      <td>169093.71</td>\n",
              "      <td>-23398.90</td>\n",
              "      <td>403693.0</td>\n",
              "    </tr>\n",
              "    <tr>\n",
              "      <th>31</th>\n",
              "      <td>PUBG</td>\n",
              "      <td>2020.0</td>\n",
              "      <td>05 (May)</td>\n",
              "      <td>243258.78</td>\n",
              "      <td>411.51</td>\n",
              "      <td>553121.0</td>\n",
              "    </tr>\n",
              "    <tr>\n",
              "      <th>42</th>\n",
              "      <td>PUBG</td>\n",
              "      <td>2020.0</td>\n",
              "      <td>02 (February)</td>\n",
              "      <td>257584.32</td>\n",
              "      <td>-17778.72</td>\n",
              "      <td>606689.0</td>\n",
              "    </tr>\n",
              "    <tr>\n",
              "      <th>5</th>\n",
              "      <td>PUBG</td>\n",
              "      <td>2020.0</td>\n",
              "      <td>11 (November)</td>\n",
              "      <td>179520.26</td>\n",
              "      <td>16934.62</td>\n",
              "      <td>438919.0</td>\n",
              "    </tr>\n",
              "    <tr>\n",
              "      <th>2</th>\n",
              "      <td>PUBG</td>\n",
              "      <td>2020.0</td>\n",
              "      <td>12 (December)</td>\n",
              "      <td>189233.58</td>\n",
              "      <td>9713.32</td>\n",
              "      <td>444680.0</td>\n",
              "    </tr>\n",
              "    <tr>\n",
              "      <th>46</th>\n",
              "      <td>PUBG</td>\n",
              "      <td>2019.0</td>\n",
              "      <td>01 (January)</td>\n",
              "      <td>497803.25</td>\n",
              "      <td>24261.99</td>\n",
              "      <td>1084606.0</td>\n",
              "    </tr>\n",
              "    <tr>\n",
              "      <th>41</th>\n",
              "      <td>PUBG</td>\n",
              "      <td>2019.0</td>\n",
              "      <td>02 (February)</td>\n",
              "      <td>437959.10</td>\n",
              "      <td>-59844.15</td>\n",
              "      <td>931754.0</td>\n",
              "    </tr>\n",
              "    <tr>\n",
              "      <th>14</th>\n",
              "      <td>PUBG</td>\n",
              "      <td>2019.0</td>\n",
              "      <td>09 (September)</td>\n",
              "      <td>311444.31</td>\n",
              "      <td>-47086.65</td>\n",
              "      <td>660864.0</td>\n",
              "    </tr>\n",
              "    <tr>\n",
              "      <th>30</th>\n",
              "      <td>PUBG</td>\n",
              "      <td>2019.0</td>\n",
              "      <td>05 (May)</td>\n",
              "      <td>385840.59</td>\n",
              "      <td>-4260.30</td>\n",
              "      <td>817595.0</td>\n",
              "    </tr>\n",
              "    <tr>\n",
              "      <th>32</th>\n",
              "      <td>PUBG</td>\n",
              "      <td>2019.0</td>\n",
              "      <td>04 (April)</td>\n",
              "      <td>390100.90</td>\n",
              "      <td>-27711.61</td>\n",
              "      <td>886255.0</td>\n",
              "    </tr>\n",
              "    <tr>\n",
              "      <th>38</th>\n",
              "      <td>PUBG</td>\n",
              "      <td>2019.0</td>\n",
              "      <td>03 (March)</td>\n",
              "      <td>417812.51</td>\n",
              "      <td>-20146.59</td>\n",
              "      <td>931407.0</td>\n",
              "    </tr>\n",
              "    <tr>\n",
              "      <th>19</th>\n",
              "      <td>PUBG</td>\n",
              "      <td>2019.0</td>\n",
              "      <td>08 (August)</td>\n",
              "      <td>358530.96</td>\n",
              "      <td>5642.08</td>\n",
              "      <td>750941.0</td>\n",
              "    </tr>\n",
              "    <tr>\n",
              "      <th>8</th>\n",
              "      <td>PUBG</td>\n",
              "      <td>2019.0</td>\n",
              "      <td>10 (October)</td>\n",
              "      <td>287133.41</td>\n",
              "      <td>-24310.90</td>\n",
              "      <td>637870.0</td>\n",
              "    </tr>\n",
              "    <tr>\n",
              "      <th>4</th>\n",
              "      <td>PUBG</td>\n",
              "      <td>2019.0</td>\n",
              "      <td>11 (November)</td>\n",
              "      <td>305659.39</td>\n",
              "      <td>18525.98</td>\n",
              "      <td>695920.0</td>\n",
              "    </tr>\n",
              "    <tr>\n",
              "      <th>23</th>\n",
              "      <td>PUBG</td>\n",
              "      <td>2019.0</td>\n",
              "      <td>07 (July)</td>\n",
              "      <td>352888.88</td>\n",
              "      <td>-10194.48</td>\n",
              "      <td>745224.0</td>\n",
              "    </tr>\n",
              "    <tr>\n",
              "      <th>1</th>\n",
              "      <td>PUBG</td>\n",
              "      <td>2019.0</td>\n",
              "      <td>12 (December)</td>\n",
              "      <td>308445.45</td>\n",
              "      <td>2786.06</td>\n",
              "      <td>686239.0</td>\n",
              "    </tr>\n",
              "    <tr>\n",
              "      <th>25</th>\n",
              "      <td>PUBG</td>\n",
              "      <td>2019.0</td>\n",
              "      <td>06 (June)</td>\n",
              "      <td>363083.37</td>\n",
              "      <td>-22757.23</td>\n",
              "      <td>745960.0</td>\n",
              "    </tr>\n",
              "    <tr>\n",
              "      <th>37</th>\n",
              "      <td>PUBG</td>\n",
              "      <td>2018.0</td>\n",
              "      <td>03 (March)</td>\n",
              "      <td>1295408.59</td>\n",
              "      <td>-95606.71</td>\n",
              "      <td>2799269.0</td>\n",
              "    </tr>\n",
              "    <tr>\n",
              "      <th>35</th>\n",
              "      <td>PUBG</td>\n",
              "      <td>2018.0</td>\n",
              "      <td>04 (April)</td>\n",
              "      <td>1107181.80</td>\n",
              "      <td>-188226.79</td>\n",
              "      <td>2456361.0</td>\n",
              "    </tr>\n",
              "    <tr>\n",
              "      <th>44</th>\n",
              "      <td>PUBG</td>\n",
              "      <td>2018.0</td>\n",
              "      <td>01 (January)</td>\n",
              "      <td>1584886.77</td>\n",
              "      <td>148728.26</td>\n",
              "      <td>3236027.0</td>\n",
              "    </tr>\n",
              "    <tr>\n",
              "      <th>40</th>\n",
              "      <td>PUBG</td>\n",
              "      <td>2018.0</td>\n",
              "      <td>02 (February)</td>\n",
              "      <td>1391015.30</td>\n",
              "      <td>-193871.48</td>\n",
              "      <td>2934761.0</td>\n",
              "    </tr>\n",
              "    <tr>\n",
              "      <th>0</th>\n",
              "      <td>PUBG</td>\n",
              "      <td>2018.0</td>\n",
              "      <td>12 (December)</td>\n",
              "      <td>473541.26</td>\n",
              "      <td>55381.78</td>\n",
              "      <td>1109766.0</td>\n",
              "    </tr>\n",
              "    <tr>\n",
              "      <th>24</th>\n",
              "      <td>PUBG</td>\n",
              "      <td>2018.0</td>\n",
              "      <td>06 (June)</td>\n",
              "      <td>800668.23</td>\n",
              "      <td>-75512.41</td>\n",
              "      <td>1750216.0</td>\n",
              "    </tr>\n",
              "    <tr>\n",
              "      <th>10</th>\n",
              "      <td>PUBG</td>\n",
              "      <td>2018.0</td>\n",
              "      <td>10 (October)</td>\n",
              "      <td>469141.74</td>\n",
              "      <td>-73465.31</td>\n",
              "      <td>1048662.0</td>\n",
              "    </tr>\n",
              "    <tr>\n",
              "      <th>6</th>\n",
              "      <td>PUBG</td>\n",
              "      <td>2018.0</td>\n",
              "      <td>11 (November)</td>\n",
              "      <td>418159.48</td>\n",
              "      <td>-50982.25</td>\n",
              "      <td>895650.0</td>\n",
              "    </tr>\n",
              "    <tr>\n",
              "      <th>22</th>\n",
              "      <td>PUBG</td>\n",
              "      <td>2018.0</td>\n",
              "      <td>07 (July)</td>\n",
              "      <td>688620.42</td>\n",
              "      <td>-112047.81</td>\n",
              "      <td>1350463.0</td>\n",
              "    </tr>\n",
              "    <tr>\n",
              "      <th>18</th>\n",
              "      <td>PUBG</td>\n",
              "      <td>2018.0</td>\n",
              "      <td>08 (August)</td>\n",
              "      <td>619320.48</td>\n",
              "      <td>-69299.93</td>\n",
              "      <td>1260894.0</td>\n",
              "    </tr>\n",
              "    <tr>\n",
              "      <th>28</th>\n",
              "      <td>PUBG</td>\n",
              "      <td>2018.0</td>\n",
              "      <td>05 (May)</td>\n",
              "      <td>876180.64</td>\n",
              "      <td>-231001.16</td>\n",
              "      <td>2175704.0</td>\n",
              "    </tr>\n",
              "    <tr>\n",
              "      <th>15</th>\n",
              "      <td>PUBG</td>\n",
              "      <td>2018.0</td>\n",
              "      <td>09 (September)</td>\n",
              "      <td>542607.05</td>\n",
              "      <td>-76713.44</td>\n",
              "      <td>1125229.0</td>\n",
              "    </tr>\n",
              "    <tr>\n",
              "      <th>3</th>\n",
              "      <td>PUBG</td>\n",
              "      <td>2017.0</td>\n",
              "      <td>12 (December)</td>\n",
              "      <td>1436158.51</td>\n",
              "      <td>101988.42</td>\n",
              "      <td>3080769.0</td>\n",
              "    </tr>\n",
              "    <tr>\n",
              "      <th>7</th>\n",
              "      <td>PUBG</td>\n",
              "      <td>2017.0</td>\n",
              "      <td>11 (November)</td>\n",
              "      <td>1334170.09</td>\n",
              "      <td>247531.23</td>\n",
              "      <td>2915723.0</td>\n",
              "    </tr>\n",
              "    <tr>\n",
              "      <th>9</th>\n",
              "      <td>PUBG</td>\n",
              "      <td>2017.0</td>\n",
              "      <td>10 (October)</td>\n",
              "      <td>1086638.87</td>\n",
              "      <td>426446.12</td>\n",
              "      <td>2390946.0</td>\n",
              "    </tr>\n",
              "    <tr>\n",
              "      <th>29</th>\n",
              "      <td>PUBG</td>\n",
              "      <td>2017.0</td>\n",
              "      <td>05 (May)</td>\n",
              "      <td>107441.60</td>\n",
              "      <td>37646.63</td>\n",
              "      <td>189456.0</td>\n",
              "    </tr>\n",
              "    <tr>\n",
              "      <th>13</th>\n",
              "      <td>PUBG</td>\n",
              "      <td>2017.0</td>\n",
              "      <td>09 (September)</td>\n",
              "      <td>660192.74</td>\n",
              "      <td>270665.33</td>\n",
              "      <td>1550463.0</td>\n",
              "    </tr>\n",
              "    <tr>\n",
              "      <th>20</th>\n",
              "      <td>PUBG</td>\n",
              "      <td>2017.0</td>\n",
              "      <td>07 (July)</td>\n",
              "      <td>229701.70</td>\n",
              "      <td>89799.46</td>\n",
              "      <td>481291.0</td>\n",
              "    </tr>\n",
              "    <tr>\n",
              "      <th>36</th>\n",
              "      <td>PUBG</td>\n",
              "      <td>2017.0</td>\n",
              "      <td>03 (March)</td>\n",
              "      <td>17551.14</td>\n",
              "      <td>0.00</td>\n",
              "      <td>67846.0</td>\n",
              "    </tr>\n",
              "    <tr>\n",
              "      <th>34</th>\n",
              "      <td>PUBG</td>\n",
              "      <td>2017.0</td>\n",
              "      <td>04 (April)</td>\n",
              "      <td>69794.98</td>\n",
              "      <td>52243.84</td>\n",
              "      <td>140104.0</td>\n",
              "    </tr>\n",
              "    <tr>\n",
              "      <th>26</th>\n",
              "      <td>PUBG</td>\n",
              "      <td>2017.0</td>\n",
              "      <td>06 (June)</td>\n",
              "      <td>139902.24</td>\n",
              "      <td>32460.64</td>\n",
              "      <td>267194.0</td>\n",
              "    </tr>\n",
              "    <tr>\n",
              "      <th>16</th>\n",
              "      <td>PUBG</td>\n",
              "      <td>2017.0</td>\n",
              "      <td>08 (August)</td>\n",
              "      <td>389527.42</td>\n",
              "      <td>159825.72</td>\n",
              "      <td>874171.0</td>\n",
              "    </tr>\n",
              "  </tbody>\n",
              "</table>\n",
              "</div>"
            ],
            "text/plain": [
              "   gamename    year            month         avg       gain       peak\n",
              "45     PUBG  2021.0    01 (January)    201247.19   12013.61   451998.0\n",
              "43     PUBG  2021.0   02 (February)    198957.52   -2289.67   447390.0\n",
              "47     PUBG  2020.0    01 (January)    275363.04  -33082.41   645414.0\n",
              "11     PUBG  2020.0    10 (October)    162585.64   -6508.07   381079.0\n",
              "27     PUBG  2020.0       06 (June)    230329.74  -12929.04   546359.0\n",
              "33     PUBG  2020.0      04 (April)    242847.28   14380.11   913075.0\n",
              "21     PUBG  2020.0       07 (July)    211700.30  -18629.44   469568.0\n",
              "17     PUBG  2020.0     08 (August)    192492.61  -19207.70   443390.0\n",
              "39     PUBG  2020.0      03 (March)    228467.17  -29117.16   562028.0\n",
              "12     PUBG  2020.0  09 (September)    169093.71  -23398.90   403693.0\n",
              "31     PUBG  2020.0        05 (May)    243258.78     411.51   553121.0\n",
              "42     PUBG  2020.0   02 (February)    257584.32  -17778.72   606689.0\n",
              "5      PUBG  2020.0   11 (November)    179520.26   16934.62   438919.0\n",
              "2      PUBG  2020.0   12 (December)    189233.58    9713.32   444680.0\n",
              "46     PUBG  2019.0    01 (January)    497803.25   24261.99  1084606.0\n",
              "41     PUBG  2019.0   02 (February)    437959.10  -59844.15   931754.0\n",
              "14     PUBG  2019.0  09 (September)    311444.31  -47086.65   660864.0\n",
              "30     PUBG  2019.0        05 (May)    385840.59   -4260.30   817595.0\n",
              "32     PUBG  2019.0      04 (April)    390100.90  -27711.61   886255.0\n",
              "38     PUBG  2019.0      03 (March)    417812.51  -20146.59   931407.0\n",
              "19     PUBG  2019.0     08 (August)    358530.96    5642.08   750941.0\n",
              "8      PUBG  2019.0    10 (October)    287133.41  -24310.90   637870.0\n",
              "4      PUBG  2019.0   11 (November)    305659.39   18525.98   695920.0\n",
              "23     PUBG  2019.0       07 (July)    352888.88  -10194.48   745224.0\n",
              "1      PUBG  2019.0   12 (December)    308445.45    2786.06   686239.0\n",
              "25     PUBG  2019.0       06 (June)    363083.37  -22757.23   745960.0\n",
              "37     PUBG  2018.0      03 (March)   1295408.59  -95606.71  2799269.0\n",
              "35     PUBG  2018.0      04 (April)   1107181.80 -188226.79  2456361.0\n",
              "44     PUBG  2018.0    01 (January)   1584886.77  148728.26  3236027.0\n",
              "40     PUBG  2018.0   02 (February)   1391015.30 -193871.48  2934761.0\n",
              "0      PUBG  2018.0   12 (December)    473541.26   55381.78  1109766.0\n",
              "24     PUBG  2018.0       06 (June)    800668.23  -75512.41  1750216.0\n",
              "10     PUBG  2018.0    10 (October)    469141.74  -73465.31  1048662.0\n",
              "6      PUBG  2018.0   11 (November)    418159.48  -50982.25   895650.0\n",
              "22     PUBG  2018.0       07 (July)    688620.42 -112047.81  1350463.0\n",
              "18     PUBG  2018.0     08 (August)    619320.48  -69299.93  1260894.0\n",
              "28     PUBG  2018.0        05 (May)    876180.64 -231001.16  2175704.0\n",
              "15     PUBG  2018.0  09 (September)    542607.05  -76713.44  1125229.0\n",
              "3      PUBG  2017.0   12 (December)   1436158.51  101988.42  3080769.0\n",
              "7      PUBG  2017.0   11 (November)   1334170.09  247531.23  2915723.0\n",
              "9      PUBG  2017.0    10 (October)   1086638.87  426446.12  2390946.0\n",
              "29     PUBG  2017.0        05 (May)    107441.60   37646.63   189456.0\n",
              "13     PUBG  2017.0  09 (September)    660192.74  270665.33  1550463.0\n",
              "20     PUBG  2017.0       07 (July)    229701.70   89799.46   481291.0\n",
              "36     PUBG  2017.0      03 (March)     17551.14       0.00    67846.0\n",
              "34     PUBG  2017.0      04 (April)     69794.98   52243.84   140104.0\n",
              "26     PUBG  2017.0       06 (June)    139902.24   32460.64   267194.0\n",
              "16     PUBG  2017.0     08 (August)    389527.42  159825.72   874171.0"
            ]
          },
          "metadata": {
            "tags": []
          },
          "execution_count": 36
        }
      ]
    },
    {
      "cell_type": "code",
      "metadata": {
        "colab": {
          "base_uri": "https://localhost:8080/",
          "height": 452
        },
        "id": "8-qYEh9yr3ha",
        "outputId": "5b4de1a5-796c-4cd0-ee90-083214f92086"
      },
      "source": [
        "game_pubg.groupby('month').mean().sort_values(by='gain')"
      ],
      "execution_count": null,
      "outputs": [
        {
          "output_type": "execute_result",
          "data": {
            "text/html": [
              "<div>\n",
              "<style scoped>\n",
              "    .dataframe tbody tr th:only-of-type {\n",
              "        vertical-align: middle;\n",
              "    }\n",
              "\n",
              "    .dataframe tbody tr th {\n",
              "        vertical-align: top;\n",
              "    }\n",
              "\n",
              "    .dataframe thead th {\n",
              "        text-align: right;\n",
              "    }\n",
              "</style>\n",
              "<table border=\"1\" class=\"dataframe\">\n",
              "  <thead>\n",
              "    <tr style=\"text-align: right;\">\n",
              "      <th></th>\n",
              "      <th>year</th>\n",
              "      <th>avg</th>\n",
              "      <th>gain</th>\n",
              "      <th>peak</th>\n",
              "    </tr>\n",
              "    <tr>\n",
              "      <th>month</th>\n",
              "      <th></th>\n",
              "      <th></th>\n",
              "      <th></th>\n",
              "      <th></th>\n",
              "    </tr>\n",
              "  </thead>\n",
              "  <tbody>\n",
              "    <tr>\n",
              "      <th>02 (February)</th>\n",
              "      <td>2019.5</td>\n",
              "      <td>571379.0600</td>\n",
              "      <td>-68446.0050</td>\n",
              "      <td>1230148.50</td>\n",
              "    </tr>\n",
              "    <tr>\n",
              "      <th>05 (May)</th>\n",
              "      <td>2018.5</td>\n",
              "      <td>403180.4025</td>\n",
              "      <td>-49300.8300</td>\n",
              "      <td>933969.00</td>\n",
              "    </tr>\n",
              "    <tr>\n",
              "      <th>04 (April)</th>\n",
              "      <td>2018.5</td>\n",
              "      <td>452481.2400</td>\n",
              "      <td>-37328.6125</td>\n",
              "      <td>1098948.75</td>\n",
              "    </tr>\n",
              "    <tr>\n",
              "      <th>03 (March)</th>\n",
              "      <td>2018.5</td>\n",
              "      <td>489809.8525</td>\n",
              "      <td>-36217.6150</td>\n",
              "      <td>1090137.50</td>\n",
              "    </tr>\n",
              "    <tr>\n",
              "      <th>06 (June)</th>\n",
              "      <td>2018.5</td>\n",
              "      <td>383495.8950</td>\n",
              "      <td>-19684.5100</td>\n",
              "      <td>827432.25</td>\n",
              "    </tr>\n",
              "    <tr>\n",
              "      <th>07 (July)</th>\n",
              "      <td>2018.5</td>\n",
              "      <td>370727.8250</td>\n",
              "      <td>-12768.0675</td>\n",
              "      <td>761636.50</td>\n",
              "    </tr>\n",
              "    <tr>\n",
              "      <th>08 (August)</th>\n",
              "      <td>2018.5</td>\n",
              "      <td>389967.8675</td>\n",
              "      <td>19240.0425</td>\n",
              "      <td>832349.00</td>\n",
              "    </tr>\n",
              "    <tr>\n",
              "      <th>09 (September)</th>\n",
              "      <td>2018.5</td>\n",
              "      <td>420834.4525</td>\n",
              "      <td>30866.5850</td>\n",
              "      <td>935062.25</td>\n",
              "    </tr>\n",
              "    <tr>\n",
              "      <th>01 (January)</th>\n",
              "      <td>2019.5</td>\n",
              "      <td>639825.0625</td>\n",
              "      <td>37980.3625</td>\n",
              "      <td>1354511.25</td>\n",
              "    </tr>\n",
              "    <tr>\n",
              "      <th>12 (December)</th>\n",
              "      <td>2018.5</td>\n",
              "      <td>601844.7000</td>\n",
              "      <td>42467.3950</td>\n",
              "      <td>1330363.50</td>\n",
              "    </tr>\n",
              "    <tr>\n",
              "      <th>11 (November)</th>\n",
              "      <td>2018.5</td>\n",
              "      <td>559377.3050</td>\n",
              "      <td>58002.3950</td>\n",
              "      <td>1236553.00</td>\n",
              "    </tr>\n",
              "    <tr>\n",
              "      <th>10 (October)</th>\n",
              "      <td>2018.5</td>\n",
              "      <td>501374.9150</td>\n",
              "      <td>80540.4600</td>\n",
              "      <td>1114639.25</td>\n",
              "    </tr>\n",
              "  </tbody>\n",
              "</table>\n",
              "</div>"
            ],
            "text/plain": [
              "                   year          avg        gain        peak\n",
              "month                                                       \n",
              "02 (February)    2019.5  571379.0600 -68446.0050  1230148.50\n",
              "05 (May)         2018.5  403180.4025 -49300.8300   933969.00\n",
              "04 (April)       2018.5  452481.2400 -37328.6125  1098948.75\n",
              "03 (March)       2018.5  489809.8525 -36217.6150  1090137.50\n",
              "06 (June)        2018.5  383495.8950 -19684.5100   827432.25\n",
              "07 (July)        2018.5  370727.8250 -12768.0675   761636.50\n",
              "08 (August)      2018.5  389967.8675  19240.0425   832349.00\n",
              "09 (September)   2018.5  420834.4525  30866.5850   935062.25\n",
              "01 (January)     2019.5  639825.0625  37980.3625  1354511.25\n",
              "12 (December)    2018.5  601844.7000  42467.3950  1330363.50\n",
              "11 (November)    2018.5  559377.3050  58002.3950  1236553.00\n",
              "10 (October)     2018.5  501374.9150  80540.4600  1114639.25"
            ]
          },
          "metadata": {
            "tags": []
          },
          "execution_count": 89
        }
      ]
    },
    {
      "cell_type": "markdown",
      "metadata": {
        "id": "KbmmFMMxZdER"
      },
      "source": [
        "PUBG tende a ganhar mais jogadores apenas no fim do ano."
      ]
    },
    {
      "cell_type": "code",
      "metadata": {
        "id": "sHRsc83ww071",
        "colab": {
          "base_uri": "https://localhost:8080/",
          "height": 419
        },
        "outputId": "4ce939af-6ad4-4d50-be88-09c74c339164"
      },
      "source": [
        "game_dota2 = steam_games_clean.where(steam_games_clean['gamename'] == 'Dota 2')\n",
        "game_dota2 = game_dota2.sort_values(by='month',ascending=False)\n",
        "game_dota2 = game_dota2.dropna()\n",
        "game_dota2 = game_dota2.reset_index()\n",
        "game_dota2.drop('index', axis=1, inplace=True)\n",
        "game_dota2.sort_values(by='year',ascending=False)"
      ],
      "execution_count": null,
      "outputs": [
        {
          "output_type": "execute_result",
          "data": {
            "text/html": [
              "<div>\n",
              "<style scoped>\n",
              "    .dataframe tbody tr th:only-of-type {\n",
              "        vertical-align: middle;\n",
              "    }\n",
              "\n",
              "    .dataframe tbody tr th {\n",
              "        vertical-align: top;\n",
              "    }\n",
              "\n",
              "    .dataframe thead th {\n",
              "        text-align: right;\n",
              "    }\n",
              "</style>\n",
              "<table border=\"1\" class=\"dataframe\">\n",
              "  <thead>\n",
              "    <tr style=\"text-align: right;\">\n",
              "      <th></th>\n",
              "      <th>gamename</th>\n",
              "      <th>year</th>\n",
              "      <th>month</th>\n",
              "      <th>avg</th>\n",
              "      <th>gain</th>\n",
              "      <th>peak</th>\n",
              "    </tr>\n",
              "  </thead>\n",
              "  <tbody>\n",
              "    <tr>\n",
              "      <th>103</th>\n",
              "      <td>Dota 2</td>\n",
              "      <td>2021.0</td>\n",
              "      <td>01 (January)</td>\n",
              "      <td>432671.65</td>\n",
              "      <td>10119.33</td>\n",
              "      <td>694613.0</td>\n",
              "    </tr>\n",
              "    <tr>\n",
              "      <th>91</th>\n",
              "      <td>Dota 2</td>\n",
              "      <td>2021.0</td>\n",
              "      <td>02 (February)</td>\n",
              "      <td>404832.13</td>\n",
              "      <td>-27839.52</td>\n",
              "      <td>651615.0</td>\n",
              "    </tr>\n",
              "    <tr>\n",
              "      <th>16</th>\n",
              "      <td>Dota 2</td>\n",
              "      <td>2020.0</td>\n",
              "      <td>11 (November)</td>\n",
              "      <td>425904.83</td>\n",
              "      <td>19543.48</td>\n",
              "      <td>711824.0</td>\n",
              "    </tr>\n",
              "    <tr>\n",
              "      <th>102</th>\n",
              "      <td>Dota 2</td>\n",
              "      <td>2020.0</td>\n",
              "      <td>01 (January)</td>\n",
              "      <td>378925.43</td>\n",
              "      <td>-5254.32</td>\n",
              "      <td>616415.0</td>\n",
              "    </tr>\n",
              "    <tr>\n",
              "      <th>88</th>\n",
              "      <td>Dota 2</td>\n",
              "      <td>2020.0</td>\n",
              "      <td>02 (February)</td>\n",
              "      <td>405978.65</td>\n",
              "      <td>27053.22</td>\n",
              "      <td>663812.0</td>\n",
              "    </tr>\n",
              "    <tr>\n",
              "      <th>...</th>\n",
              "      <td>...</td>\n",
              "      <td>...</td>\n",
              "      <td>...</td>\n",
              "      <td>...</td>\n",
              "      <td>...</td>\n",
              "      <td>...</td>\n",
              "    </tr>\n",
              "    <tr>\n",
              "      <th>23</th>\n",
              "      <td>Dota 2</td>\n",
              "      <td>2012.0</td>\n",
              "      <td>10 (October)</td>\n",
              "      <td>75965.44</td>\n",
              "      <td>14097.77</td>\n",
              "      <td>171860.0</td>\n",
              "    </tr>\n",
              "    <tr>\n",
              "      <th>39</th>\n",
              "      <td>Dota 2</td>\n",
              "      <td>2012.0</td>\n",
              "      <td>08 (August)</td>\n",
              "      <td>55768.61</td>\n",
              "      <td>3047.56</td>\n",
              "      <td>108689.0</td>\n",
              "    </tr>\n",
              "    <tr>\n",
              "      <th>17</th>\n",
              "      <td>Dota 2</td>\n",
              "      <td>2012.0</td>\n",
              "      <td>11 (November)</td>\n",
              "      <td>101077.43</td>\n",
              "      <td>25111.99</td>\n",
              "      <td>169631.0</td>\n",
              "    </tr>\n",
              "    <tr>\n",
              "      <th>1</th>\n",
              "      <td>Dota 2</td>\n",
              "      <td>2012.0</td>\n",
              "      <td>12 (December)</td>\n",
              "      <td>121924.42</td>\n",
              "      <td>20846.99</td>\n",
              "      <td>213521.0</td>\n",
              "    </tr>\n",
              "    <tr>\n",
              "      <th>47</th>\n",
              "      <td>Dota 2</td>\n",
              "      <td>2012.0</td>\n",
              "      <td>07 (July)</td>\n",
              "      <td>52721.05</td>\n",
              "      <td>0.00</td>\n",
              "      <td>75041.0</td>\n",
              "    </tr>\n",
              "  </tbody>\n",
              "</table>\n",
              "<p>104 rows × 6 columns</p>\n",
              "</div>"
            ],
            "text/plain": [
              "    gamename    year           month        avg      gain      peak\n",
              "103   Dota 2  2021.0   01 (January)   432671.65  10119.33  694613.0\n",
              "91    Dota 2  2021.0  02 (February)   404832.13 -27839.52  651615.0\n",
              "16    Dota 2  2020.0  11 (November)   425904.83  19543.48  711824.0\n",
              "102   Dota 2  2020.0   01 (January)   378925.43  -5254.32  616415.0\n",
              "88    Dota 2  2020.0  02 (February)   405978.65  27053.22  663812.0\n",
              "..       ...     ...             ...        ...       ...       ...\n",
              "23    Dota 2  2012.0   10 (October)    75965.44  14097.77  171860.0\n",
              "39    Dota 2  2012.0    08 (August)    55768.61   3047.56  108689.0\n",
              "17    Dota 2  2012.0  11 (November)   101077.43  25111.99  169631.0\n",
              "1     Dota 2  2012.0  12 (December)   121924.42  20846.99  213521.0\n",
              "47    Dota 2  2012.0      07 (July)    52721.05      0.00   75041.0\n",
              "\n",
              "[104 rows x 6 columns]"
            ]
          },
          "metadata": {
            "tags": []
          },
          "execution_count": 37
        }
      ]
    },
    {
      "cell_type": "code",
      "metadata": {
        "colab": {
          "base_uri": "https://localhost:8080/",
          "height": 452
        },
        "id": "75KVDN6Jss9s",
        "outputId": "56cb99f9-6353-48a9-efcd-d70919a9a14d"
      },
      "source": [
        "game_dota2.groupby('month').mean().sort_values(by='gain')"
      ],
      "execution_count": null,
      "outputs": [
        {
          "output_type": "execute_result",
          "data": {
            "text/html": [
              "<div>\n",
              "<style scoped>\n",
              "    .dataframe tbody tr th:only-of-type {\n",
              "        vertical-align: middle;\n",
              "    }\n",
              "\n",
              "    .dataframe tbody tr th {\n",
              "        vertical-align: top;\n",
              "    }\n",
              "\n",
              "    .dataframe thead th {\n",
              "        text-align: right;\n",
              "    }\n",
              "</style>\n",
              "<table border=\"1\" class=\"dataframe\">\n",
              "  <thead>\n",
              "    <tr style=\"text-align: right;\">\n",
              "      <th></th>\n",
              "      <th>year</th>\n",
              "      <th>avg</th>\n",
              "      <th>gain</th>\n",
              "      <th>peak</th>\n",
              "    </tr>\n",
              "    <tr>\n",
              "      <th>month</th>\n",
              "      <th></th>\n",
              "      <th></th>\n",
              "      <th></th>\n",
              "      <th></th>\n",
              "    </tr>\n",
              "  </thead>\n",
              "  <tbody>\n",
              "    <tr>\n",
              "      <th>09 (September)</th>\n",
              "      <td>2016.0</td>\n",
              "      <td>419059.284444</td>\n",
              "      <td>-34250.978889</td>\n",
              "      <td>731452.111111</td>\n",
              "    </tr>\n",
              "    <tr>\n",
              "      <th>07 (July)</th>\n",
              "      <td>2016.0</td>\n",
              "      <td>430655.975556</td>\n",
              "      <td>-11489.154444</td>\n",
              "      <td>705749.333333</td>\n",
              "    </tr>\n",
              "    <tr>\n",
              "      <th>03 (March)</th>\n",
              "      <td>2016.5</td>\n",
              "      <td>480531.687500</td>\n",
              "      <td>-10410.703750</td>\n",
              "      <td>879631.250000</td>\n",
              "    </tr>\n",
              "    <tr>\n",
              "      <th>04 (April)</th>\n",
              "      <td>2016.5</td>\n",
              "      <td>470461.282500</td>\n",
              "      <td>-10070.402500</td>\n",
              "      <td>819447.625000</td>\n",
              "    </tr>\n",
              "    <tr>\n",
              "      <th>06 (June)</th>\n",
              "      <td>2016.5</td>\n",
              "      <td>490823.138750</td>\n",
              "      <td>-3609.696250</td>\n",
              "      <td>810996.500000</td>\n",
              "    </tr>\n",
              "    <tr>\n",
              "      <th>10 (October)</th>\n",
              "      <td>2016.0</td>\n",
              "      <td>417183.433333</td>\n",
              "      <td>-1875.852222</td>\n",
              "      <td>747558.222222</td>\n",
              "    </tr>\n",
              "    <tr>\n",
              "      <th>12 (December)</th>\n",
              "      <td>2016.0</td>\n",
              "      <td>437656.702222</td>\n",
              "      <td>6746.408889</td>\n",
              "      <td>762565.444444</td>\n",
              "    </tr>\n",
              "    <tr>\n",
              "      <th>11 (November)</th>\n",
              "      <td>2016.0</td>\n",
              "      <td>430910.290000</td>\n",
              "      <td>13726.858889</td>\n",
              "      <td>766078.333333</td>\n",
              "    </tr>\n",
              "    <tr>\n",
              "      <th>01 (January)</th>\n",
              "      <td>2017.0</td>\n",
              "      <td>451863.892222</td>\n",
              "      <td>14207.191111</td>\n",
              "      <td>770685.000000</td>\n",
              "    </tr>\n",
              "    <tr>\n",
              "      <th>08 (August)</th>\n",
              "      <td>2016.0</td>\n",
              "      <td>453310.265556</td>\n",
              "      <td>22654.287778</td>\n",
              "      <td>739278.333333</td>\n",
              "    </tr>\n",
              "    <tr>\n",
              "      <th>05 (May)</th>\n",
              "      <td>2016.5</td>\n",
              "      <td>494432.832500</td>\n",
              "      <td>23971.551250</td>\n",
              "      <td>852485.625000</td>\n",
              "    </tr>\n",
              "    <tr>\n",
              "      <th>02 (February)</th>\n",
              "      <td>2017.0</td>\n",
              "      <td>481374.584444</td>\n",
              "      <td>29510.688889</td>\n",
              "      <td>848231.333333</td>\n",
              "    </tr>\n",
              "  </tbody>\n",
              "</table>\n",
              "</div>"
            ],
            "text/plain": [
              "                   year            avg          gain           peak\n",
              "month                                                              \n",
              "09 (September)   2016.0  419059.284444 -34250.978889  731452.111111\n",
              "07 (July)        2016.0  430655.975556 -11489.154444  705749.333333\n",
              "03 (March)       2016.5  480531.687500 -10410.703750  879631.250000\n",
              "04 (April)       2016.5  470461.282500 -10070.402500  819447.625000\n",
              "06 (June)        2016.5  490823.138750  -3609.696250  810996.500000\n",
              "10 (October)     2016.0  417183.433333  -1875.852222  747558.222222\n",
              "12 (December)    2016.0  437656.702222   6746.408889  762565.444444\n",
              "11 (November)    2016.0  430910.290000  13726.858889  766078.333333\n",
              "01 (January)     2017.0  451863.892222  14207.191111  770685.000000\n",
              "08 (August)      2016.0  453310.265556  22654.287778  739278.333333\n",
              "05 (May)         2016.5  494432.832500  23971.551250  852485.625000\n",
              "02 (February)    2017.0  481374.584444  29510.688889  848231.333333"
            ]
          },
          "metadata": {
            "tags": []
          },
          "execution_count": 90
        }
      ]
    },
    {
      "cell_type": "markdown",
      "metadata": {
        "id": "jw8kNFjms3hi"
      },
      "source": [
        "Não conseguimos notar um padrão para crescimento do Dota 2, não está relacionado à época do ano."
      ]
    },
    {
      "cell_type": "code",
      "metadata": {
        "id": "0VXqLz7kw1ka",
        "colab": {
          "base_uri": "https://localhost:8080/",
          "height": 419
        },
        "outputId": "a9f5d9ee-a791-4532-d7e6-709ca9bfa383"
      },
      "source": [
        "game_gtav = steam_games_clean.where(steam_games_clean['gamename'] == 'GTAV')\n",
        "game_gtav = game_gtav.sort_values(by='month',ascending=False)\n",
        "game_gtav = game_gtav.dropna()\n",
        "game_gtav = game_gtav.reset_index()\n",
        "game_gtav.drop('index', axis=1, inplace=True)\n",
        "game_gtav.sort_values(by='year',ascending=False)"
      ],
      "execution_count": null,
      "outputs": [
        {
          "output_type": "execute_result",
          "data": {
            "text/html": [
              "<div>\n",
              "<style scoped>\n",
              "    .dataframe tbody tr th:only-of-type {\n",
              "        vertical-align: middle;\n",
              "    }\n",
              "\n",
              "    .dataframe tbody tr th {\n",
              "        vertical-align: top;\n",
              "    }\n",
              "\n",
              "    .dataframe thead th {\n",
              "        text-align: right;\n",
              "    }\n",
              "</style>\n",
              "<table border=\"1\" class=\"dataframe\">\n",
              "  <thead>\n",
              "    <tr style=\"text-align: right;\">\n",
              "      <th></th>\n",
              "      <th>gamename</th>\n",
              "      <th>year</th>\n",
              "      <th>month</th>\n",
              "      <th>avg</th>\n",
              "      <th>gain</th>\n",
              "      <th>peak</th>\n",
              "    </tr>\n",
              "  </thead>\n",
              "  <tbody>\n",
              "    <tr>\n",
              "      <th>70</th>\n",
              "      <td>GTAV</td>\n",
              "      <td>2021.0</td>\n",
              "      <td>01 (January)</td>\n",
              "      <td>101250.59</td>\n",
              "      <td>-5663.68</td>\n",
              "      <td>184941.0</td>\n",
              "    </tr>\n",
              "    <tr>\n",
              "      <th>62</th>\n",
              "      <td>GTAV</td>\n",
              "      <td>2021.0</td>\n",
              "      <td>02 (February)</td>\n",
              "      <td>90647.64</td>\n",
              "      <td>-10602.95</td>\n",
              "      <td>146438.0</td>\n",
              "    </tr>\n",
              "    <tr>\n",
              "      <th>17</th>\n",
              "      <td>GTAV</td>\n",
              "      <td>2020.0</td>\n",
              "      <td>10 (October)</td>\n",
              "      <td>67193.03</td>\n",
              "      <td>-854.00</td>\n",
              "      <td>128578.0</td>\n",
              "    </tr>\n",
              "    <tr>\n",
              "      <th>69</th>\n",
              "      <td>GTAV</td>\n",
              "      <td>2020.0</td>\n",
              "      <td>01 (January)</td>\n",
              "      <td>111300.20</td>\n",
              "      <td>13522.51</td>\n",
              "      <td>214796.0</td>\n",
              "    </tr>\n",
              "    <tr>\n",
              "      <th>64</th>\n",
              "      <td>GTAV</td>\n",
              "      <td>2020.0</td>\n",
              "      <td>02 (February)</td>\n",
              "      <td>142724.48</td>\n",
              "      <td>31424.28</td>\n",
              "      <td>267360.0</td>\n",
              "    </tr>\n",
              "    <tr>\n",
              "      <th>...</th>\n",
              "      <td>...</td>\n",
              "      <td>...</td>\n",
              "      <td>...</td>\n",
              "      <td>...</td>\n",
              "      <td>...</td>\n",
              "      <td>...</td>\n",
              "    </tr>\n",
              "    <tr>\n",
              "      <th>1</th>\n",
              "      <td>GTAV</td>\n",
              "      <td>2015.0</td>\n",
              "      <td>12 (December)</td>\n",
              "      <td>43874.72</td>\n",
              "      <td>9408.88</td>\n",
              "      <td>84558.0</td>\n",
              "    </tr>\n",
              "    <tr>\n",
              "      <th>29</th>\n",
              "      <td>GTAV</td>\n",
              "      <td>2015.0</td>\n",
              "      <td>08 (August)</td>\n",
              "      <td>30918.06</td>\n",
              "      <td>-6739.01</td>\n",
              "      <td>50693.0</td>\n",
              "    </tr>\n",
              "    <tr>\n",
              "      <th>15</th>\n",
              "      <td>GTAV</td>\n",
              "      <td>2015.0</td>\n",
              "      <td>10 (October)</td>\n",
              "      <td>30924.76</td>\n",
              "      <td>5536.95</td>\n",
              "      <td>73902.0</td>\n",
              "    </tr>\n",
              "    <tr>\n",
              "      <th>48</th>\n",
              "      <td>GTAV</td>\n",
              "      <td>2015.0</td>\n",
              "      <td>04 (April)</td>\n",
              "      <td>192714.01</td>\n",
              "      <td>0.00</td>\n",
              "      <td>360761.0</td>\n",
              "    </tr>\n",
              "    <tr>\n",
              "      <th>45</th>\n",
              "      <td>GTAV</td>\n",
              "      <td>2015.0</td>\n",
              "      <td>05 (May)</td>\n",
              "      <td>93361.62</td>\n",
              "      <td>-99352.39</td>\n",
              "      <td>215966.0</td>\n",
              "    </tr>\n",
              "  </tbody>\n",
              "</table>\n",
              "<p>71 rows × 6 columns</p>\n",
              "</div>"
            ],
            "text/plain": [
              "   gamename    year           month        avg      gain      peak\n",
              "70     GTAV  2021.0   01 (January)   101250.59  -5663.68  184941.0\n",
              "62     GTAV  2021.0  02 (February)    90647.64 -10602.95  146438.0\n",
              "17     GTAV  2020.0   10 (October)    67193.03   -854.00  128578.0\n",
              "69     GTAV  2020.0   01 (January)   111300.20  13522.51  214796.0\n",
              "64     GTAV  2020.0  02 (February)   142724.48  31424.28  267360.0\n",
              "..      ...     ...             ...        ...       ...       ...\n",
              "1      GTAV  2015.0  12 (December)    43874.72   9408.88   84558.0\n",
              "29     GTAV  2015.0    08 (August)    30918.06  -6739.01   50693.0\n",
              "15     GTAV  2015.0   10 (October)    30924.76   5536.95   73902.0\n",
              "48     GTAV  2015.0     04 (April)   192714.01      0.00  360761.0\n",
              "45     GTAV  2015.0       05 (May)    93361.62 -99352.39  215966.0\n",
              "\n",
              "[71 rows x 6 columns]"
            ]
          },
          "metadata": {
            "tags": []
          },
          "execution_count": 38
        }
      ]
    },
    {
      "cell_type": "code",
      "metadata": {
        "colab": {
          "base_uri": "https://localhost:8080/",
          "height": 452
        },
        "id": "9awxwDrgtAwR",
        "outputId": "5b7df92b-3f06-4476-ca57-c0c800f9588f"
      },
      "source": [
        "game_dota2.groupby('month').mean().sort_values(by='gain')"
      ],
      "execution_count": null,
      "outputs": [
        {
          "output_type": "execute_result",
          "data": {
            "text/html": [
              "<div>\n",
              "<style scoped>\n",
              "    .dataframe tbody tr th:only-of-type {\n",
              "        vertical-align: middle;\n",
              "    }\n",
              "\n",
              "    .dataframe tbody tr th {\n",
              "        vertical-align: top;\n",
              "    }\n",
              "\n",
              "    .dataframe thead th {\n",
              "        text-align: right;\n",
              "    }\n",
              "</style>\n",
              "<table border=\"1\" class=\"dataframe\">\n",
              "  <thead>\n",
              "    <tr style=\"text-align: right;\">\n",
              "      <th></th>\n",
              "      <th>year</th>\n",
              "      <th>avg</th>\n",
              "      <th>gain</th>\n",
              "      <th>peak</th>\n",
              "    </tr>\n",
              "    <tr>\n",
              "      <th>month</th>\n",
              "      <th></th>\n",
              "      <th></th>\n",
              "      <th></th>\n",
              "      <th></th>\n",
              "    </tr>\n",
              "  </thead>\n",
              "  <tbody>\n",
              "    <tr>\n",
              "      <th>09 (September)</th>\n",
              "      <td>2016.0</td>\n",
              "      <td>419059.284444</td>\n",
              "      <td>-34250.978889</td>\n",
              "      <td>731452.111111</td>\n",
              "    </tr>\n",
              "    <tr>\n",
              "      <th>07 (July)</th>\n",
              "      <td>2016.0</td>\n",
              "      <td>430655.975556</td>\n",
              "      <td>-11489.154444</td>\n",
              "      <td>705749.333333</td>\n",
              "    </tr>\n",
              "    <tr>\n",
              "      <th>03 (March)</th>\n",
              "      <td>2016.5</td>\n",
              "      <td>480531.687500</td>\n",
              "      <td>-10410.703750</td>\n",
              "      <td>879631.250000</td>\n",
              "    </tr>\n",
              "    <tr>\n",
              "      <th>04 (April)</th>\n",
              "      <td>2016.5</td>\n",
              "      <td>470461.282500</td>\n",
              "      <td>-10070.402500</td>\n",
              "      <td>819447.625000</td>\n",
              "    </tr>\n",
              "    <tr>\n",
              "      <th>06 (June)</th>\n",
              "      <td>2016.5</td>\n",
              "      <td>490823.138750</td>\n",
              "      <td>-3609.696250</td>\n",
              "      <td>810996.500000</td>\n",
              "    </tr>\n",
              "    <tr>\n",
              "      <th>10 (October)</th>\n",
              "      <td>2016.0</td>\n",
              "      <td>417183.433333</td>\n",
              "      <td>-1875.852222</td>\n",
              "      <td>747558.222222</td>\n",
              "    </tr>\n",
              "    <tr>\n",
              "      <th>12 (December)</th>\n",
              "      <td>2016.0</td>\n",
              "      <td>437656.702222</td>\n",
              "      <td>6746.408889</td>\n",
              "      <td>762565.444444</td>\n",
              "    </tr>\n",
              "    <tr>\n",
              "      <th>11 (November)</th>\n",
              "      <td>2016.0</td>\n",
              "      <td>430910.290000</td>\n",
              "      <td>13726.858889</td>\n",
              "      <td>766078.333333</td>\n",
              "    </tr>\n",
              "    <tr>\n",
              "      <th>01 (January)</th>\n",
              "      <td>2017.0</td>\n",
              "      <td>451863.892222</td>\n",
              "      <td>14207.191111</td>\n",
              "      <td>770685.000000</td>\n",
              "    </tr>\n",
              "    <tr>\n",
              "      <th>08 (August)</th>\n",
              "      <td>2016.0</td>\n",
              "      <td>453310.265556</td>\n",
              "      <td>22654.287778</td>\n",
              "      <td>739278.333333</td>\n",
              "    </tr>\n",
              "    <tr>\n",
              "      <th>05 (May)</th>\n",
              "      <td>2016.5</td>\n",
              "      <td>494432.832500</td>\n",
              "      <td>23971.551250</td>\n",
              "      <td>852485.625000</td>\n",
              "    </tr>\n",
              "    <tr>\n",
              "      <th>02 (February)</th>\n",
              "      <td>2017.0</td>\n",
              "      <td>481374.584444</td>\n",
              "      <td>29510.688889</td>\n",
              "      <td>848231.333333</td>\n",
              "    </tr>\n",
              "  </tbody>\n",
              "</table>\n",
              "</div>"
            ],
            "text/plain": [
              "                   year            avg          gain           peak\n",
              "month                                                              \n",
              "09 (September)   2016.0  419059.284444 -34250.978889  731452.111111\n",
              "07 (July)        2016.0  430655.975556 -11489.154444  705749.333333\n",
              "03 (March)       2016.5  480531.687500 -10410.703750  879631.250000\n",
              "04 (April)       2016.5  470461.282500 -10070.402500  819447.625000\n",
              "06 (June)        2016.5  490823.138750  -3609.696250  810996.500000\n",
              "10 (October)     2016.0  417183.433333  -1875.852222  747558.222222\n",
              "12 (December)    2016.0  437656.702222   6746.408889  762565.444444\n",
              "11 (November)    2016.0  430910.290000  13726.858889  766078.333333\n",
              "01 (January)     2017.0  451863.892222  14207.191111  770685.000000\n",
              "08 (August)      2016.0  453310.265556  22654.287778  739278.333333\n",
              "05 (May)         2016.5  494432.832500  23971.551250  852485.625000\n",
              "02 (February)    2017.0  481374.584444  29510.688889  848231.333333"
            ]
          },
          "metadata": {
            "tags": []
          },
          "execution_count": 91
        }
      ]
    },
    {
      "cell_type": "markdown",
      "metadata": {
        "id": "hFaim507s_9I"
      },
      "source": [
        "Não conseguimos notar um padrão para crescimento do GTAV, porém aparenta ter grandes perdas nos períodos do meio para o fim do ano."
      ]
    },
    {
      "cell_type": "code",
      "metadata": {
        "id": "iF_v7a4sxaQT",
        "colab": {
          "base_uri": "https://localhost:8080/",
          "height": 419
        },
        "outputId": "7ae53a60-7cf8-46fb-f720-f95ed731b9d6"
      },
      "source": [
        "game_RL = steam_games_clean.where(steam_games_clean['gamename'] == 'Rocket League')\n",
        "game_RL = game_RL.sort_values(by='month',ascending=False)\n",
        "game_RL = game_RL.dropna()\n",
        "game_RL = game_RL.reset_index()\n",
        "game_RL.drop('index', axis=1, inplace=True)\n",
        "game_RL.sort_values(by='year',ascending=False)"
      ],
      "execution_count": null,
      "outputs": [
        {
          "output_type": "execute_result",
          "data": {
            "text/html": [
              "<div>\n",
              "<style scoped>\n",
              "    .dataframe tbody tr th:only-of-type {\n",
              "        vertical-align: middle;\n",
              "    }\n",
              "\n",
              "    .dataframe tbody tr th {\n",
              "        vertical-align: top;\n",
              "    }\n",
              "\n",
              "    .dataframe thead th {\n",
              "        text-align: right;\n",
              "    }\n",
              "</style>\n",
              "<table border=\"1\" class=\"dataframe\">\n",
              "  <thead>\n",
              "    <tr style=\"text-align: right;\">\n",
              "      <th></th>\n",
              "      <th>gamename</th>\n",
              "      <th>year</th>\n",
              "      <th>month</th>\n",
              "      <th>avg</th>\n",
              "      <th>gain</th>\n",
              "      <th>peak</th>\n",
              "    </tr>\n",
              "  </thead>\n",
              "  <tbody>\n",
              "    <tr>\n",
              "      <th>68</th>\n",
              "      <td>Rocket League</td>\n",
              "      <td>2021.0</td>\n",
              "      <td>01 (January)</td>\n",
              "      <td>59449.16</td>\n",
              "      <td>-6315.92</td>\n",
              "      <td>112482.0</td>\n",
              "    </tr>\n",
              "    <tr>\n",
              "      <th>58</th>\n",
              "      <td>Rocket League</td>\n",
              "      <td>2021.0</td>\n",
              "      <td>02 (February)</td>\n",
              "      <td>53723.01</td>\n",
              "      <td>-5726.15</td>\n",
              "      <td>103429.0</td>\n",
              "    </tr>\n",
              "    <tr>\n",
              "      <th>41</th>\n",
              "      <td>Rocket League</td>\n",
              "      <td>2020.0</td>\n",
              "      <td>06 (June)</td>\n",
              "      <td>41136.60</td>\n",
              "      <td>-4478.95</td>\n",
              "      <td>72502.0</td>\n",
              "    </tr>\n",
              "    <tr>\n",
              "      <th>27</th>\n",
              "      <td>Rocket League</td>\n",
              "      <td>2020.0</td>\n",
              "      <td>08 (August)</td>\n",
              "      <td>41201.98</td>\n",
              "      <td>-691.28</td>\n",
              "      <td>70357.0</td>\n",
              "    </tr>\n",
              "    <tr>\n",
              "      <th>1</th>\n",
              "      <td>Rocket League</td>\n",
              "      <td>2020.0</td>\n",
              "      <td>12 (December)</td>\n",
              "      <td>65765.07</td>\n",
              "      <td>-1785.32</td>\n",
              "      <td>135714.0</td>\n",
              "    </tr>\n",
              "    <tr>\n",
              "      <th>...</th>\n",
              "      <td>...</td>\n",
              "      <td>...</td>\n",
              "      <td>...</td>\n",
              "      <td>...</td>\n",
              "      <td>...</td>\n",
              "      <td>...</td>\n",
              "    </tr>\n",
              "    <tr>\n",
              "      <th>22</th>\n",
              "      <td>Rocket League</td>\n",
              "      <td>2015.0</td>\n",
              "      <td>09 (September)</td>\n",
              "      <td>17439.88</td>\n",
              "      <td>-1704.46</td>\n",
              "      <td>34391.0</td>\n",
              "    </tr>\n",
              "    <tr>\n",
              "      <th>14</th>\n",
              "      <td>Rocket League</td>\n",
              "      <td>2015.0</td>\n",
              "      <td>10 (October)</td>\n",
              "      <td>16709.27</td>\n",
              "      <td>-730.61</td>\n",
              "      <td>32204.0</td>\n",
              "    </tr>\n",
              "    <tr>\n",
              "      <th>6</th>\n",
              "      <td>Rocket League</td>\n",
              "      <td>2015.0</td>\n",
              "      <td>11 (November)</td>\n",
              "      <td>16276.41</td>\n",
              "      <td>-432.86</td>\n",
              "      <td>37175.0</td>\n",
              "    </tr>\n",
              "    <tr>\n",
              "      <th>3</th>\n",
              "      <td>Rocket League</td>\n",
              "      <td>2015.0</td>\n",
              "      <td>12 (December)</td>\n",
              "      <td>20397.42</td>\n",
              "      <td>4121.01</td>\n",
              "      <td>44875.0</td>\n",
              "    </tr>\n",
              "    <tr>\n",
              "      <th>34</th>\n",
              "      <td>Rocket League</td>\n",
              "      <td>2015.0</td>\n",
              "      <td>07 (July)</td>\n",
              "      <td>10789.62</td>\n",
              "      <td>10787.70</td>\n",
              "      <td>29027.0</td>\n",
              "    </tr>\n",
              "  </tbody>\n",
              "</table>\n",
              "<p>69 rows × 6 columns</p>\n",
              "</div>"
            ],
            "text/plain": [
              "         gamename    year            month       avg      gain      peak\n",
              "68  Rocket League  2021.0    01 (January)   59449.16  -6315.92  112482.0\n",
              "58  Rocket League  2021.0   02 (February)   53723.01  -5726.15  103429.0\n",
              "41  Rocket League  2020.0       06 (June)   41136.60  -4478.95   72502.0\n",
              "27  Rocket League  2020.0     08 (August)   41201.98   -691.28   70357.0\n",
              "1   Rocket League  2020.0   12 (December)   65765.07  -1785.32  135714.0\n",
              "..            ...     ...              ...       ...       ...       ...\n",
              "22  Rocket League  2015.0  09 (September)   17439.88  -1704.46   34391.0\n",
              "14  Rocket League  2015.0    10 (October)   16709.27   -730.61   32204.0\n",
              "6   Rocket League  2015.0   11 (November)   16276.41   -432.86   37175.0\n",
              "3   Rocket League  2015.0   12 (December)   20397.42   4121.01   44875.0\n",
              "34  Rocket League  2015.0       07 (July)   10789.62  10787.70   29027.0\n",
              "\n",
              "[69 rows x 6 columns]"
            ]
          },
          "metadata": {
            "tags": []
          },
          "execution_count": 39
        }
      ]
    },
    {
      "cell_type": "code",
      "metadata": {
        "colab": {
          "base_uri": "https://localhost:8080/",
          "height": 452
        },
        "id": "KXK7pNHntiPr",
        "outputId": "600a9c90-779d-4004-8f43-d4fb60bf2a61"
      },
      "source": [
        "game_RL.groupby('month').mean().sort_values(by='gain')"
      ],
      "execution_count": null,
      "outputs": [
        {
          "output_type": "execute_result",
          "data": {
            "text/html": [
              "<div>\n",
              "<style scoped>\n",
              "    .dataframe tbody tr th:only-of-type {\n",
              "        vertical-align: middle;\n",
              "    }\n",
              "\n",
              "    .dataframe tbody tr th {\n",
              "        vertical-align: top;\n",
              "    }\n",
              "\n",
              "    .dataframe thead th {\n",
              "        text-align: right;\n",
              "    }\n",
              "</style>\n",
              "<table border=\"1\" class=\"dataframe\">\n",
              "  <thead>\n",
              "    <tr style=\"text-align: right;\">\n",
              "      <th></th>\n",
              "      <th>year</th>\n",
              "      <th>avg</th>\n",
              "      <th>gain</th>\n",
              "      <th>peak</th>\n",
              "    </tr>\n",
              "    <tr>\n",
              "      <th>month</th>\n",
              "      <th></th>\n",
              "      <th></th>\n",
              "      <th></th>\n",
              "      <th></th>\n",
              "    </tr>\n",
              "  </thead>\n",
              "  <tbody>\n",
              "    <tr>\n",
              "      <th>05 (May)</th>\n",
              "      <td>2018.0</td>\n",
              "      <td>33369.926000</td>\n",
              "      <td>-2795.030000</td>\n",
              "      <td>71157.400000</td>\n",
              "    </tr>\n",
              "    <tr>\n",
              "      <th>11 (November)</th>\n",
              "      <td>2017.5</td>\n",
              "      <td>34870.796667</td>\n",
              "      <td>-2604.536667</td>\n",
              "      <td>67458.500000</td>\n",
              "    </tr>\n",
              "    <tr>\n",
              "      <th>02 (February)</th>\n",
              "      <td>2018.5</td>\n",
              "      <td>36258.090000</td>\n",
              "      <td>-1691.365000</td>\n",
              "      <td>70067.500000</td>\n",
              "    </tr>\n",
              "    <tr>\n",
              "      <th>08 (August)</th>\n",
              "      <td>2017.5</td>\n",
              "      <td>30000.671667</td>\n",
              "      <td>-1420.786667</td>\n",
              "      <td>53370.833333</td>\n",
              "    </tr>\n",
              "    <tr>\n",
              "      <th>01 (January)</th>\n",
              "      <td>2018.5</td>\n",
              "      <td>37949.451667</td>\n",
              "      <td>-821.138333</td>\n",
              "      <td>72450.166667</td>\n",
              "    </tr>\n",
              "    <tr>\n",
              "      <th>06 (June)</th>\n",
              "      <td>2017.5</td>\n",
              "      <td>27909.163333</td>\n",
              "      <td>100.571667</td>\n",
              "      <td>54258.833333</td>\n",
              "    </tr>\n",
              "    <tr>\n",
              "      <th>03 (March)</th>\n",
              "      <td>2018.0</td>\n",
              "      <td>33877.524000</td>\n",
              "      <td>1112.420000</td>\n",
              "      <td>72831.200000</td>\n",
              "    </tr>\n",
              "    <tr>\n",
              "      <th>04 (April)</th>\n",
              "      <td>2018.0</td>\n",
              "      <td>36164.952000</td>\n",
              "      <td>2287.430000</td>\n",
              "      <td>79392.800000</td>\n",
              "    </tr>\n",
              "    <tr>\n",
              "      <th>09 (September)</th>\n",
              "      <td>2017.5</td>\n",
              "      <td>33463.543333</td>\n",
              "      <td>3462.871667</td>\n",
              "      <td>77706.333333</td>\n",
              "    </tr>\n",
              "    <tr>\n",
              "      <th>07 (July)</th>\n",
              "      <td>2017.5</td>\n",
              "      <td>31421.458333</td>\n",
              "      <td>3512.296667</td>\n",
              "      <td>62637.666667</td>\n",
              "    </tr>\n",
              "    <tr>\n",
              "      <th>12 (December)</th>\n",
              "      <td>2017.5</td>\n",
              "      <td>38770.590000</td>\n",
              "      <td>3899.791667</td>\n",
              "      <td>77396.833333</td>\n",
              "    </tr>\n",
              "    <tr>\n",
              "      <th>10 (October)</th>\n",
              "      <td>2017.5</td>\n",
              "      <td>37475.331667</td>\n",
              "      <td>4011.790000</td>\n",
              "      <td>73615.000000</td>\n",
              "    </tr>\n",
              "  </tbody>\n",
              "</table>\n",
              "</div>"
            ],
            "text/plain": [
              "                   year           avg         gain          peak\n",
              "month                                                           \n",
              "05 (May)         2018.0  33369.926000 -2795.030000  71157.400000\n",
              "11 (November)    2017.5  34870.796667 -2604.536667  67458.500000\n",
              "02 (February)    2018.5  36258.090000 -1691.365000  70067.500000\n",
              "08 (August)      2017.5  30000.671667 -1420.786667  53370.833333\n",
              "01 (January)     2018.5  37949.451667  -821.138333  72450.166667\n",
              "06 (June)        2017.5  27909.163333   100.571667  54258.833333\n",
              "03 (March)       2018.0  33877.524000  1112.420000  72831.200000\n",
              "04 (April)       2018.0  36164.952000  2287.430000  79392.800000\n",
              "09 (September)   2017.5  33463.543333  3462.871667  77706.333333\n",
              "07 (July)        2017.5  31421.458333  3512.296667  62637.666667\n",
              "12 (December)    2017.5  38770.590000  3899.791667  77396.833333\n",
              "10 (October)     2017.5  37475.331667  4011.790000  73615.000000"
            ]
          },
          "metadata": {
            "tags": []
          },
          "execution_count": 92
        }
      ]
    },
    {
      "cell_type": "markdown",
      "metadata": {
        "id": "YoDyFk02uECY"
      },
      "source": [
        "Não conseguimos notar um padrão para crescimento do Rocket League"
      ]
    },
    {
      "cell_type": "markdown",
      "metadata": {
        "id": "N7l6m3CCWTEO"
      },
      "source": [
        "# **Gráficos**"
      ]
    },
    {
      "cell_type": "markdown",
      "metadata": {
        "id": "3w3eO9hXBgML"
      },
      "source": [
        "# **Jogo a Jogo**\n",
        "Os graficos jogo a jogo representam a média de jogadores ao longo dos anos e os ganhos de novos jogadores (ou perda dos antigos para número negativos) em cada jogo, distribuidos ao longo do ano. Lembrando que os jogos representados nesses gráficos são os mesmo que foram separados na parte \"Separando dados para melhor analise\"\n"
      ]
    },
    {
      "cell_type": "code",
      "metadata": {
        "id": "wZIZ_vNTWVPj"
      },
      "source": [
        "import matplotlib.pyplot as plt\n",
        "import numpy as np\n",
        "import seaborn as sns"
      ],
      "execution_count": null,
      "outputs": []
    },
    {
      "cell_type": "code",
      "metadata": {
        "id": "C1deP0LgO02f",
        "colab": {
          "base_uri": "https://localhost:8080/",
          "height": 281
        },
        "outputId": "2e475f4c-43c2-4e45-8b27-22615c83a735"
      },
      "source": [
        "cyl_grouped = game_csgo.groupby('year').mean().reset_index()\n",
        "\n",
        "plt.bar(cyl_grouped['year'], cyl_grouped['avg'])\n",
        "plt.title('Média de jogadores: Counter Strike: Global Offensive')\n",
        "plt.show()\n"
      ],
      "execution_count": null,
      "outputs": [
        {
          "output_type": "display_data",
          "data": {
            "image/png": "[encoded data removed]",
            "text/plain": [
              "<Figure size 432x288 with 1 Axes>"
            ]
          },
          "metadata": {
            "tags": [],
            "needs_background": "light"
          }
        }
      ]
    },
    {
      "cell_type": "code",
      "metadata": {
        "id": "qpexIQsVWj5o",
        "colab": {
          "base_uri": "https://localhost:8080/",
          "height": 281
        },
        "outputId": "33433560-8593-4f02-8ea9-a839366e427c"
      },
      "source": [
        "cyl_grouped = game_csgo.groupby('year').mean().reset_index()\n",
        "\n",
        "plt.plot(cyl_grouped.year, cyl_grouped.gain)\n",
        "plt.title('Média de novos jogadores: Counter Strike: Global Offensive')\n",
        "plt.show()"
      ],
      "execution_count": null,
      "outputs": [
        {
          "output_type": "display_data",
          "data": {
            "image/png": "[encoded data removed]",
            "text/plain": [
              "<Figure size 432x288 with 1 Axes>"
            ]
          },
          "metadata": {
            "tags": [],
            "needs_background": "light"
          }
        }
      ]
    },
    {
      "cell_type": "code",
      "metadata": {
        "id": "gYq2EejMx9qc",
        "colab": {
          "base_uri": "https://localhost:8080/",
          "height": 281
        },
        "outputId": "57732f07-35c5-4757-e142-6dd1d7000d89"
      },
      "source": [
        "cyl_grouped = game_pubg.groupby('year').mean().reset_index()\n",
        "\n",
        "plt.bar(cyl_grouped['year'], cyl_grouped['avg'])\n",
        "plt.title('Média de jogadores: PUBG')\n",
        "plt.show()"
      ],
      "execution_count": null,
      "outputs": [
        {
          "output_type": "display_data",
          "data": {
            "image/png": "[encoded data removed]",
            "text/plain": [
              "<Figure size 432x288 with 1 Axes>"
            ]
          },
          "metadata": {
            "tags": [],
            "needs_background": "light"
          }
        }
      ]
    },
    {
      "cell_type": "code",
      "metadata": {
        "id": "Cal1IRxxx9oM",
        "colab": {
          "base_uri": "https://localhost:8080/",
          "height": 281
        },
        "outputId": "7291a627-24e2-48e5-e82c-2612602caac5"
      },
      "source": [
        "cyl_grouped = game_pubg.groupby('year').mean().reset_index()\n",
        "\n",
        "plt.plot(cyl_grouped.year, cyl_grouped.gain)\n",
        "plt.title('Média de novos jogadores: PUBG')\n",
        "plt.show()\n"
      ],
      "execution_count": null,
      "outputs": [
        {
          "output_type": "display_data",
          "data": {
            "image/png": "[encoded data removed]",
            "text/plain": [
              "<Figure size 432x288 with 1 Axes>"
            ]
          },
          "metadata": {
            "tags": [],
            "needs_background": "light"
          }
        }
      ]
    },
    {
      "cell_type": "code",
      "metadata": {
        "id": "ibt3lzN4x9mL",
        "colab": {
          "base_uri": "https://localhost:8080/",
          "height": 281
        },
        "outputId": "c1e772e1-2f3d-46c4-8116-269e825f66ac"
      },
      "source": [
        "cyl_grouped = game_dota2.groupby('year').mean().reset_index()\n",
        "\n",
        "plt.bar(cyl_grouped['year'], cyl_grouped['avg'])\n",
        "plt.title('Média de jogadores: Dota 2')\n",
        "plt.show()"
      ],
      "execution_count": null,
      "outputs": [
        {
          "output_type": "display_data",
          "data": {
            "image/png": "[encoded data removed]",
            "text/plain": [
              "<Figure size 432x288 with 1 Axes>"
            ]
          },
          "metadata": {
            "tags": [],
            "needs_background": "light"
          }
        }
      ]
    },
    {
      "cell_type": "code",
      "metadata": {
        "id": "qoWdsK6-x9jZ",
        "colab": {
          "base_uri": "https://localhost:8080/",
          "height": 281
        },
        "outputId": "81c871da-2643-43f3-be4b-580fdb8dffeb"
      },
      "source": [
        "cyl_grouped = game_dota2.groupby('year').mean().reset_index()\n",
        "\n",
        "plt.plot(cyl_grouped.year, cyl_grouped.gain)\n",
        "plt.title('Média de novos jogadores: Dota 2')\n",
        "plt.show()"
      ],
      "execution_count": null,
      "outputs": [
        {
          "output_type": "display_data",
          "data": {
            "image/png": "[encoded data removed]",
            "text/plain": [
              "<Figure size 432x288 with 1 Axes>"
            ]
          },
          "metadata": {
            "tags": [],
            "needs_background": "light"
          }
        }
      ]
    },
    {
      "cell_type": "code",
      "metadata": {
        "id": "TSSbf6Gvx9hD",
        "colab": {
          "base_uri": "https://localhost:8080/",
          "height": 281
        },
        "outputId": "73a98639-351b-4a1c-e7f3-1de3f2abcbaa"
      },
      "source": [
        "cyl_grouped = game_gtav.groupby('year').mean().reset_index()\n",
        "\n",
        "plt.bar(cyl_grouped['year'], cyl_grouped['avg'])\n",
        "plt.title('Média de novos jogadores: Média de jogadores: GTA V')\n",
        "plt.show()"
      ],
      "execution_count": null,
      "outputs": [
        {
          "output_type": "display_data",
          "data": {
            "image/png": "[encoded data removed]",
            "text/plain": [
              "<Figure size 432x288 with 1 Axes>"
            ]
          },
          "metadata": {
            "tags": [],
            "needs_background": "light"
          }
        }
      ]
    },
    {
      "cell_type": "code",
      "metadata": {
        "id": "-J4A8TBQx9eV",
        "colab": {
          "base_uri": "https://localhost:8080/",
          "height": 281
        },
        "outputId": "da6a28a6-d58c-43d0-ac99-dcf4b4ecbd7d"
      },
      "source": [
        "cyl_grouped = game_gtav.groupby('year').mean().reset_index()\n",
        "\n",
        "plt.plot(cyl_grouped.year, cyl_grouped.gain)\n",
        "plt.title('Média de novos jogadores: GTA V')\n",
        "plt.show()"
      ],
      "execution_count": null,
      "outputs": [
        {
          "output_type": "display_data",
          "data": {
            "image/png": "[encoded data removed]",
            "text/plain": [
              "<Figure size 432x288 with 1 Axes>"
            ]
          },
          "metadata": {
            "tags": [],
            "needs_background": "light"
          }
        }
      ]
    },
    {
      "cell_type": "code",
      "metadata": {
        "id": "b0lkl4uNx9bk",
        "colab": {
          "base_uri": "https://localhost:8080/",
          "height": 281
        },
        "outputId": "279e9de0-8def-4816-8859-a26e09858e63"
      },
      "source": [
        "cyl_grouped = game_RL.groupby('year').mean().reset_index()\n",
        "\n",
        "plt.bar(cyl_grouped['year'], cyl_grouped['avg'])\n",
        "plt.title('Média de novos jogadores: Média de jogadores: Rocket League')\n",
        "plt.show()"
      ],
      "execution_count": null,
      "outputs": [
        {
          "output_type": "display_data",
          "data": {
            "image/png": "[encoded data removed]",
            "text/plain": [
              "<Figure size 432x288 with 1 Axes>"
            ]
          },
          "metadata": {
            "tags": [],
            "needs_background": "light"
          }
        }
      ]
    },
    {
      "cell_type": "code",
      "metadata": {
        "id": "T0mrmeFSAQz9",
        "colab": {
          "base_uri": "https://localhost:8080/",
          "height": 298
        },
        "outputId": "2dab0dac-c08a-454a-df12-19bf77027c91"
      },
      "source": [
        "cyl_grouped = game_RL.groupby('year').mean().reset_index()\n",
        "\n",
        "plt.plot(cyl_grouped.year, cyl_grouped.gain, label=\"Ganhos\")\n",
        "plt.title('Média de novos jogadores: Rocket League')\n"
      ],
      "execution_count": null,
      "outputs": [
        {
          "output_type": "execute_result",
          "data": {
            "text/plain": [
              "Text(0.5, 1.0, 'Média de novos jogadores: Rocket League')"
            ]
          },
          "metadata": {
            "tags": []
          },
          "execution_count": 50
        },
        {
          "output_type": "display_data",
          "data": {
            "image/png": "[encoded data removed]",
            "text/plain": [
              "<Figure size 432x288 with 1 Axes>"
            ]
          },
          "metadata": {
            "tags": [],
            "needs_background": "light"
          }
        }
      ]
    },
    {
      "cell_type": "markdown",
      "metadata": {
        "id": "j-vt0RKYBXnX"
      },
      "source": [
        "# **Ano a Ano**\n",
        "\n",
        "Os gráficos ano a ano representam uma comparação da média de jogadores ano a ano. Lembrando que os jogos representados nesses gráficos são os mesmo que foram separados na parte \"Separando dados para melhor analise\"\n",
        "\n"
      ]
    },
    {
      "cell_type": "code",
      "metadata": {
        "id": "m8YUQj0bx9US"
      },
      "source": [
        "jogos = steam_games_clean.query('((gamename == \"Rocket League\") | (gamename == \"CSGO\") | (gamename == \"PUBG\") | (gamename == \"Dota 2\") | (gamename == \"GTAV\"))')\n",
        "jogos_2012 = jogos.query('year == 2012').sort_values(by='month')\n",
        "jogos_2013 = jogos.query('year == 2013').sort_values(by='month')\n",
        "jogos_2014 = jogos.query('year == 2014').sort_values(by='month')\n",
        "jogos_2015 = jogos.query('year == 2015').sort_values(by='month')\n",
        "jogos_2016 = jogos.query('year == 2016').sort_values(by='month')\n",
        "jogos_2017 = jogos.query('year == 2017').sort_values(by='month')\n",
        "jogos_2018 = jogos.query('year == 2018').sort_values(by='month')\n",
        "jogos_2019 = jogos.query('year == 2019').sort_values(by='month')\n",
        "jogos_2020 = jogos.query('year == 2020').sort_values(by='month')\n",
        "jogos_2021 = jogos.query('year == 2021').sort_values(by='month')"
      ],
      "execution_count": null,
      "outputs": []
    },
    {
      "cell_type": "code",
      "metadata": {
        "id": "Cl9oUNmh1I3j",
        "colab": {
          "base_uri": "https://localhost:8080/"
        },
        "outputId": "9c0731d0-0d7b-4364-ac3a-62f64cf01e75"
      },
      "source": [
        "cyl_grouped = jogos_2012.groupby('gamename').mean().reset_index()\n",
        "plt.bar(cyl_grouped['gamename'], cyl_grouped['avg'])\n",
        "plt.title('Comparação de jogadores por ano: 2012')\n",
        "plt.show()"
      ],
      "execution_count": null,
      "outputs": [
        {
          "output_type": "display_data",
          "data": {
            "image/png": "[encoded data removed]",
            "text/plain": [
              "<Figure size 432x288 with 1 Axes>"
            ]
          },
          "metadata": {
            "tags": [],
            "needs_background": "light"
          }
        }
      ]
    },
    {
      "cell_type": "code",
      "metadata": {
        "id": "XO541sZd_CcO",
        "colab": {
          "base_uri": "https://localhost:8080/"
        },
        "outputId": "8a79fc57-5dab-48a9-e314-916ec6ac57a9"
      },
      "source": [
        "cyl_grouped = jogos_2013.groupby('gamename').mean().reset_index()\n",
        "plt.bar(cyl_grouped['gamename'], cyl_grouped['avg'])\n",
        "plt.title('Comparação de jogadores por ano: 2013')\n",
        "plt.show()"
      ],
      "execution_count": null,
      "outputs": [
        {
          "output_type": "display_data",
          "data": {
            "image/png": "[encoded data removed]",
            "text/plain": [
              "<Figure size 432x288 with 1 Axes>"
            ]
          },
          "metadata": {
            "tags": [],
            "needs_background": "light"
          }
        }
      ]
    },
    {
      "cell_type": "code",
      "metadata": {
        "id": "BJMOfK_t_CZx",
        "colab": {
          "base_uri": "https://localhost:8080/"
        },
        "outputId": "4087d43a-93e0-4d5c-b228-a301b2e19b1f"
      },
      "source": [
        "cyl_grouped = jogos_2014.groupby('gamename').mean().reset_index()\n",
        "plt.bar(cyl_grouped['gamename'], cyl_grouped['avg'])\n",
        "plt.title('Comparação de jogadores por ano: 2014')\n",
        "plt.show()"
      ],
      "execution_count": null,
      "outputs": [
        {
          "output_type": "display_data",
          "data": {
            "image/png": "[encoded data removed]",
            "text/plain": [
              "<Figure size 432x288 with 1 Axes>"
            ]
          },
          "metadata": {
            "tags": [],
            "needs_background": "light"
          }
        }
      ]
    },
    {
      "cell_type": "code",
      "metadata": {
        "id": "1mRy9JZr_CXR",
        "colab": {
          "base_uri": "https://localhost:8080/"
        },
        "outputId": "394f4874-59a6-4f54-eafb-979790bac44a"
      },
      "source": [
        "cyl_grouped = jogos_2015.groupby('gamename').mean().reset_index()\n",
        "plt.bar(cyl_grouped['gamename'], cyl_grouped['avg'])\n",
        "plt.title('Comparação de jogadores por ano: 2015')\n",
        "plt.show()"
      ],
      "execution_count": null,
      "outputs": [
        {
          "output_type": "display_data",
          "data": {
            "image/png": "[encoded data removed]",
            "text/plain": [
              "<Figure size 432x288 with 1 Axes>"
            ]
          },
          "metadata": {
            "tags": [],
            "needs_background": "light"
          }
        }
      ]
    },
    {
      "cell_type": "code",
      "metadata": {
        "id": "ThCPKtHD_CVT",
        "colab": {
          "base_uri": "https://localhost:8080/"
        },
        "outputId": "cff54e18-d925-49df-87b5-06b7893d104d"
      },
      "source": [
        "cyl_grouped = jogos_2016.groupby('gamename').mean().reset_index()\n",
        "plt.bar(cyl_grouped['gamename'], cyl_grouped['avg'])\n",
        "plt.title('Comparação de jogadores por ano: 2016')\n",
        "plt.show()"
      ],
      "execution_count": null,
      "outputs": [
        {
          "output_type": "display_data",
          "data": {
            "image/png": "[encoded data removed]",
            "text/plain": [
              "<Figure size 432x288 with 1 Axes>"
            ]
          },
          "metadata": {
            "tags": [],
            "needs_background": "light"
          }
        }
      ]
    },
    {
      "cell_type": "code",
      "metadata": {
        "id": "uQN79zR0_CTk",
        "colab": {
          "base_uri": "https://localhost:8080/"
        },
        "outputId": "9aad8017-203c-469e-fbcd-8c6986caabe8"
      },
      "source": [
        "cyl_grouped = jogos_2017.groupby('gamename').mean().reset_index()\n",
        "plt.bar(cyl_grouped['gamename'], cyl_grouped['avg'])\n",
        "plt.title('Comparação de jogadores por ano: 2017')\n",
        "plt.show()"
      ],
      "execution_count": null,
      "outputs": [
        {
          "output_type": "display_data",
          "data": {
            "image/png": "[encoded data removed]",
            "text/plain": [
              "<Figure size 432x288 with 1 Axes>"
            ]
          },
          "metadata": {
            "tags": [],
            "needs_background": "light"
          }
        }
      ]
    },
    {
      "cell_type": "code",
      "metadata": {
        "id": "84igBivE_CQo",
        "colab": {
          "base_uri": "https://localhost:8080/"
        },
        "outputId": "c14bb3f1-12c7-4379-c829-a9b6deddcddf"
      },
      "source": [
        "cyl_grouped = jogos_2018.groupby('gamename').mean().reset_index()\n",
        "plt.bar(cyl_grouped['gamename'], cyl_grouped['avg'])\n",
        "plt.title('Comparação de jogadores por ano: 2018')\n",
        "plt.show()"
      ],
      "execution_count": null,
      "outputs": [
        {
          "output_type": "display_data",
          "data": {
            "image/png": "[encoded data removed]",
            "text/plain": [
              "<Figure size 432x288 with 1 Axes>"
            ]
          },
          "metadata": {
            "tags": [],
            "needs_background": "light"
          }
        }
      ]
    },
    {
      "cell_type": "code",
      "metadata": {
        "id": "3ijWhig-_COj",
        "colab": {
          "base_uri": "https://localhost:8080/"
        },
        "outputId": "37ce56c6-37bb-4595-e027-1651da5862e8"
      },
      "source": [
        "cyl_grouped = jogos_2019.groupby('gamename').mean().reset_index()\n",
        "plt.bar(cyl_grouped['gamename'], cyl_grouped['avg'])\n",
        "plt.title('Comparação de jogadores por ano: 2019')\n",
        "plt.show()"
      ],
      "execution_count": null,
      "outputs": [
        {
          "output_type": "display_data",
          "data": {
            "image/png": "[encoded data removed]",
            "text/plain": [
              "<Figure size 432x288 with 1 Axes>"
            ]
          },
          "metadata": {
            "tags": [],
            "needs_background": "light"
          }
        }
      ]
    },
    {
      "cell_type": "code",
      "metadata": {
        "id": "LN3bYJAi_CMM",
        "colab": {
          "base_uri": "https://localhost:8080/"
        },
        "outputId": "551030d2-8c5b-4a20-8201-0976755745d9"
      },
      "source": [
        "cyl_grouped = jogos_2020.groupby('gamename').mean().reset_index()\n",
        "plt.bar(cyl_grouped['gamename'], cyl_grouped['avg'])\n",
        "plt.title('Comparação de jogadores por ano: 2020')\n",
        "plt.show()"
      ],
      "execution_count": null,
      "outputs": [
        {
          "output_type": "display_data",
          "data": {
            "image/png": "[encoded data removed]",
            "text/plain": [
              "<Figure size 432x288 with 1 Axes>"
            ]
          },
          "metadata": {
            "tags": [],
            "needs_background": "light"
          }
        }
      ]
    },
    {
      "cell_type": "code",
      "metadata": {
        "id": "HkMPxEY5_CJb",
        "colab": {
          "base_uri": "https://localhost:8080/"
        },
        "outputId": "ac4335e7-c193-4422-b0ca-83a3f0a1aa5d"
      },
      "source": [
        "cyl_grouped = jogos_2021.groupby('gamename').mean().reset_index()\n",
        "plt.bar(cyl_grouped['gamename'], cyl_grouped['avg'])\n",
        "plt.title('Comparação de jogadores por ano: 2021')\n",
        "plt.show()"
      ],
      "execution_count": null,
      "outputs": [
        {
          "output_type": "display_data",
          "data": {
            "image/png": "[encoded data removed]",
            "text/plain": [
              "<Figure size 432x288 with 1 Axes>"
            ]
          },
          "metadata": {
            "tags": [],
            "needs_background": "light"
          }
        }
      ]
    },
    {
      "cell_type": "markdown",
      "metadata": {
        "id": "RT6U2JboBT6U"
      },
      "source": [
        "# **Separando Treino e Teste**\n",
        "\n",
        "Aqui foram separados os dados ano a ano dos 5 jogos determinado anteriormente para que seja feita logo em seguida a a parte do treinamento e teste. As massas foram separada ao meio, tornando assim 50% para treino e o outros 50% para teste\n",
        "\n"
      ]
    },
    {
      "cell_type": "code",
      "metadata": {
        "id": "vWQtbjQZE1ni"
      },
      "source": [
        "from sklearn.model_selection import train_test_split\n",
        "from sklearn.neighbors import KNeighborsClassifier\n",
        "from sklearn.metrics import accuracy_score"
      ],
      "execution_count": null,
      "outputs": []
    },
    {
      "cell_type": "code",
      "metadata": {
        "id": "3SIHAHkVM1yF"
      },
      "source": [
        "X = jogos_2017.drop('gamename', axis=1)\n",
        "X = X.drop('month', axis=1)\n",
        "X = X.drop('year', axis=1)\n",
        "X = X.drop('peak', axis=1)\n",
        "\n",
        "y = jogos_2017.gamename\n",
        "\n",
        "X_train, X_test, y_train, y_test = train_test_split(X, y, train_size = 1/2)"
      ],
      "execution_count": null,
      "outputs": []
    },
    {
      "cell_type": "markdown",
      "metadata": {
        "id": "fRH5QaYbERB4"
      },
      "source": [
        "# **Treinando scikit-learn (Classificação)**\n",
        "\n",
        "Treinamento do dataset para saber qual é o jogo baseado na sua média de jogadores mensais e seus ganhos/perdas de jogadores. Vale ressaltar, que a massa que está sendo testada abaixo está referida ao ano de 2017"
      ]
    },
    {
      "cell_type": "code",
      "metadata": {
        "id": "IAxbOBvPHe9u",
        "colab": {
          "base_uri": "https://localhost:8080/"
        },
        "outputId": "979aa9aa-e5ff-4217-9de6-70b30616d0ce"
      },
      "source": [
        "knn = KNeighborsClassifier(n_neighbors=1)\n",
        "knn.fit(X, y)"
      ],
      "execution_count": null,
      "outputs": [
        {
          "output_type": "execute_result",
          "data": {
            "text/plain": [
              "KNeighborsClassifier(algorithm='auto', leaf_size=30, metric='minkowski',\n",
              "                     metric_params=None, n_jobs=None, n_neighbors=1, p=2,\n",
              "                     weights='uniform')"
            ]
          },
          "metadata": {
            "tags": []
          },
          "execution_count": 64
        }
      ]
    },
    {
      "cell_type": "code",
      "metadata": {
        "id": "hfSZ2IbvHe6x",
        "colab": {
          "base_uri": "https://localhost:8080/"
        },
        "outputId": "500420e9-9b44-4378-adae-14e584f206dc"
      },
      "source": [
        "knn.predict([[30000,-2000]])"
      ],
      "execution_count": null,
      "outputs": [
        {
          "output_type": "execute_result",
          "data": {
            "text/plain": [
              "array(['Rocket League'], dtype=object)"
            ]
          },
          "metadata": {
            "tags": []
          },
          "execution_count": 65
        }
      ]
    },
    {
      "cell_type": "markdown",
      "metadata": {
        "id": "IS9fZWN2EZMJ"
      },
      "source": [
        "#**Verificando o desempenho do estimador do scikit-learn no conjunto de teste**\n",
        "\n",
        "Verificação o desempenho do scikit-learn medindo o mesmo na forma decimal, onde 1.0 se refere a 100%, 0.5 50% e 0.0 como 0%. Vale ressaltar, que a massa que está sendo testada abaixo está referida ao ano de 2017"
      ]
    },
    {
      "cell_type": "code",
      "metadata": {
        "id": "FXNrxnVaBz1B",
        "colab": {
          "base_uri": "https://localhost:8080/"
        },
        "outputId": "b5e94685-a9cf-4c13-92fd-a41547f84390"
      },
      "source": [
        "knn2 = KNeighborsClassifier(n_neighbors=1)\n",
        "knn2.fit(X_train, y_train)\n",
        "\n",
        "accuracy_score(y_test, knn2.predict(X_test))"
      ],
      "execution_count": null,
      "outputs": [
        {
          "output_type": "execute_result",
          "data": {
            "text/plain": [
              "0.8620689655172413"
            ]
          },
          "metadata": {
            "tags": []
          },
          "execution_count": 66
        }
      ]
    },
    {
      "cell_type": "markdown",
      "metadata": {
        "id": "jNMqq9KoJRPY"
      },
      "source": [
        "# **Testando e Treinando!**\n",
        "\n",
        "Basicamente um treino e teste como vimos nos ultimos dois tópicos, divididos ao logo dos anos de 2018, 2019 e 2020"
      ]
    },
    {
      "cell_type": "markdown",
      "metadata": {
        "id": "Z8qx_TIpJilo"
      },
      "source": [
        "# **2018**"
      ]
    },
    {
      "cell_type": "code",
      "metadata": {
        "colab": {
          "base_uri": "https://localhost:8080/"
        },
        "id": "nvQyQBERIu_b",
        "outputId": "33d6bfdd-5d21-4154-897b-62936df78819"
      },
      "source": [
        "X = jogos_2018.drop('gamename', axis=1)\n",
        "X = X.drop('month', axis=1)\n",
        "X = X.drop('year', axis=1)\n",
        "X = X.drop('peak', axis=1)\n",
        "\n",
        "y = jogos_2018.gamename\n",
        "\n",
        "X_train, X_test, y_train, y_test = train_test_split(X, y, train_size = 1/2)\n",
        "\n",
        "knn = KNeighborsClassifier(n_neighbors=1)\n",
        "knn.fit(X, y)\n",
        "\n",
        "knn2 = KNeighborsClassifier(n_neighbors=1)\n",
        "knn2.fit(X_train, y_train)\n",
        "\n",
        "accuracy_score(y_test, knn2.predict(X_test))"
      ],
      "execution_count": null,
      "outputs": [
        {
          "output_type": "execute_result",
          "data": {
            "text/plain": [
              "0.9333333333333333"
            ]
          },
          "metadata": {
            "tags": []
          },
          "execution_count": 67
        }
      ]
    },
    {
      "cell_type": "markdown",
      "metadata": {
        "id": "rC1cRqL1JmYt"
      },
      "source": [
        "# **2019**"
      ]
    },
    {
      "cell_type": "code",
      "metadata": {
        "id": "vTWqShH7Iu80",
        "colab": {
          "base_uri": "https://localhost:8080/"
        },
        "outputId": "c29d7ecf-3036-416f-f9ca-25d60f4b47a6"
      },
      "source": [
        "X = jogos_2019.drop('gamename', axis=1)\n",
        "X = X.drop('month', axis=1)\n",
        "X = X.drop('year', axis=1)\n",
        "X = X.drop('peak', axis=1)\n",
        "\n",
        "y = jogos_2019.gamename\n",
        "\n",
        "X_train, X_test, y_train, y_test = train_test_split(X, y, train_size = 1/2)\n",
        "\n",
        "knn = KNeighborsClassifier(n_neighbors=1)\n",
        "knn.fit(X, y)\n",
        "\n",
        "knn2 = KNeighborsClassifier(n_neighbors=1)\n",
        "knn2.fit(X_train, y_train)\n",
        "\n",
        "accuracy_score(y_test, knn2.predict(X_test))"
      ],
      "execution_count": null,
      "outputs": [
        {
          "output_type": "execute_result",
          "data": {
            "text/plain": [
              "0.8333333333333334"
            ]
          },
          "metadata": {
            "tags": []
          },
          "execution_count": 68
        }
      ]
    },
    {
      "cell_type": "markdown",
      "metadata": {
        "id": "C_bJVa3fJpOx"
      },
      "source": [
        "# **2020**"
      ]
    },
    {
      "cell_type": "code",
      "metadata": {
        "id": "PqN6T_Z0Iu6E",
        "colab": {
          "base_uri": "https://localhost:8080/"
        },
        "outputId": "43ffcb76-0e38-4cca-d8f7-d515342f31e4"
      },
      "source": [
        "X = jogos_2020.drop('gamename', axis=1)\n",
        "X = X.drop('month', axis=1)\n",
        "X = X.drop('year', axis=1)\n",
        "X = X.drop('peak', axis=1)\n",
        "\n",
        "y = jogos_2020.gamename\n",
        "\n",
        "X_train, X_test, y_train, y_test = train_test_split(X, y, train_size = 1/2)\n",
        "\n",
        "knn = KNeighborsClassifier(n_neighbors=1)\n",
        "knn.fit(X, y)\n",
        "\n",
        "knn2 = KNeighborsClassifier(n_neighbors=1)\n",
        "knn2.fit(X_train, y_train)\n",
        "\n",
        "accuracy_score(y_test, knn2.predict(X_test))"
      ],
      "execution_count": null,
      "outputs": [
        {
          "output_type": "execute_result",
          "data": {
            "text/plain": [
              "0.9"
            ]
          },
          "metadata": {
            "tags": []
          },
          "execution_count": 69
        }
      ]
    },
    {
      "cell_type": "markdown",
      "metadata": {
        "id": "NwyWsXN2Whzw"
      },
      "source": [
        "\n",
        "\n",
        "---\n",
        "\n"
      ]
    },
    {
      "cell_type": "markdown",
      "metadata": {
        "id": "lxTC8glxx53_"
      },
      "source": [
        "# **Dataset utilizado**\n",
        "\n",
        "\n",
        "> Popularity of games on Steam - Michal Bogacz\n",
        "(https://www.kaggle.com/michau96/popularity-of-games-on-steam)\n",
        "\n"
      ]
    },
    {
      "cell_type": "markdown",
      "metadata": {
        "id": "V_46mE7lErNK"
      },
      "source": [
        "# **Orientação**\n",
        "\n",
        "\n",
        "\n",
        "\n",
        "> Storopoli (2020). Ciência de Dados com Python: pandas, matplotlib, Scikit-Learn, TensorFlow e PyTorch: Ciência de Dados. Retrieved from https://storopoli.io/ciencia-de-dados"
      ]
    }
  ]
}